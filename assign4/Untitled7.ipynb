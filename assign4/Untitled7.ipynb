{
  "nbformat": 4,
  "nbformat_minor": 0,
  "metadata": {
    "colab": {
      "name": "Untitled3.ipynb",
      "provenance": []
    },
    "kernelspec": {
      "name": "python3",
      "display_name": "Python 3"
    }
  },
  "cells": [
    {
      "cell_type": "code",
      "metadata": {
        "id": "_bVuNqB4p1Fn"
      },
      "source": [
        "import numpy as np\n",
        "# !pip install opencv-contrib-python==3.4.2.17\n",
        "import cv2\n",
        "from sklearn.cluster import KMeans\n",
        "from sklearn.model_selection import StratifiedKFold   \n",
        "import keras\n",
        "from keras.datasets import cifar10\n",
        "from scipy.cluster.vq import *\n",
        "from sklearn.preprocessing import StandardScaler\n",
        "from sklearn.model_selection import train_test_split\n",
        "from sklearn.neighbors import KNeighborsClassifier\n",
        "import sklearn.metrics as metrics"
      ],
      "execution_count": null,
      "outputs": []
    },
    {
      "cell_type": "code",
      "metadata": {
        "colab": {
          "base_uri": "https://localhost:8080/",
          "height": 276
        },
        "id": "qyBAdA3wqWsh",
        "outputId": "a19dbe82-5552-4af3-a948-8eafecf0e56d"
      },
      "source": [
        "!pip install opencv-contrib-python==4.4.0.44"
      ],
      "execution_count": null,
      "outputs": [
        {
          "output_type": "stream",
          "text": [
            "Collecting opencv-contrib-python==4.4.0.44\n",
            "\u001b[?25l  Downloading https://files.pythonhosted.org/packages/20/d9/69a0c855c6e11037574e303bd158abf63c1e328ff16dfb175ca5599cc77d/opencv_contrib_python-4.4.0.44-cp37-cp37m-manylinux2014_x86_64.whl (55.7MB)\n",
            "\u001b[K     |████████████████████████████████| 55.7MB 85kB/s \n",
            "\u001b[?25hRequirement already satisfied: numpy>=1.14.5 in /usr/local/lib/python3.7/dist-packages (from opencv-contrib-python==4.4.0.44) (1.19.5)\n",
            "Installing collected packages: opencv-contrib-python\n",
            "  Found existing installation: opencv-contrib-python 4.1.2.30\n",
            "    Uninstalling opencv-contrib-python-4.1.2.30:\n",
            "      Successfully uninstalled opencv-contrib-python-4.1.2.30\n",
            "Successfully installed opencv-contrib-python-4.4.0.44\n"
          ],
          "name": "stdout"
        },
        {
          "output_type": "display_data",
          "data": {
            "application/vnd.colab-display-data+json": {
              "pip_warning": {
                "packages": [
                  "cv2"
                ]
              }
            }
          },
          "metadata": {
            "tags": []
          }
        }
      ]
    },
    {
      "cell_type": "code",
      "metadata": {
        "id": "0PzVjPrzqApR"
      },
      "source": [
        "# def desSIFT(image):\n",
        "#     sift = cv2.SIFT_create()\n",
        "#     kp, des = sift.detectAndCompute(image,None)\n",
        "#     #draw keypoints\n",
        "#     #import matplotlib.pyplot as plt\t\t\n",
        "#     #img2 = cv2.drawKeypoints(img,kp,None,(255,0,0),4)\n",
        "#     #plt.imshow(img2),plt.show()\n",
        "#     return kp,des\n",
        "\n",
        "# # def describeSURF( image):\n",
        "# #     surf = cv2.xfeatures2d.SURF_create()\n",
        "# #     # it is better to have this value between 300 and 500\n",
        "# # #     surf.setHessianThreshold(400)\n",
        "# #     kp, des = surf.detectAndCompute(image,None)\n",
        "# #     return kp,des\n",
        "\n",
        "\n",
        "# def getDescriptors(images) : \n",
        "#     descriptors = []\n",
        "#     labels = []\n",
        "#     count = 0\n",
        "    \n",
        "#     sift_vectors = {}\n",
        "#     descriptor_list = []\n",
        "\n",
        "#     print (images.shape)\n",
        "#     for image in images : \n",
        "#         features = []\n",
        "#         # print (image.shape)\n",
        "#         #Converting the image into grayscale         \n",
        "#         image = cv2.cvtColor(image, cv2.COLOR_BGR2GRAY) \n",
        "#         #Re-sizing the image\n",
        "#         # image = cv2.resize(image, (150, 150), interpolation=cv2.INTER_AREA)\n",
        "#         kp, des = desSIFT(image)\n",
        "        \n",
        "#         if des is not None:\n",
        "#           descriptor_list.extend(des)\n",
        "#         features.append(des)\n",
        "#         sift_vectors[count] = features\n",
        "#         count+=1\n",
        "#     return [descriptor_list, sift_vectors]\n",
        "\n",
        "#     #     if des is not None : \n",
        "#     #         # print (des.shape)\n",
        "#     #         descriptors.append(des)\n",
        "#     #         labels.append(int(labels_g[count]))\n",
        "#     #     count += 1\n",
        "            \n",
        "    \n",
        "#     # # print (len(labels))\n",
        "    \n",
        "#     # descriptorsFin = descriptors[0]\n",
        "    \n",
        "#     # for descriptor in descriptors[1:]:\n",
        "#     #     if descriptor is not None:\n",
        "#     #         descriptorsFin = np.vstack((descriptorsFin, descriptor))\n",
        "    \n",
        "        \n",
        "#     # return descriptorsFin, descriptors, labels"
      ],
      "execution_count": null,
      "outputs": []
    },
    {
      "cell_type": "code",
      "metadata": {
        "id": "zMHwNa1GlzSx"
      },
      "source": [
        ""
      ],
      "execution_count": null,
      "outputs": []
    },
    {
      "cell_type": "code",
      "metadata": {
        "id": "Unk5yLRvoAnf"
      },
      "source": [
        "# len(descriptor_list[0])\n",
        "\n",
        "# sift_des = np.array(descriptor_list)\n",
        "# sift_des.shape"
      ],
      "execution_count": null,
      "outputs": []
    },
    {
      "cell_type": "code",
      "metadata": {
        "id": "laEJl1oxnPQn"
      },
      "source": [
        "# from sklearn.cluster import KMeans\n",
        "# from sklearn.model_selection import StratifiedKFold   \n",
        "# from scipy.cluster.vq import *\n",
        "# from sklearn.preprocessing import StandardScaler\n",
        "# from sklearn.model_selection import train_test_split\n",
        "# from sklearn.neighbors import KNeighborsClassifier\n",
        "# import sklearn.metrics as metrics\n",
        "\n",
        "# voc,  variance = kmeans((sift_des), k, 1)\n",
        "# print (np.concatenate((y_train, y_test)).shape)"
      ],
      "execution_count": null,
      "outputs": []
    },
    {
      "cell_type": "code",
      "metadata": {
        "id": "HAQF9oDinQ0O"
      },
      "source": [
        "# print (len(sift_labels))\n",
        "# print (len(sift_des))\n",
        "\n",
        "# # Constructing a histogram of k clusters and number of images having those clusters\n",
        "# imageFeatures = np.zeros((len(sift_labels), k), \"float32\")\n",
        "# for i in range(len(sift_labels)):\n",
        "#     words, distance = vq(descriptors[i],voc)\n",
        "#     for w in words:\n",
        "#         imageFeatures[i][w] += 1"
      ],
      "execution_count": null,
      "outputs": []
    },
    {
      "cell_type": "code",
      "metadata": {
        "id": "xPErkyr5nTmr"
      },
      "source": [
        "# stdSlr = StandardScaler().fit(imageFeatures)\n",
        "# imageFeatures = stdSlr.transform(imageFeatures)"
      ],
      "execution_count": null,
      "outputs": []
    },
    {
      "cell_type": "code",
      "metadata": {
        "id": "O9HUt-nQnWBG"
      },
      "source": [
        "# X_train, X_test, y_train, y_test = train_test_split(imageFeatures, sift_labels, test_size=0.1, random_state=4)"
      ],
      "execution_count": null,
      "outputs": []
    },
    {
      "cell_type": "code",
      "metadata": {
        "id": "4ymcr_XVnY57"
      },
      "source": [
        "# clf = cv2.ml.KNearest_create()\n",
        "# clf.train(X_train, cv2.ml.ROW_SAMPLE, np.asarray(y_train, dtype=np.float32))"
      ],
      "execution_count": null,
      "outputs": []
    },
    {
      "cell_type": "code",
      "metadata": {
        "id": "Vkl2Z6iund9Z"
      },
      "source": [
        "# ret, results, neighbours ,dist = clf.findNearest(X_test, k=10)"
      ],
      "execution_count": null,
      "outputs": []
    },
    {
      "cell_type": "code",
      "metadata": {
        "colab": {
          "base_uri": "https://localhost:8080/"
        },
        "id": "ww-tPoxAqEx3",
        "outputId": "0c645ccf-d4c7-460a-f508-f3be5b11d7dd"
      },
      "source": [
        "(x_train, y_train), (x_test, y_test) = cifar10.load_data()\n",
        "print('x_train shape:', x_train.shape)\n",
        "print(x_train.shape[0], 'train samples')\n",
        "print(x_test.shape[0], 'test samples')"
      ],
      "execution_count": null,
      "outputs": [
        {
          "output_type": "stream",
          "text": [
            "x_train shape: (50000, 32, 32, 3)\n",
            "50000 train samples\n",
            "10000 test samples\n"
          ],
          "name": "stdout"
        }
      ]
    },
    {
      "cell_type": "code",
      "metadata": {
        "colab": {
          "base_uri": "https://localhost:8080/"
        },
        "id": "HyDR7Ijai9Ub",
        "outputId": "6bbc8c90-85bb-479f-ea26-c092da64d71a"
      },
      "source": [
        "from sklearn.model_selection import train_test_split\n",
        "\n",
        "# second_size = 45000/50000\n",
        "\n",
        "# X1, X2 = train_test_split(x_train, test_size=second_size)\n",
        "# Xt1, Xt2 = train_test_split(x_test, test_size=second_size)\n",
        "# Y1, Y2 = train_test_split(y_train, test_size=second_size)\n",
        "# Yt1, Yt2 = train_test_split(y_test, test_size=second_size)\n",
        "\n",
        "# x_train = X2\n",
        "# x_test = Xt2\n",
        "\n",
        "# y_train = Y2\n",
        "# y_test = Yt2\n",
        "\n",
        "# k = 50\n",
        "\n",
        "x = np.concatenate((x_train,x_test),axis = 0)\n",
        "y = np.concatenate((y_train,y_test),axis = 0)\n",
        "print('X1 shape: ', x.shape)\n",
        "print('X2 shape: ', y.shape)"
      ],
      "execution_count": null,
      "outputs": [
        {
          "output_type": "stream",
          "text": [
            "X1 shape:  (60000, 32, 32, 3)\n",
            "X2 shape:  (60000, 1)\n"
          ],
          "name": "stdout"
        }
      ]
    },
    {
      "cell_type": "code",
      "metadata": {
        "id": "kSOJBk9f4r_L"
      },
      "source": [
        "def desSIFT(image):\n",
        "    sift = cv2.SIFT_create()\n",
        "    kp, des = sift.detectAndCompute(image,None)\n",
        "    #draw keypoints\n",
        "    #import matplotlib.pyplot as plt\t\t\n",
        "    #img2 = cv2.drawKeypoints(img,kp,None,(255,0,0),4)\n",
        "    #plt.imshow(img2),plt.show()\n",
        "    return kp,des\n",
        "\n",
        "def sift_features(images,labels_g):\n",
        "    sift_vectors = {}\n",
        "    descriptor_list = []\n",
        "    # sift = cv2.xfeatures2d.SIFT_create()\n",
        "    count = 0\n",
        "    labels = []\n",
        "    for image in images:\n",
        "        features = []\n",
        "        image = cv2.cvtColor(image, cv2.COLOR_BGR2GRAY) \n",
        "        #Re-sizing the image\n",
        "        # image = cv2.resize(image, (150, 150), interpolation=cv2.INTER_AREA)\n",
        "        kp, des = desSIFT(image)\n",
        "\n",
        "        # kp, des = sift.detectAndCompute(value,None)\n",
        "           \n",
        "        if des is not None:\n",
        "            descriptor_list.extend(des)\n",
        "            features.append(des)\n",
        "            sift_vectors[count] = features        \n",
        "            labels.append((count,int(labels_g[count])))\n",
        "        count += 1\n",
        "    return [descriptor_list,sift_vectors,labels]\n",
        "\n",
        "sifts = sift_features(x,y) \n",
        "# Takes the descriptor list which is unordered one\n",
        "descriptor_list = sifts[0]\n",
        "# Takes the sift features that is seperated class by class for train data\n",
        "all_bovw_feature = sifts[1] \n",
        "sift_labels = sifts[2]\n",
        "# Takes the sift features that is seperated class by class for test data\n",
        "# test_bovw_feature = sift_features(x_test,y_test)[1] "
      ],
      "execution_count": null,
      "outputs": []
    },
    {
      "cell_type": "code",
      "metadata": {
        "id": "c2tAa2jGqI_U"
      },
      "source": [
        "# imgX = x_train\n",
        "# imgY = y_train\n",
        "# sifts = getDescriptors(imgX)\n",
        "\n",
        "# testimgX = x_test\n",
        "# testimgY = y_test\n",
        "\n",
        "# descriptor_list = sifts[0] \n",
        "# # Takes the sift features that is seperated class by class for train data\n",
        "# all_bovw_feature = sifts[1] \n",
        "# # Takes the sift features that is seperated class by class for test data\n",
        "# test_bovw_feature = getDescriptors(testimgX)[1] \n",
        "\n",
        "k = 100"
      ],
      "execution_count": null,
      "outputs": []
    },
    {
      "cell_type": "code",
      "metadata": {
        "id": "XbhlAKxNzCXG"
      },
      "source": [
        "def kmeans(k, descriptor_list):\n",
        "    kmeans = KMeans(n_clusters = k, n_init=1)\n",
        "    kmeans.fit(descriptor_list)\n",
        "    visual_words = kmeans.cluster_centers_ \n",
        "    return visual_words\n",
        "    \n",
        "# Takes the central points which is visual words    \n",
        "visual_words = kmeans(k, descriptor_list) "
      ],
      "execution_count": null,
      "outputs": []
    },
    {
      "cell_type": "code",
      "metadata": {
        "id": "tyV0tOJ92dbG"
      },
      "source": [
        "import os\n",
        "from scipy import ndimage\n",
        "from scipy.spatial import distance\n",
        "from sklearn.cluster import KMeans"
      ],
      "execution_count": null,
      "outputs": []
    },
    {
      "cell_type": "code",
      "metadata": {
        "id": "QJ5SCGnJzUUs"
      },
      "source": [
        "# def image_class(all_bovw, centers):\n",
        "#     dict_feature = {}\n",
        "#     for key,value in all_bovw.items():\n",
        "#         category = []\n",
        "#         for img in value:\n",
        "#             histogram = np.zeros(len(centers))\n",
        "#             for each_feature in img:\n",
        "#                 ind = np.where(centers == each_feature)[0]\n",
        "#                 histogram[ind] += 1\n",
        "#             category.append(histogram)\n",
        "#         dict_feature[key] = category\n",
        "#     return dict_feature\n",
        "    \n",
        "# # Creates histograms for train data    \n",
        "# bovw_train = image_class(all_bovw_feature, visual_words) \n",
        "# # Creates histograms for test data\n",
        "# bovw_test = image_class(test_bovw_feature, visual_words) "
      ],
      "execution_count": null,
      "outputs": []
    },
    {
      "cell_type": "code",
      "metadata": {
        "id": "OKDpEbE50-m1"
      },
      "source": [
        "# def knn(images, tests):\n",
        "#     num_test = 0\n",
        "#     correct_predict = 0\n",
        "#     class_based = {}\n",
        "    \n",
        "#     for test_key, test_val in tests.items():\n",
        "#         class_based[test_key] = [0, 0] # [correct, all]\n",
        "#         for tst in test_val:\n",
        "#             predict_start = 0\n",
        "#             #print(test_key)\n",
        "#             minimum = 0\n",
        "#             key = \"a\" #predicted\n",
        "#             for train_key, train_val in images.items():\n",
        "#                 for train in train_val:\n",
        "#                     if(predict_start == 0):\n",
        "#                         minimum = distance.euclidean(tst, train)\n",
        "#                         #minimum = L1_dist(tst,train)\n",
        "#                         key = train_key\n",
        "#                         predict_start += 1\n",
        "#                     else:\n",
        "#                         dist = distance.euclidean(tst, train)\n",
        "#                         #dist = L1_dist(tst,train)\n",
        "#                         if(dist < minimum):\n",
        "#                             minimum = dist\n",
        "#                             key = train_key\n",
        "            \n",
        "#             if(test_key == key):\n",
        "#                 correct_predict += 1\n",
        "#                 class_based[test_key][0] += 1\n",
        "#             num_test += 1\n",
        "#             class_based[test_key][1] += 1\n",
        "#             #print(minimum)\n",
        "#     return [num_test, correct_predict, class_based]\n",
        "    \n",
        "# # Call the knn function    \n",
        "# results_bowl = knn(bovw_train, bovw_test)"
      ],
      "execution_count": null,
      "outputs": []
    },
    {
      "cell_type": "code",
      "metadata": {
        "id": "GlAbaYWP2wPw"
      },
      "source": [
        "# def accuracy(results):\n",
        "#     avg_accuracy = (results[1] / results[0]) * 100\n",
        "#     print(\"Average accuracy: %\" + str(avg_accuracy))\n",
        "#     print(\"\\nClass based accuracies: \\n\")\n",
        "#     for key,value in results[2].items():\n",
        "#         acc = (value[0] / value[1]) * 100\n",
        "#         print(str(key) + \" : %\" + str(acc))\n",
        "        \n",
        "# # Calculates the accuracies and write the results to the console.       \n",
        "# accuracy(results_bowl) "
      ],
      "execution_count": null,
      "outputs": []
    },
    {
      "cell_type": "code",
      "metadata": {
        "id": "-H6hStn2DQUu"
      },
      "source": [
        "#for i in range(len(all_bovw_feature)):\n",
        "# del all_bovw_feature[112]"
      ],
      "execution_count": null,
      "outputs": []
    },
    {
      "cell_type": "code",
      "metadata": {
        "id": "leItgsCHznTx"
      },
      "source": [
        "len(all_bovw_feature)\n",
        "for i,val in all_bovw_feature.items():\n",
        "  print(i)"
      ],
      "execution_count": null,
      "outputs": []
    },
    {
      "cell_type": "code",
      "metadata": {
        "id": "Xn4IcW-pK4Ab"
      },
      "source": [
        "# print (len(sift_labels))\n",
        "# print (len(sift_des))\n",
        "\n",
        "# from sklearn.cluster import KMeans\n",
        "from sklearn.model_selection import StratifiedKFold   \n",
        "from scipy.cluster.vq import *\n",
        "from sklearn.preprocessing import StandardScaler\n",
        "from sklearn.model_selection import train_test_split\n",
        "from sklearn.neighbors import KNeighborsClassifier\n",
        "import sklearn.metrics as metrics\n",
        "\n",
        "# Constructing a histogram of k clusters and number of images having those clusters\n",
        "imageFeatures = np.zeros((len(sift_labels), k), \"float32\")\n",
        "# for key,value in all_bovw_feature.items():\n",
        "for i in range(len(sift_labels)):\n",
        "    # print(key)\n",
        "    words, distance = vq(all_bovw_feature[sift_labels[i][0]][0],visual_words)\n",
        "    for w in words:\n",
        "      # print(key)\n",
        "      imageFeatures[i][w] += 1"
      ],
      "execution_count": null,
      "outputs": []
    },
    {
      "cell_type": "code",
      "metadata": {
        "id": "FenCnSvaK6b9"
      },
      "source": [
        "stdSlr = StandardScaler().fit(imageFeatures)\n",
        "imageFeatures = stdSlr.transform(imageFeatures)"
      ],
      "execution_count": null,
      "outputs": []
    },
    {
      "cell_type": "code",
      "metadata": {
        "id": "DWtbZXBOZn4-"
      },
      "source": [
        "len(imageFeatures)"
      ],
      "execution_count": null,
      "outputs": []
    },
    {
      "cell_type": "code",
      "metadata": {
        "id": "FczrVK36LCoX"
      },
      "source": [
        "sift_labls = []\n",
        "for i in range(len(sift_labels)):\n",
        "  sift_labls.append(sift_labels[i][1])\n",
        "X_train, X_test, y_train, y_test = train_test_split(imageFeatures, sift_labls, test_size=0.1667, random_state=4)"
      ],
      "execution_count": null,
      "outputs": []
    },
    {
      "cell_type": "code",
      "metadata": {
        "colab": {
          "base_uri": "https://localhost:8080/"
        },
        "id": "ZVq91KbKK9vu",
        "outputId": "ede6410e-cec1-42f7-d38f-d77b9b60ff5e"
      },
      "source": [
        "\n",
        "# Training the train data using knn\n",
        "clf = cv2.ml.KNearest_create()\n",
        "clf.train(X_train, cv2.ml.ROW_SAMPLE, np.asarray(y_train, dtype=np.float32))"
      ],
      "execution_count": null,
      "outputs": [
        {
          "output_type": "execute_result",
          "data": {
            "text/plain": [
              "True"
            ]
          },
          "metadata": {
            "tags": []
          },
          "execution_count": 46
        }
      ]
    },
    {
      "cell_type": "code",
      "metadata": {
        "id": "6j2dj2d6LFwN"
      },
      "source": [
        "ret, results, neighbours ,dist = clf.findNearest(X_test, k=10)"
      ],
      "execution_count": null,
      "outputs": []
    },
    {
      "cell_type": "code",
      "metadata": {
        "colab": {
          "base_uri": "https://localhost:8080/"
        },
        "id": "quLB23_QLIXJ",
        "outputId": "a9d7c10f-7593-49f8-c3b2-3e3e2aaf1507"
      },
      "source": [
        "pred_label = []\n",
        "for var in results:\n",
        "    label = var\n",
        "    pred_label.append(int(label))\n",
        "\n",
        "print (y_test)\n",
        "print (pred_label)\n",
        "    \n",
        "# Measuring the accuracies\n",
        "metrics.accuracy_score(y_test, pred_label)"
      ],
      "execution_count": null,
      "outputs": [
        {
          "output_type": "stream",
          "text": [
            "[9, 7, 0, 5, 4, 5, 5, 0, 5, 1, 0, 7, 2, 3, 8, 0, 5, 6, 9, 8, 3, 5, 1, 8, 9, 9, 2, 4, 2, 9, 4, 1, 4, 0, 0, 7, 8, 6, 9, 7, 6, 7, 3, 1, 3, 4, 2, 3, 0, 4, 0, 1, 5, 5, 7, 2, 5, 5, 9, 6, 9, 3, 4, 9, 1, 9, 6, 0, 5, 2, 8, 8, 5, 5, 0, 8, 4, 0, 6, 3, 6, 9, 8, 0, 2, 9, 9, 5, 6, 4, 6, 3, 2, 3, 2, 6, 5, 6, 6, 9, 0, 5, 0, 0, 6, 1, 9, 0, 4, 5, 9, 0, 7, 9, 2, 2, 1, 3, 1, 1, 6, 0, 2, 2, 6, 0, 9, 3, 0, 5, 8, 1, 7, 0, 9, 6, 0, 9, 3, 0, 8, 6, 1, 0, 5, 0, 8, 4, 4, 3, 2, 5, 2, 0, 0, 9, 1, 2, 0, 9, 2, 7, 1, 4, 4, 1, 1, 3, 9, 0, 6, 6, 5, 5, 0, 2, 0, 1, 0, 7, 5, 4, 7, 9, 2, 7, 3, 2, 7, 9, 5, 7, 0, 7, 4, 9, 6, 1, 8, 4, 1, 5, 3, 1, 5, 7, 6, 3, 6, 4, 6, 3, 0, 3, 3, 1, 1, 8, 4, 5, 7, 5, 9, 3, 9, 7, 1, 0, 6, 8, 8, 9, 7, 7, 4, 6, 8, 0, 4, 5, 1, 9, 4, 3, 1, 5, 4, 1, 8, 7, 7, 8, 6, 5, 1, 2, 2, 7, 0, 6, 9, 8, 5, 8, 7, 1, 8, 4, 5, 2, 6, 9, 5, 3, 7, 2, 9, 8, 0, 6, 5, 0, 6, 7, 9, 1, 5, 3, 4, 3, 2, 9, 6, 7, 2, 8, 8, 0, 3, 2, 0, 3, 9, 3, 3, 2, 2, 5, 6, 8, 5, 6, 5, 2, 0, 3, 1, 4, 0, 9, 4, 8, 0, 4, 9, 6, 9, 4, 2, 7, 9, 7, 8, 7, 3, 4, 4, 1, 0, 0, 2, 3, 0, 1, 0, 2, 7, 5, 3, 1, 3, 3, 7, 0, 7, 7, 8, 5, 2, 4, 0, 0, 8, 3, 1, 5, 3, 8, 9, 2, 6, 5, 5, 0, 8, 1, 8, 8, 9, 2, 8, 2, 0, 9, 5, 2, 0, 1, 8, 3, 3, 8, 0, 6, 9, 0, 8, 8, 7, 2, 9, 2, 2, 7, 0, 3, 0, 8, 8, 0, 0, 0, 0, 5, 8, 9, 0, 7, 7, 0, 7, 7, 6, 9, 5, 1, 5, 1, 9, 6, 1, 9, 1, 6, 0, 8, 4, 1, 2, 3, 2, 2, 4, 9, 7, 0, 9, 9, 8, 5, 9, 1, 5, 9, 1, 4, 8, 2, 5, 1, 9, 5, 0, 4, 6, 7, 7, 8, 2, 9, 4, 1, 8, 2, 1, 9, 9, 4, 9, 9, 4, 8, 5, 8, 5, 7, 7, 9, 1, 3, 0, 6, 4, 5, 9, 1, 8, 6, 5, 7, 0, 9, 3, 0, 3, 6, 6, 2, 9, 2, 1, 3, 4, 2, 3, 4, 2, 7, 1, 4, 2, 4, 5, 8, 5, 8, 5, 5, 7, 8, 5, 0, 1, 7, 5, 0, 5, 5, 5, 2, 9, 6, 7, 2, 9, 8, 1, 3, 7, 6, 8, 5, 7, 5, 2, 7, 2, 9, 5, 3, 2, 2, 7, 2, 0, 4, 5, 1, 0, 7, 8, 5, 6, 5, 6, 8, 1, 6, 6, 1, 8, 4, 8, 4, 9, 3, 6, 3, 9, 2, 8, 0, 4, 8, 9, 5, 0, 2, 9, 5, 4, 6, 8, 0, 3, 7, 0, 1, 5, 4, 7, 8, 4, 0, 6, 5, 3, 3, 2, 9, 0, 1, 7, 0, 7, 5, 9, 4, 3, 0, 3, 2, 9, 6, 2, 3, 8, 3, 1, 0, 7, 5, 9, 9, 8, 0, 4, 6, 3, 9, 3, 0, 9, 4, 8, 2, 6, 2, 3, 8, 9, 6, 2, 6, 7, 1, 8, 3, 6, 0, 0, 2, 9, 2, 8, 7, 8, 7, 1, 0, 9, 4, 7, 6, 8, 2, 6, 6, 2, 4, 0, 4, 4, 5, 8, 3, 1, 9, 9, 6, 4, 8, 4, 0, 9, 8, 1, 5, 0, 2, 9, 9, 6, 1, 7, 2, 5, 6, 0, 2, 4, 7, 6, 0, 2, 3, 2, 3, 2, 7, 5, 9, 1, 1, 8, 6, 0, 7, 1, 1, 1, 0, 1, 4, 1, 0, 5, 7, 1, 5, 9, 7, 8, 2, 1, 2, 4, 3, 9, 9, 8, 8, 2, 3, 6, 6, 4, 3, 2, 6, 1, 3, 5, 6, 4, 1, 2, 6, 9, 4, 5, 2, 1, 9, 5, 5, 1, 8, 6, 1, 3, 4, 3, 7, 3, 3, 2, 0, 5, 8, 6, 3, 3, 4, 9, 0, 8, 1, 7, 0, 9, 0, 3, 7, 4, 1, 6, 9, 3, 9, 9, 9, 3, 1, 3, 3, 0, 7, 3, 5, 2, 1, 4, 2, 9, 7, 0, 8, 4, 8, 8, 3, 6, 4, 2, 9, 0, 2, 1, 1, 0, 0, 0, 3, 6, 1, 1, 7, 3, 1, 4, 0, 4, 6, 8, 5, 0, 1, 6, 2, 0, 3, 0, 1, 9, 4, 7, 4, 1, 8, 4, 0, 0, 4, 8, 5, 0, 9, 6, 9, 9, 3, 9, 8, 9, 8, 9, 9, 8, 1, 0, 0, 6, 3, 2, 9, 5, 6, 8, 6, 9, 9, 7, 8, 0, 4, 2, 4, 1, 2, 3, 3, 4, 8, 9, 0, 1, 8, 3, 7, 2, 5, 5, 0, 4, 7, 6, 9, 3, 2, 3, 5, 0, 2, 4, 1, 7, 0, 9, 8, 5, 2, 2, 8, 4, 2, 4, 0, 7, 5, 1, 0, 6, 1, 7, 5, 2, 5, 8, 4, 0, 8, 2, 0, 0, 7, 6, 7, 2, 8, 7, 6, 8, 7, 0, 7, 3, 4, 9, 9, 3, 2, 0, 9, 8, 9, 8, 2, 1, 6, 6, 7, 8, 5, 6, 9, 6, 2, 7, 7, 9, 4, 4, 3, 7, 2, 3, 1, 3, 6, 3, 1, 2, 8, 4, 8, 1, 4, 7, 4, 4, 5, 0, 6, 8, 9, 5, 2, 2, 4, 0, 2, 9, 4, 5, 1, 1, 0, 4, 0, 3, 0, 7, 9, 3, 2, 4, 3, 4, 0, 1, 2, 4, 9, 3, 2, 7, 2, 0, 2, 4, 0, 7, 1, 4, 7, 4, 6, 6, 1, 9, 9, 0, 2, 3, 0, 4, 1, 2, 8, 4, 6, 8, 3, 7, 5, 7, 2, 6, 9, 3, 9, 9, 5, 8, 6, 8, 1, 2, 4, 8, 1, 6, 1, 0, 9, 1, 5, 7, 7, 5, 5, 6, 2, 1, 7, 5, 0, 5, 0, 6, 2, 7, 3, 4, 0, 1, 9, 7, 2, 3, 3, 3, 9, 5, 8, 4, 1, 2, 9, 7, 5, 7, 8, 7, 8, 4, 6, 5, 8, 3, 8, 2, 0, 9, 9, 2, 9, 3, 9, 9, 4, 4, 6, 8, 3, 8, 5, 6, 8, 3, 5, 0, 9, 1, 4, 5, 0, 7, 0, 0, 5, 3, 5, 0, 8, 3, 0, 4, 7, 5, 8, 3, 0, 3, 0, 4, 4, 4, 5, 3, 6, 8, 5, 7, 2, 0, 2, 1, 3, 6, 5, 4, 3, 4, 3, 0, 3, 7, 9, 6, 9, 1, 1, 7, 2, 2, 6, 6, 4, 9, 8, 3, 0, 7, 7, 2, 4, 0, 6, 7, 2, 3, 9, 3, 9, 9, 1, 9, 4, 2, 5, 5, 2, 1, 3, 6, 0, 0, 7, 7, 8, 2, 2, 5, 3, 4, 5, 2, 1, 3, 9, 3, 8, 2, 0, 9, 7, 5, 6, 6, 1, 7, 8, 9, 3, 6, 0, 7, 8, 6, 2, 4, 9, 5, 1, 5, 9, 8, 4, 3, 9, 2, 9, 6, 6, 5, 1, 5, 8, 5, 3, 0, 5, 7, 8, 2, 5, 5, 4, 4, 1, 3, 1, 7, 7, 0, 2, 8, 7, 6, 0, 6, 8, 5, 9, 2, 4, 8, 5, 9, 3, 3, 6, 0, 9, 8, 4, 5, 8, 5, 1, 5, 6, 6, 2, 3, 7, 7, 6, 9, 9, 1, 4, 5, 2, 5, 2, 4, 7, 2, 5, 7, 7, 6, 6, 6, 8, 5, 9, 0, 5, 3, 8, 1, 0, 8, 8, 3, 7, 6, 1, 1, 0, 9, 5, 2, 0, 4, 7, 1, 7, 4, 5, 9, 7, 9, 5, 8, 8, 5, 7, 0, 0, 9, 0, 9, 5, 7, 5, 4, 9, 8, 9, 7, 4, 7, 0, 3, 8, 1, 4, 8, 2, 5, 1, 6, 0, 4, 3, 5, 9, 2, 9, 7, 8, 7, 3, 1, 7, 3, 2, 1, 7, 5, 0, 0, 3, 5, 8, 7, 7, 0, 6, 5, 1, 2, 9, 8, 1, 7, 2, 7, 7, 6, 9, 7, 3, 6, 9, 2, 8, 1, 1, 8, 1, 9, 2, 5, 8, 5, 0, 4, 9, 5, 4, 6, 9, 3, 7, 5, 7, 4, 6, 3, 2, 3, 4, 3, 4, 0, 1, 9, 9, 8, 4, 4, 7, 5, 4, 8, 6, 1, 5, 6, 5, 7, 7, 5, 0, 2, 8, 6, 1, 0, 9, 1, 0, 9, 1, 2, 4, 1, 2, 3, 6, 4, 5, 6, 7, 1, 4, 4, 3, 2, 0, 3, 9, 9, 3, 9, 0, 3, 6, 3, 8, 6, 5, 1, 6, 7, 0, 7, 3, 6, 5, 2, 8, 3, 5, 9, 0, 8, 2, 7, 9, 0, 8, 6, 9, 1, 3, 1, 0, 1, 7, 4, 1, 0, 2, 5, 9, 3, 3, 4, 8, 5, 0, 8, 3, 9, 7, 6, 9, 9, 4, 2, 8, 0, 7, 1, 0, 8, 4, 4, 4, 1, 7, 0, 1, 2, 4, 6, 3, 7, 3, 2, 6, 6, 0, 6, 0, 5, 8, 6, 7, 5, 9, 5, 7, 7, 4, 2, 2, 2, 6, 8, 7, 4, 5, 0, 4, 1, 8, 1, 1, 2, 7, 5, 2, 7, 7, 1, 1, 2, 2, 3, 2, 1, 0, 5, 2, 4, 6, 7, 6, 7, 7, 3, 0, 5, 7, 1, 8, 6, 2, 6, 6, 8, 2, 4, 2, 2, 0, 6, 2, 3, 8, 9, 1, 5, 2, 4, 7, 7, 6, 5, 3, 8, 8, 3, 2, 6, 1, 0, 7, 8, 7, 6, 1, 9, 6, 3, 2, 1, 0, 2, 3, 9, 6, 3, 3, 9, 2, 9, 6, 5, 9, 6, 9, 9, 7, 8, 1, 2, 9, 7, 0, 2, 8, 8, 7, 4, 7, 9, 2, 1, 1, 2, 9, 3, 5, 1, 7, 0, 6, 9, 9, 8, 3, 2, 6, 3, 5, 1, 8, 6, 1, 4, 6, 9, 3, 8, 4, 7, 5, 9, 3, 4, 3, 9, 2, 3, 8, 9, 8, 4, 8, 2, 2, 5, 7, 3, 6, 8, 6, 2, 3, 3, 9, 8, 0, 9, 1, 4, 1, 3, 3, 6, 9, 9, 4, 7, 3, 8, 5, 7, 7, 7, 9, 6, 8, 5, 6, 6, 3, 8, 4, 8, 3, 9, 1, 5, 1, 1, 7, 4, 9, 9, 0, 1, 6, 5, 7, 7, 8, 6, 8, 3, 2, 9, 2, 4, 6, 4, 0, 4, 4, 9, 5, 9, 2, 9, 7, 0, 7, 9, 7, 6, 1, 7, 0, 5, 3, 7, 5, 6, 7, 6, 0, 7, 0, 2, 6, 9, 8, 6, 1, 8, 2, 6, 4, 4, 4, 4, 5, 8, 4, 6, 7, 0, 4, 3, 4, 4, 7, 2, 6, 1, 1, 1, 8, 0, 8, 2, 4, 6, 9, 9, 5, 6, 2, 8, 9, 2, 6, 0, 2, 1, 3, 2, 1, 0, 9, 0, 7, 1, 2, 4, 6, 9, 8, 9, 3, 3, 0, 0, 5, 4, 2, 0, 3, 9, 7, 4, 7, 8, 3, 6, 3, 1, 4, 4, 9, 3, 3, 7, 5, 9, 0, 2, 8, 5, 3, 5, 3, 1, 5, 9, 6, 9, 8, 9, 8, 0, 3, 9, 6, 8, 3, 7, 3, 0, 4, 1, 9, 5, 6, 3, 1, 9, 3, 4, 3, 2, 6, 1, 6, 6, 6, 7, 5, 4, 7, 0, 7, 2, 8, 7, 9, 5, 0, 1, 1, 5, 4, 0, 9, 4, 8, 5, 3, 6, 6, 0, 9, 0, 6, 5, 7, 5, 7, 8, 6, 2, 3, 1, 2, 8, 5, 4, 8, 6, 1, 0, 7, 8, 6, 7, 7, 7, 7, 8, 5, 0, 0, 6, 8, 9, 8, 7, 4, 9, 9, 4, 4, 3, 0, 6, 4, 4, 9, 5, 7, 8, 9, 2, 2, 2, 0, 1, 6, 8, 0, 6, 3, 5, 1, 7, 1, 4, 7, 7, 0, 2, 1, 6, 4, 1, 2, 7, 6, 4, 8, 5, 8, 5, 0, 9, 0, 5, 5, 6, 4, 1, 3, 9, 3, 0, 1, 5, 4, 4, 0, 7, 6, 1, 7, 8, 5, 0, 1, 8, 0, 6, 5, 0, 3, 5, 4, 2, 7, 0, 3, 5, 5, 4, 5, 7, 2, 7, 8, 3, 7, 4, 7, 1, 1, 7, 0, 3, 3, 0, 5, 1, 1, 6, 1, 4, 0, 2, 0, 2, 4, 0, 4, 8, 6, 5, 1, 6, 1, 7, 5, 9, 6, 8, 7, 0, 7, 2, 1, 2, 2, 3, 3, 3, 1, 9, 5, 6, 5, 2, 4, 9, 4, 3, 4, 7, 5, 0, 8, 8, 7, 9, 6, 6, 4, 1, 2, 8, 4, 6, 8, 6, 9, 6, 6, 3, 2, 3, 0, 6, 9, 4, 8, 5, 5, 4, 6, 8, 7, 9, 8, 2, 2, 2, 3, 9, 4, 8, 3, 5, 5, 7, 8, 2, 5, 5, 0, 9, 1, 1, 1, 7, 7, 2, 2, 4, 7, 3, 3, 8, 1, 5, 2, 2, 0, 4, 1, 8, 7, 1, 6, 4, 6, 0, 7, 2, 2, 8, 8, 8, 5, 1, 9, 5, 9, 9, 9, 2, 8, 2, 0, 1, 2, 7, 1, 7, 6, 0, 6, 0, 1, 0, 1, 3, 1, 8, 8, 1, 5, 0, 3, 2, 1, 1, 1, 5, 9, 1, 0, 6, 4, 1, 0, 7, 1, 1, 8, 9, 9, 3, 9, 7, 7, 8, 8, 3, 3, 4, 4, 9, 1, 8, 1, 9, 4, 0, 5, 1, 1, 6, 1, 2, 5, 3, 5, 6, 1, 4, 6, 3, 3, 9, 5, 2, 0, 6, 7, 9, 8, 7, 0, 2, 6, 3, 9, 9, 1, 4, 1, 5, 7, 4, 3, 6, 5, 5, 2, 6, 3, 0, 3, 1, 9, 7, 3, 9, 4, 9, 6, 7, 1, 8, 0, 2, 0, 8, 8, 4, 9, 3, 6, 7, 3, 4, 8, 7, 6, 2, 8, 7, 1, 2, 1, 2, 4, 1, 6, 9, 2, 9, 4, 8, 9, 9, 3, 3, 9, 4, 0, 0, 6, 2, 6, 3, 6, 4, 5, 5, 5, 7, 4, 1, 8, 3, 7, 0, 3, 6, 4, 3, 0, 0, 6, 2, 6, 4, 3, 5, 8, 6, 5, 1, 4, 9, 8, 4, 7, 4, 8, 7, 2, 3, 1, 3, 8, 9, 3, 1, 9, 7, 7, 3, 7, 8, 4, 9, 6, 8, 3, 9, 4, 8, 2, 4, 3, 5, 0, 6, 9, 9, 2, 8, 6, 0, 9, 9, 6, 8, 0, 1, 2, 2, 3, 9, 5, 3, 4, 4, 7, 0, 7, 5, 8, 2, 5, 5, 5, 5, 5, 2, 0, 3, 4, 0, 0, 2, 5, 4, 8, 4, 9, 8, 6, 0, 3, 4, 6, 1, 8, 2, 5, 6, 6, 8, 8, 5, 0, 9, 4, 8, 5, 8, 9, 5, 7, 6, 6, 3, 2, 2, 4, 8, 8, 9, 2, 6, 7, 5, 2, 5, 0, 0, 8, 8, 9, 5, 4, 8, 9, 3, 7, 1, 9, 0, 9, 0, 6, 1, 2, 2, 2, 9, 2, 3, 1, 8, 4, 6, 9, 5, 7, 3, 2, 0, 6, 9, 3, 6, 2, 0, 4, 8, 2, 2, 3, 4, 8, 2, 7, 5, 9, 8, 4, 0, 3, 5, 1, 7, 9, 0, 1, 0, 3, 8, 1, 6, 6, 5, 2, 6, 0, 9, 0, 9, 6, 2, 8, 7, 5, 1, 5, 5, 4, 7, 7, 3, 7, 6, 6, 3, 5, 1, 4, 1, 5, 5, 4, 0, 9, 2, 5, 6, 6, 6, 8, 5, 0, 2, 5, 4, 0, 7, 4, 6, 8, 8, 4, 1, 6, 2, 8, 6, 1, 4, 6, 9, 0, 5, 4, 8, 9, 3, 0, 9, 0, 2, 0, 8, 7, 0, 7, 7, 3, 7, 5, 6, 7, 7, 9, 8, 9, 1, 9, 9, 5, 6, 4, 9, 6, 2, 9, 8, 8, 5, 9, 5, 7, 9, 3, 2, 1, 6, 3, 1, 8, 1, 3, 1, 5, 3, 7, 0, 6, 4, 7, 2, 4, 3, 4, 4, 8, 6, 3, 9, 2, 6, 5, 0, 0, 7, 8, 2, 2, 5, 6, 2, 9, 5, 7, 9, 4, 4, 9, 0, 6, 9, 0, 3, 9, 7, 6, 6, 7, 7, 1, 6, 8, 0, 5, 9, 5, 4, 5, 4, 3, 5, 0, 9, 6, 0, 9, 8, 1, 4, 6, 9, 2, 1, 8, 1, 7, 0, 4, 5, 4, 7, 8, 3, 7, 5, 7, 9, 8, 3, 4, 3, 8, 4, 2, 3, 2, 7, 0, 9, 6, 9, 3, 1, 4, 8, 0, 3, 9, 2, 8, 8, 6, 8, 5, 8, 1, 7, 4, 6, 8, 2, 4, 0, 9, 0, 0, 8, 6, 3, 0, 4, 7, 9, 4, 5, 7, 7, 0, 4, 4, 3, 7, 8, 8, 3, 2, 1, 1, 5, 3, 2, 3, 3, 4, 1, 7, 6, 8, 0, 3, 3, 5, 0, 8, 4, 8, 3, 6, 2, 1, 2, 8, 2, 7, 6, 9, 9, 1, 1, 3, 9, 5, 5, 9, 7, 7, 5, 0, 6, 5, 8, 5, 6, 6, 4, 9, 6, 1, 4, 8, 9, 6, 9, 3, 9, 4, 5, 2, 4, 8, 8, 2, 2, 8, 8, 0, 7, 4, 1, 7, 7, 8, 0, 3, 9, 6, 3, 3, 0, 4, 6, 1, 5, 0, 8, 3, 8, 1, 7, 9, 9, 4, 7, 2, 3, 4, 6, 2, 7, 0, 2, 3, 9, 9, 7, 1, 0, 6, 6, 9, 0, 6, 2, 4, 5, 6, 3, 9, 2, 7, 9, 6, 9, 0, 0, 8, 4, 8, 5, 8, 4, 3, 3, 3, 9, 0, 6, 1, 9, 9, 5, 9, 3, 1, 1, 8, 4, 9, 4, 5, 7, 2, 7, 2, 8, 6, 4, 2, 1, 8, 8, 7, 6, 1, 6, 8, 5, 2, 6, 2, 1, 7, 9, 8, 4, 3, 0, 7, 0, 6, 6, 6, 1, 0, 5, 2, 5, 4, 9, 9, 2, 6, 5, 3, 2, 7, 2, 0, 1, 3, 0, 8, 0, 0, 0, 7, 5, 7, 8, 5, 9, 5, 2, 2, 3, 4, 5, 1, 4, 7, 3, 3, 7, 9, 1, 7, 7, 7, 7, 3, 4, 6, 7, 3, 4, 3, 8, 3, 5, 3, 9, 5, 8, 0, 0, 7, 4, 2, 7, 5, 2, 6, 6, 1, 8, 3, 9, 0, 8, 6, 3, 2, 7, 8, 2, 7, 6, 5, 8, 5, 1, 2, 6, 8, 3, 2, 6, 3, 2, 6, 9, 6, 5, 4, 8, 7, 1, 6, 3, 4, 3, 1, 3, 3, 1, 8, 3, 9, 9, 6, 8, 2, 1, 7, 2, 5, 8, 4, 8, 5, 7, 1, 5, 2, 7, 5, 1, 6, 1, 2, 6, 3, 9, 4, 0, 0, 7, 3, 9, 6, 2, 3, 2, 9, 6, 2, 3, 2, 0, 9, 4, 9, 3, 5, 3, 4, 1, 3, 4, 2, 6, 9, 3, 9, 8, 9, 2, 1, 4, 9, 2, 3, 0, 5, 0, 0, 8, 9, 5, 6, 0, 9, 1, 0, 5, 1, 3, 5, 6, 5, 7, 5, 7, 1, 8, 2, 0, 2, 8, 0, 2, 6, 7, 7, 1, 2, 6, 8, 2, 6, 1, 7, 4, 4, 9, 6, 8, 7, 1, 4, 8, 4, 6, 9, 9, 6, 7, 0, 8, 6, 9, 3, 5, 1, 2, 2, 4, 6, 9, 7, 1, 0, 0, 9, 6, 1, 9, 1, 5, 0, 8, 5, 3, 5, 0, 5, 9, 5, 7, 0, 9, 3, 7, 3, 8, 5, 5, 5, 3, 7, 5, 2, 5, 3, 8, 7, 9, 8, 6, 0, 0, 0, 3, 9, 5, 1, 9, 3, 9, 3, 7, 0, 3, 0, 6, 1, 1, 5, 3, 6, 2, 3, 4, 4, 0, 0, 7, 0, 2, 0, 2, 2, 1, 8, 5, 1, 2, 7, 0, 2, 9, 0, 0, 2, 2, 8, 6, 9, 4, 7, 8, 1, 8, 7, 0, 5, 2, 7, 0, 1, 9, 6, 7, 1, 3, 1, 6, 2, 0, 0, 4, 5, 8, 9, 7, 1, 3, 7, 9, 3, 6, 5, 0, 7, 6, 0, 6, 6, 0, 5, 0, 8, 8, 4, 8, 5, 3, 8, 3, 2, 0, 6, 3, 4, 2, 2, 4, 3, 4, 3, 2, 9, 4, 4, 3, 9, 0, 9, 2, 6, 2, 8, 1, 9, 4, 4, 7, 3, 7, 2, 6, 8, 2, 6, 4, 0, 5, 3, 9, 0, 5, 2, 5, 7, 7, 0, 1, 8, 9, 1, 1, 5, 2, 7, 7, 5, 7, 6, 5, 3, 8, 3, 0, 5, 6, 8, 1, 4, 4, 9, 2, 3, 4, 5, 6, 8, 9, 2, 3, 7, 5, 3, 6, 8, 3, 4, 0, 3, 6, 6, 7, 6, 4, 0, 0, 8, 2, 1, 5, 4, 0, 5, 4, 8, 7, 1, 8, 2, 0, 7, 0, 6, 3, 1, 1, 5, 1, 2, 5, 0, 3, 4, 1, 8, 2, 3, 3, 7, 0, 3, 3, 4, 6, 2, 2, 5, 8, 1, 5, 2, 8, 8, 9, 7, 9, 4, 5, 8, 4, 1, 3, 8, 9, 7, 9, 6, 9, 1, 4, 6, 2, 5, 8, 8, 7, 1, 0, 7, 8, 0, 7, 7, 7, 1, 5, 4, 0, 9, 3, 9, 3, 3, 7, 2, 1, 0, 2, 1, 3, 8, 1, 7, 7, 9, 6, 6, 6, 0, 1, 8, 1, 1, 4, 1, 2, 0, 3, 5, 4, 4, 8, 5, 0, 3, 5, 3, 4, 1, 0, 1, 0, 4, 7, 7, 6, 5, 2, 5, 8, 4, 8, 5, 4, 4, 9, 5, 8, 3, 5, 9, 4, 5, 0, 6, 8, 9, 9, 3, 9, 4, 7, 0, 2, 0, 2, 7, 7, 5, 0, 4, 0, 2, 6, 8, 0, 8, 4, 9, 2, 5, 0, 0, 0, 3, 8, 3, 1, 4, 5, 4, 5, 2, 1, 8, 7, 4, 3, 8, 8, 9, 2, 4, 9, 1, 7, 8, 9, 0, 2, 7, 2, 9, 6, 1, 4, 2, 4, 5, 6, 1, 9, 8, 8, 6, 4, 1, 3, 1, 2, 2, 0, 0, 4, 2, 5, 3, 7, 2, 7, 4, 0, 7, 0, 9, 4, 3, 5, 4, 6, 9, 9, 1, 0, 7, 2, 6, 4, 6, 1, 5, 5, 2, 0, 1, 4, 7, 6, 4, 8, 8, 3, 8, 4, 5, 7, 8, 5, 5, 5, 8, 0, 9, 1, 7, 9, 2, 5, 1, 2, 1, 7, 5, 9, 9, 6, 4, 7, 6, 7, 1, 0, 4, 8, 0, 1, 6, 6, 1, 2, 4, 9, 0, 9, 9, 5, 9, 4, 8, 3, 0, 7, 7, 4, 4, 3, 3, 2, 2, 3, 2, 6, 1, 9, 3, 4, 8, 6, 6, 9, 1, 5, 7, 0, 1, 7, 1, 7, 7, 0, 5, 5, 6, 6, 9, 7, 2, 3, 4, 8, 8, 4, 5, 2, 6, 1, 4, 1, 0, 5, 9, 4, 5, 1, 2, 1, 5, 7, 6, 2, 9, 0, 7, 7, 3, 7, 8, 7, 9, 1, 1, 1, 4, 9, 8, 0, 4, 7, 0, 9, 4, 6, 1, 0, 7, 7, 9, 4, 4, 0, 6, 4, 6, 6, 6, 2, 2, 8, 8, 9, 5, 7, 3, 4, 1, 5, 0, 0, 6, 9, 1, 0, 4, 9, 2, 2, 1, 2, 9, 6, 5, 7, 8, 6, 1, 2, 8, 9, 8, 3, 5, 5, 1, 5, 0, 2, 9, 8, 4, 1, 3, 6, 4, 2, 8, 5, 2, 1, 6, 4, 3, 7, 2, 6, 6, 2, 4, 7, 9, 4, 8, 6, 3, 1, 6, 7, 4, 1, 5, 3, 4, 5, 8, 1, 7, 0, 4, 5, 7, 3, 4, 7, 2, 6, 0, 4, 7, 5, 7, 4, 4, 5, 0, 9, 1, 0, 7, 2, 0, 4, 8, 4, 2, 6, 5, 7, 6, 0, 4, 0, 5, 4, 9, 4, 4, 3, 2, 5, 3, 4, 2, 1, 3, 0, 4, 1, 3, 6, 9, 1, 8, 4, 7, 7, 5, 6, 6, 7, 6, 8, 8, 1, 9, 1, 2, 5, 7, 7, 4, 9, 4, 7, 6, 0, 6, 5, 0, 4, 6, 5, 7, 7, 8, 3, 7, 6, 3, 5, 8, 8, 8, 5, 4, 9, 4, 0, 3, 7, 9, 2, 8, 5, 2, 7, 2, 2, 5, 5, 5, 2, 0, 4, 7, 9, 3, 9, 8, 6, 1, 0, 0, 6, 7, 0, 2, 0, 5, 2, 1, 7, 5, 2, 8, 3, 1, 4, 1, 9, 0, 2, 1, 2, 6, 3, 0, 0, 0, 5, 5, 6, 7, 9, 2, 8, 0, 5, 0, 6, 6, 1, 2, 1, 5, 6, 0, 2, 1, 6, 1, 9, 5, 7, 3, 6, 9, 5, 6, 6, 0, 7, 2, 3, 1, 8, 6, 7, 7, 1, 8, 1, 1, 5, 5, 2, 2, 8, 3, 3, 8, 2, 8, 0, 8, 8, 4, 7, 8, 0, 3, 3, 0, 5, 8, 1, 9, 3, 0, 7, 6, 5, 6, 6, 8, 5, 8, 7, 6, 3, 8, 7, 9, 3, 1, 1, 4, 3, 0, 2, 0, 5, 1, 1, 9, 7, 2, 1, 8, 9, 0, 4, 1, 3, 3, 1, 5, 6, 4, 0, 1, 6, 2, 5, 9, 0, 2, 5, 6, 4, 7, 3, 8, 4, 8, 6, 7, 4, 1, 0, 3, 0, 2, 7, 9, 9, 9, 0, 8, 1, 5, 9, 5, 8, 8, 5, 0, 5, 5, 7, 7, 2, 9, 6, 4, 9, 7, 8, 8, 0, 4, 9, 4, 9, 2, 6, 4, 9, 6, 7, 7, 5, 5, 1, 7, 1, 1, 9, 4, 9, 9, 5, 3, 4, 0, 5, 8, 8, 1, 0, 7, 7, 4, 6, 5, 9, 4, 1, 3, 2, 4, 3, 1, 6, 2, 2, 0, 2, 5, 1, 6, 2, 3, 9, 2, 7, 9, 4, 7, 5, 5, 4, 2, 9, 7, 1, 0, 0, 1, 5, 1, 4, 4, 0, 8, 2, 3, 2, 2, 4, 1, 3, 9, 5, 4, 7, 3, 1, 8, 1, 1, 6, 7, 3, 9, 3, 6, 5, 4, 4, 5, 8, 4, 6, 3, 2, 4, 3, 3, 9, 5, 4, 8, 1, 2, 6, 4, 1, 5, 2, 8, 5, 9, 9, 6, 4, 0, 7, 0, 0, 5, 2, 4, 9, 3, 3, 3, 3, 9, 9, 8, 5, 6, 1, 1, 1, 6, 6, 9, 6, 0, 3, 4, 1, 4, 0, 9, 5, 5, 5, 0, 5, 7, 9, 7, 1, 5, 1, 8, 7, 4, 7, 7, 6, 5, 2, 4, 1, 0, 7, 0, 2, 2, 0, 9, 7, 6, 5, 2, 4, 0, 7, 0, 0, 6, 8, 3, 8, 7, 5, 0, 8, 4, 8, 0, 6, 4, 0, 1, 7, 6, 2, 3, 1, 2, 3, 1, 6, 0, 8, 3, 9, 6, 3, 3, 3, 7, 1, 0, 2, 0, 0, 9, 6, 1, 3, 6, 1, 8, 9, 8, 2, 8, 0, 6, 4, 8, 1, 6, 9, 1, 5, 1, 2, 3, 1, 8, 1, 4, 2, 7, 4, 1, 2, 8, 0, 0, 9, 5, 6, 5, 4, 9, 5, 9, 2, 2, 8, 7, 5, 1, 8, 4, 4, 6, 0, 5, 8, 0, 4, 8, 9, 5, 9, 5, 3, 2, 9, 6, 7, 8, 0, 6, 8, 2, 0, 1, 7, 8, 2, 2, 9, 7, 5, 8, 6, 3, 4, 8, 0, 2, 3, 7, 7, 2, 1, 7, 6, 6, 9, 7, 8, 3, 0, 3, 1, 7, 3, 5, 8, 0, 4, 4, 6, 9, 8, 3, 7, 3, 9, 4, 4, 5, 2, 1, 2, 3, 3, 2, 3, 6, 1, 7, 4, 8, 9, 0, 4, 8, 4, 4, 0, 0, 3, 7, 3, 4, 6, 8, 8, 0, 1, 8, 9, 3, 0, 2, 9, 6, 9, 0, 5, 2, 9, 9, 5, 2, 1, 0, 5, 1, 0, 7, 8, 5, 8, 4, 6, 5, 3, 6, 5, 7, 8, 1, 3, 0, 1, 1, 0, 2, 2, 6, 1, 2, 0, 8, 9, 7, 7, 5, 9, 5, 9, 8, 9, 4, 0, 8, 0, 2, 4, 2, 9, 0, 7, 8, 1, 5, 4, 2, 8, 2, 6, 5, 3, 1, 9, 1, 4, 0, 1, 8, 1, 8, 9, 1, 6, 0, 4, 1, 5, 6, 8, 1, 5, 0, 8, 2, 5, 3, 4, 0, 7, 2, 9, 1, 5, 4, 9, 1, 1, 7, 0, 4, 6, 9, 2, 1, 9, 1, 0, 0, 4, 9, 3, 6, 5, 5, 7, 4, 7, 9, 7, 7, 3, 5, 1, 7, 3, 0, 1, 2, 2, 6, 9, 4, 0, 5, 8, 2, 0, 1, 4, 7, 3, 0, 1, 9, 6, 8, 3, 8, 2, 5, 4, 1, 8, 7, 1, 8, 5, 8, 6, 6, 0, 0, 5, 9, 8, 4, 0, 4, 2, 0, 9, 8, 5, 3, 0, 8, 0, 0, 8, 7, 1, 8, 0, 5, 6, 6, 9, 1, 5, 6, 4, 8, 6, 3, 0, 5, 0, 9, 9, 9, 0, 5, 3, 9, 0, 5, 1, 7, 9, 6, 8, 5, 6, 3, 6, 6, 4, 6, 6, 6, 6, 6, 9, 0, 2, 1, 0, 2, 4, 7, 2, 1, 0, 0, 1, 0, 8, 3, 6, 4, 9, 3, 4, 9, 7, 2, 3, 8, 6, 7, 9, 6, 7, 6, 8, 9, 5, 9, 7, 5, 0, 9, 1, 0, 9, 4, 2, 8, 8, 5, 4, 7, 4, 9, 8, 2, 3, 5, 7, 2, 4, 5, 5, 6, 7, 6, 2, 6, 5, 7, 8, 6, 6, 9, 2, 3, 3, 9, 0, 4, 1, 7, 4, 4, 9, 8, 3, 4, 6, 8, 5, 8, 8, 7, 3, 4, 9, 5, 9, 2, 8, 2, 0, 3, 5, 7, 5, 3, 8, 7, 3, 1, 0, 3, 0, 3, 4, 2, 7, 4, 1, 1, 7, 0, 7, 2, 8, 0, 5, 6, 9, 6, 2, 9, 1, 5, 2, 0, 9, 2, 3, 7, 4, 9, 3, 2, 2, 3, 6, 8, 2, 7, 5, 9, 4, 6, 6, 1, 7, 1, 7, 4, 2, 5, 3, 4, 0, 6, 8, 4, 4, 1, 5, 5, 5, 2, 5, 1, 5, 7, 2, 0, 9, 2, 0, 3, 0, 4, 4, 4, 6, 3, 0, 7, 6, 2, 8, 9, 7, 8, 7, 1, 6, 7, 2, 9, 0, 2, 9, 7, 7, 7, 2, 3, 7, 0, 7, 5, 5, 7, 8, 3, 3, 8, 5, 9, 4, 2, 5, 6, 3, 3, 4, 0, 8, 7, 2, 1, 9, 1, 9, 3, 9, 9, 5, 2, 8, 5, 4, 7, 9, 3, 0, 7, 6, 6, 0, 8, 9, 7, 8, 0, 6, 6, 9, 5, 6, 5, 9, 9, 9, 5, 7, 3, 7, 7, 1, 4, 2, 5, 0, 1, 5, 7, 3, 9, 7, 2, 0, 4, 8, 3, 7, 6, 8, 1, 5, 5, 2, 8, 1, 4, 6, 3, 8, 8, 7, 1, 4, 5, 9, 5, 2, 0, 3, 8, 0, 9, 7, 9, 9, 4, 6, 6, 6, 1, 2, 8, 2, 4, 5, 5, 8, 0, 2, 0, 4, 9, 7, 3, 3, 0, 4, 8, 7, 7, 9, 8, 7, 6, 6, 6, 9, 9, 6, 9, 4, 8, 1, 4, 8, 7, 4, 5, 0, 4, 1, 5, 3, 3, 9, 9, 5, 7, 2, 0, 7, 2, 3, 0, 8, 5, 7, 1, 1, 4, 9, 8, 7, 7, 1, 0, 8, 7, 7, 5, 0, 1, 0, 7, 7, 6, 5, 0, 5, 0, 9, 3, 2, 3, 6, 1, 0, 3, 2, 9, 5, 9, 3, 2, 2, 5, 8, 8, 3, 8, 0, 5, 7, 5, 5, 6, 7, 1, 3, 1, 9, 6, 4, 1, 7, 5, 4, 5, 1, 0, 2, 6, 9, 5, 6, 6, 3, 0, 4, 8, 5, 4, 4, 0, 5, 1, 4, 0, 5, 6, 6, 5, 1, 6, 7, 1, 8, 7, 0, 0, 4, 4, 6, 2, 6, 6, 8, 7, 0, 5, 4, 8, 1, 2, 3, 9, 7, 6, 4, 1, 5, 1, 4, 4, 4, 4, 1, 5, 7, 6, 4, 2, 3, 8, 6, 1, 7, 0, 0, 3, 9, 3, 8, 8, 6, 8, 6, 3, 8, 4, 4, 3, 8, 9, 4, 5, 7, 7, 3, 0, 9, 1, 1, 5, 3, 1, 6, 3, 8, 1, 1, 7, 4, 3, 1, 7, 8, 2, 5, 1, 6, 7, 5, 7, 1, 4, 2, 3, 6, 9, 1, 5, 5, 5, 2, 3, 0, 6, 1, 2, 5, 7, 1, 7, 3, 5, 1, 4, 4, 5, 2, 4, 6, 2, 8, 5, 0, 3, 3, 5, 9, 8, 0, 3, 6, 5, 2, 0, 5, 1, 6, 1, 1, 5, 6, 7, 6, 6, 5, 6, 2, 6, 9, 2, 7, 5, 7, 7, 8, 7, 5, 7, 1, 8, 3, 8, 6, 4, 8, 1, 8, 1, 4, 5, 1, 2, 1, 2, 4, 9, 7, 0, 2, 4, 9, 1, 2, 2, 6, 5, 8, 8, 4, 5, 0, 1, 8, 3, 1, 6, 0, 5, 9, 6, 8, 2, 7, 9, 5, 3, 7, 1, 1, 9, 4, 5, 2, 8, 9, 9, 8, 8, 5, 1, 4, 4, 5, 1, 9, 5, 1, 9, 6, 2, 8, 4, 1, 5, 8, 9, 3, 7, 3, 3, 8, 7, 6, 7, 7, 3, 5, 4, 7, 1, 6, 0, 9, 4, 5, 3, 1, 2, 3, 4, 9, 0, 5, 3, 9, 5, 4, 0, 4, 8, 3, 8, 8, 8, 8, 3, 0, 3, 2, 4, 1, 5, 9, 0, 7, 5, 5, 3, 8, 2, 2, 7, 1, 6, 1, 7, 0, 5, 1, 6, 4, 5, 0, 5, 9, 7, 6, 5, 4, 4, 2, 6, 4, 7, 2, 7, 7, 6, 2, 3, 6, 6, 8, 4, 3, 1, 8, 0, 8, 2, 9, 6, 0, 9, 3, 1, 8, 3, 4, 8, 3, 1, 5, 5, 3, 7, 8, 0, 1, 7, 8, 2, 2, 2, 0, 2, 1, 2, 5, 8, 4, 4, 7, 0, 8, 6, 4, 4, 6, 6, 6, 2, 8, 6, 9, 8, 4, 4, 5, 8, 4, 5, 7, 5, 1, 8, 0, 3, 2, 5, 4, 4, 6, 8, 2, 7, 7, 2, 7, 3, 4, 0, 5, 7, 2, 2, 2, 9, 1, 9, 1, 2, 1, 3, 9, 5, 1, 7, 2, 2, 8, 4, 4, 1, 5, 3, 7, 1, 5, 5, 5, 0, 6, 4, 2, 6, 1, 5, 3, 8, 8, 3, 7, 0, 8, 3, 7, 9, 5, 4, 5, 5, 9, 3, 1, 2, 2, 7, 6, 4, 0, 6, 3, 6, 8, 6, 9, 5, 2, 0, 5, 9, 3, 2, 4, 6, 1, 9, 7, 9, 3, 9, 7, 8, 7, 5, 0, 0, 4, 5, 0, 0, 8, 5, 7, 6, 5, 4, 2, 2, 0, 9, 2, 9, 1, 9, 4, 6, 8, 6, 7, 6, 9, 2, 0, 2, 7, 0, 6, 4, 0, 3, 6, 2, 6, 2, 2, 0, 4, 8, 5, 5, 7, 8, 4, 0, 8, 4, 7, 8, 5, 3, 1, 5, 6, 8, 4, 4, 6, 8, 4, 3, 4, 5, 7, 7, 0, 7, 0, 4, 2, 0, 5, 3, 0, 0, 0, 6, 9, 0, 3, 9, 9, 3, 1, 7, 2, 8, 0, 4, 4, 1, 5, 9, 1, 0, 9, 5, 5, 7, 5, 1, 0, 1, 9, 6, 8, 4, 5, 4, 0, 2, 2, 9, 3, 4, 7, 0, 2, 9, 0, 4, 2, 2, 1, 5, 7, 2, 6, 1, 8, 5, 2, 6, 5, 4, 7, 6, 9, 7, 1, 8, 9, 2, 1, 2, 9, 8, 8, 2, 4, 1, 6, 9, 7, 2, 4, 5, 4, 1, 4, 9, 6, 7, 8, 6, 4, 6, 4, 1, 3, 6, 5, 1, 8, 1, 0, 8, 8, 3, 3, 2, 7, 5, 3, 2, 6, 2, 0, 5, 0, 9, 3, 2, 2, 0, 0, 5, 8, 2, 8, 0, 3, 4, 9, 6, 6, 0, 7, 6, 3, 2, 4, 3, 3, 9, 4, 6, 4, 8, 1, 7, 7, 4, 2, 2, 6, 6, 6, 8, 7, 7, 8, 7, 4, 2, 5, 7, 5, 2, 8, 1, 5, 4, 2, 2, 1, 4, 7, 8, 0, 6, 7, 9, 8, 6, 5, 5, 8, 5, 9, 7, 0, 1, 2, 7, 8, 9, 9, 8, 4, 0, 1, 3, 8, 3, 3, 9, 5, 6, 9, 5, 3, 7, 5, 8, 1, 7, 1, 2, 7, 5, 4, 1, 4, 7, 3, 3, 6, 3, 9, 0, 5, 6, 3, 5, 1, 3, 5, 6, 9, 4, 9, 0, 3, 8, 1, 1, 8, 7, 3, 8, 1, 9, 4, 8, 2, 0, 2, 3, 6, 5, 0, 5, 0, 4, 1, 7, 3, 2, 9, 4, 4, 5, 1, 8, 3, 1, 4, 6, 6, 8, 5, 4, 1, 1, 2, 5, 1, 2, 2, 8, 9, 4, 1, 3, 0, 1, 4, 0, 7, 3, 1, 5, 2, 9, 2, 2, 7, 4, 2, 8, 5, 2, 7, 8, 5, 9, 9, 0, 0, 8, 5, 4, 5, 9, 8, 1, 3, 0, 4, 5, 0, 9, 7, 4, 6, 2, 0, 4, 8, 3, 3, 7, 2, 6, 0, 4, 8, 7, 2, 3, 5, 1, 2, 5, 0, 8, 7, 1, 4, 9, 0, 5, 3, 3, 6, 1, 5, 2, 3, 0, 3, 5, 5, 9, 0, 0, 1, 7, 6, 2, 7, 0, 6, 3, 5, 3, 0, 8, 1, 0, 6, 2, 8, 9, 6, 3, 6, 3, 6, 6, 5, 7, 6, 4, 2, 7, 0, 8, 1, 9, 9, 6, 2, 9, 5, 1, 9, 3, 4, 5, 0, 4, 9, 2, 5, 9, 0, 8, 7, 1, 7, 0, 7, 5, 4, 3, 5, 1, 8, 9, 2, 9, 6, 8, 1, 3, 6, 3, 5, 3, 5, 1, 2, 0, 8, 2, 2, 0, 1, 5, 2, 9, 4, 8, 1, 8, 5, 4, 7, 0, 0, 1, 4, 2, 1, 6, 0, 0, 9, 7, 0, 7, 8, 8, 7, 4, 5, 6, 4, 3, 3, 9, 3, 8, 6, 1, 6, 1, 8, 3, 3, 4, 4, 9, 1, 9, 8, 6, 0, 8, 4, 1, 5, 2, 5, 7, 0, 8, 3, 8, 0, 7, 4, 4, 3, 9, 5, 0, 5, 2, 6, 8, 3, 8, 8, 2, 7, 6, 2, 5, 4, 1, 9, 9, 7, 6, 4, 5, 8, 4, 3, 8, 8, 5, 5, 3, 8, 2, 4, 6, 7, 5, 8, 7, 5, 6, 0, 3, 1, 0, 3, 1, 6, 2, 2, 1, 6, 6, 3, 6, 2, 2, 5, 8, 1, 5, 3, 5, 6, 9, 1, 3, 6, 7, 8, 0, 0, 7, 8, 9, 2, 0, 3, 8, 4, 6, 5, 0, 2, 5, 9, 4, 4, 6, 4, 9, 9, 0, 1, 5, 2, 5, 2, 5, 8, 4, 3, 4, 9, 5, 2, 2, 3, 3, 0, 3, 6, 6, 2, 6, 3, 1, 0, 7, 8, 4, 3, 1, 1, 5, 3, 3, 0, 8, 2, 6, 4, 8, 9, 3, 6, 2, 9, 5, 4, 9, 5, 0, 4, 0, 8, 0, 7, 2, 7, 2, 7, 6, 0, 2, 2, 6, 1, 6, 0, 3, 1, 7, 1, 4, 5, 7, 8, 5, 0, 0, 9, 7, 7, 7, 0, 1, 4, 5, 8, 6, 0, 4, 5, 3, 4, 3, 8, 8, 0, 1, 4, 8, 7, 0, 5, 4, 8, 7, 4, 6, 2, 1, 0, 0, 9, 6, 8, 5, 7, 5, 2, 8, 6, 4, 3, 6, 8, 9, 7, 2, 1, 2, 7, 4, 0, 3, 1, 6, 4, 1, 9, 1, 1, 1, 2, 1, 0, 7, 0, 9, 2, 4, 1, 1, 5, 8, 3, 5, 2, 8, 7, 7, 7, 1, 8, 0, 3, 8, 1, 2, 4, 1, 1, 2, 9, 7, 4, 0, 2, 6, 3, 6, 2, 1, 8, 3, 5, 4, 5, 0, 5, 7, 4, 9, 9, 0, 3, 3, 3, 7, 7, 9, 9, 9, 3, 7, 8, 5, 0, 2, 5, 0, 6, 0, 2, 4, 3, 9, 7, 8, 8, 1, 6, 8, 1, 7, 7, 9, 5, 9, 2, 1, 6, 6, 2, 7, 8, 9, 4, 5, 5, 0, 2, 7, 8, 4, 2, 4, 0, 0, 8, 8, 7, 6, 7, 1, 3, 5, 7, 9, 2, 0, 6, 9, 6, 8, 4, 8, 6, 2, 9, 7, 1, 1, 7, 4, 2, 6, 9, 7, 8, 6, 5, 9, 2, 0, 0, 3, 4, 1, 8, 1, 5, 7, 9, 7, 9, 8, 5, 6, 2, 9, 2, 7, 6, 5, 0, 4, 0, 1, 2, 1, 4, 9, 3, 9, 0, 0, 6, 5, 9, 2, 8, 2, 9, 1, 4, 3, 2, 0, 9, 9, 4, 8, 7, 9, 5, 5, 8, 6, 9, 8, 6, 3, 7, 5, 9, 2, 7, 3, 4, 3, 6, 2, 7, 8, 2, 3, 8, 2, 5, 7, 2, 9, 8, 1, 5, 8, 5, 5, 9, 1, 4, 8, 3, 1, 1, 6, 1, 3, 8, 4, 0, 7, 6, 4, 7, 3, 8, 9, 6, 6, 0, 2, 6, 3, 6, 4, 9, 6, 5, 4, 1, 7, 7, 6, 4, 9, 8, 0, 4, 2, 8, 6, 6, 6, 0, 9, 2, 5, 1, 3, 9, 4, 7, 3, 7, 1, 5, 7, 9, 6, 9, 7, 2, 9, 4, 1, 5, 4, 1, 8, 4, 2, 9, 1, 8, 8, 8, 3, 4, 0, 1, 0, 8, 2, 9, 5, 3, 6, 4, 4, 0, 3, 9, 2, 6, 2, 9, 5, 4, 5, 8, 4, 2, 3, 6, 7, 0, 0, 1, 9, 8, 8, 0, 7, 7, 4, 5, 6, 4, 0, 7, 4, 8, 6, 3, 1, 7, 0, 9, 4, 5, 5, 0, 8, 5, 6, 3, 2, 3, 6, 2, 4, 1, 3, 3, 2, 7, 1, 5, 6, 1, 1, 5, 9, 5, 3, 8, 4, 4, 6, 4, 2, 9, 3, 8, 7, 2, 1, 5, 9, 9, 3, 2, 4, 6, 6, 2, 7, 8, 4, 4, 2, 6, 4, 5, 2, 1, 6, 6, 1, 1, 7, 4, 2, 6, 7, 5, 5, 8, 7, 5, 3, 3, 1, 6, 3, 9, 6, 3, 4, 5, 3, 9, 6, 4, 6, 7, 3, 4, 0, 4, 5, 4, 7, 8, 7, 4, 3, 3, 7, 4, 3, 4, 7, 0, 3, 4, 5, 1, 9, 9, 5, 0, 1, 3, 0, 6, 8, 1, 3, 3, 8, 9, 3, 8, 5, 5, 0, 7, 4, 0, 4, 4, 9, 2, 4, 7, 9, 4, 3, 2, 7, 7, 3, 9, 5, 0, 5, 8, 9, 9, 2, 2, 3, 7, 2, 4, 2, 4, 6, 4, 3, 0, 3, 7, 7, 7, 9, 1, 2, 4, 6, 2, 4, 7, 6, 3, 6, 9, 6, 4, 5, 8, 0, 2, 4, 9, 0, 2, 2, 4, 2, 0, 6, 8, 9, 4, 4, 1, 3, 6, 0, 7, 9, 5, 3, 1, 9, 9, 3, 7, 1, 8, 6, 4, 7, 2, 2, 0, 1, 1, 7, 3, 2, 1, 5, 8, 1, 3, 7, 9, 7, 8, 0, 5, 6, 5, 0, 8, 9, 4, 9, 4, 0, 0, 8, 6, 7, 3, 4, 3, 9, 8, 9, 5, 7, 7, 2, 6, 1, 0, 5, 2, 2, 4, 4, 1, 2, 4, 7, 5, 5, 1, 3, 8, 8, 3, 5, 8, 1, 2, 2, 4, 5, 3, 0, 2, 6, 1, 5, 9, 5, 1, 0, 5, 5, 5, 8, 4, 4, 6, 1, 8, 4, 2, 0, 2, 2, 1, 7, 8, 9, 1, 8, 0, 1, 4, 4, 6, 4, 9, 1, 9, 3, 1, 5, 8, 5, 1, 9, 2, 3, 0, 5, 4, 0, 6, 6, 4, 2, 9, 2, 1, 5, 4, 8, 5, 6, 5, 2, 3, 0, 2, 8, 3, 8, 7, 2, 0, 5, 2, 4, 0, 5, 7, 7, 1, 5, 5, 8, 8, 3, 3, 1, 8, 8, 5, 1, 9, 4, 9, 6, 2, 7, 6, 9, 4, 3, 4, 7, 2, 1, 3, 3, 0, 3, 1, 4, 3, 6, 1, 2, 8, 1, 8, 0, 7, 3, 1, 5, 6, 8, 5, 6, 3, 5, 2, 7, 6, 8, 2, 2, 9, 5, 4, 0, 5, 3, 4, 8, 3, 7, 3, 9, 7, 1, 6, 5, 0, 0, 1, 5, 0, 4, 5, 8, 5, 4, 1, 7, 2, 6, 8, 8, 8, 5, 9, 6, 9, 5, 4, 5, 9, 0, 4, 4, 8, 7, 7, 5, 1, 1, 4, 4, 1, 0, 4, 0, 2, 4, 3, 4, 9, 7, 9, 0, 0, 9, 3, 5, 6, 8, 7, 4, 2, 9, 3, 7, 3, 1, 2, 1, 9, 5, 3, 9, 2, 9, 8, 5, 6, 8, 3, 6, 6, 0, 0, 8, 9, 8, 7, 7, 5, 6, 1, 6, 4, 1, 3, 6, 0, 1, 3, 6, 4, 8, 2, 0, 8, 0, 2, 4, 9, 5, 2, 2, 8, 0, 0, 1, 8, 0, 9, 2, 7, 4, 6, 5, 3, 7, 7, 9, 4, 3, 4, 0, 4, 3, 5, 7, 3, 6, 8, 4, 7, 2, 6, 5, 8, 2, 6, 0, 0, 5, 1, 3, 8, 7, 4, 9, 9, 5, 5, 2, 2, 0, 1, 3, 3, 2, 9, 7, 2, 2, 0, 4, 1, 5, 3, 8, 6, 9, 0, 0, 6, 2, 0, 7, 5, 8, 7, 9, 2, 0, 2, 6, 8, 5, 2, 5, 4, 1, 3, 1, 2, 2, 4, 9, 8, 2, 0, 6, 4, 1, 0, 6, 6, 1, 3, 2, 7, 8, 8, 8, 7, 4, 5, 2, 8, 1, 2, 2, 2, 7, 5, 9, 3, 6, 4, 9, 0, 2, 8, 6, 2, 0, 2, 0, 7, 3, 0, 0, 5, 6, 4, 4, 1, 6, 9, 5, 3, 9, 3, 4, 4, 9, 4, 3, 3, 8, 5, 3, 2, 0, 0, 8, 0, 0, 0, 5, 6, 9, 5, 9, 2, 7, 4, 0, 4, 8, 1, 1, 6, 3, 3, 2, 7, 1, 9, 5, 4, 1, 8, 7, 2, 0, 7, 9, 0, 5, 3, 3, 9, 5, 0, 1, 4, 2, 1, 8, 9, 5, 0, 8, 2, 0, 9, 1, 7, 5, 4, 1, 4, 0, 0, 7, 3, 3, 1, 4, 9, 6, 1, 0, 3, 7, 9, 8, 4, 3, 4, 7, 0, 7, 4, 3, 7, 3, 2, 8, 3, 9, 2, 7, 7, 8, 9, 1, 9, 3, 6, 3, 2, 1, 5, 4, 6, 9, 3, 9, 2, 8, 2, 2, 7, 9, 8, 2, 2, 2, 3, 3, 5, 1, 6, 1, 8, 8, 6, 7, 5, 1, 0, 6, 6, 7, 5, 1, 5, 1, 2, 1, 2, 5, 6, 0, 8, 7, 4, 9, 9, 4, 8, 2, 1, 4, 3, 8, 4, 2, 0, 1, 8, 5, 5, 0, 6, 3, 5, 6, 3, 4, 0, 8, 4, 5, 1, 5, 5, 4, 8, 3, 4, 4, 7, 3, 2, 8, 8, 3, 8, 2, 6, 1, 4, 3, 0, 7, 5, 5, 1, 8, 3, 1, 2, 1, 0, 0, 2, 2, 6, 4, 3, 3, 0, 4, 4, 7, 9, 3, 5, 9, 7, 3, 1, 3, 6, 8, 7, 9, 9, 2, 5, 1, 6, 0, 2, 8, 5, 2, 2, 7, 1, 0, 6, 7, 4, 1, 8, 8, 3, 5, 9, 3, 7, 3, 3, 0, 6, 6, 9, 1, 4, 3, 6, 8, 0, 4, 4, 6, 8, 2, 1, 3, 1, 2, 0, 5, 9, 3, 5, 9, 5, 8, 3, 7, 3, 2, 5, 0, 4, 5, 2, 4, 1, 4, 7, 0, 5, 8, 9, 2, 6, 6, 5, 2, 1, 7, 0, 5, 6, 5, 4, 9, 5, 2, 3, 0, 2, 0, 4, 5, 6, 6, 5, 6, 0, 8, 3, 2, 8, 0, 6, 4, 5, 0, 2, 6, 3, 6, 7, 4, 0, 8, 2, 1, 6, 8, 3, 1, 0, 8, 2, 5, 5, 7, 3, 7, 3, 0, 6, 6, 3, 6, 9, 1, 8, 8, 4, 1, 5, 9, 9, 5, 9, 7, 1, 7, 8, 8, 4, 7, 1, 5, 1, 4, 5, 9, 1, 0, 4, 9, 5, 9, 4, 1, 1, 3, 3, 0, 8, 5, 4, 1, 5, 0, 7, 4, 3, 9, 9, 0, 2, 1, 3, 1, 0, 5, 7, 4, 2, 3, 5, 7, 8, 3, 1, 6, 7, 8, 8, 6, 6, 5, 6, 6, 5, 1, 5, 9, 2, 8, 5, 1, 1, 5, 8, 5, 3, 4, 4, 5, 9, 1, 2, 7, 1, 7, 9, 6, 5, 2, 0, 3, 0, 6, 6, 1, 5, 6, 0, 7, 1, 6, 4, 2, 3, 9, 1, 9, 7, 6, 9, 7, 4, 7, 9, 8, 9, 5, 3, 5, 5, 3, 1, 8, 5, 1, 7, 1, 8, 2, 6, 5, 3, 4, 6, 0, 8, 5, 3, 4, 0, 1, 7, 7, 9, 4, 3, 0, 4, 6, 0, 5, 4, 0, 4, 5, 0, 2, 5, 7, 4, 8, 4, 7, 8, 2, 8, 7, 8, 4, 1, 8, 5, 3, 5, 0, 0, 6, 6, 3, 5, 0, 2, 1, 3, 5, 7, 2, 3, 1, 9, 0, 5, 9, 1, 4, 8, 0, 6, 7, 1, 0, 1, 5, 2, 3, 7, 3, 0, 5, 3, 4, 8, 5, 2, 5, 5, 5, 6, 8, 8, 9, 9, 4, 3, 9, 9, 2, 8, 4, 9, 0, 3, 9, 1, 6, 1, 7, 1, 4, 0, 0, 3, 7, 1, 9, 8, 7, 0, 1, 5, 5, 8, 8, 8, 2, 3, 8, 6, 6, 9, 5, 3, 7, 6, 2, 6, 5, 2, 9, 4, 4, 6, 6, 7, 5, 7, 9, 9, 6, 1, 5, 0, 6, 5, 8, 6, 9, 3, 7, 0, 7, 0, 8, 8, 3, 6, 6, 8, 4, 8, 4, 0, 3, 5, 9, 7, 3, 6, 5, 7, 7, 2, 0, 7, 4, 8, 5, 0, 2, 1, 2, 6, 2, 8, 1, 4, 8, 7, 3, 4, 7, 2, 0, 2, 4, 1, 0, 0, 5, 1, 3, 7, 8, 8, 3, 4, 9, 3, 4, 8, 0, 8, 9, 6, 8, 9, 1, 1, 6, 3, 4, 1, 8, 5, 0, 7, 3, 0, 3, 6, 0, 0, 4, 7, 9, 1, 7, 7, 7, 8, 4, 7, 3, 8, 8, 8, 3, 9, 6, 5, 2, 7, 3, 6, 0, 8, 6, 3, 2, 5, 1, 3, 9, 4, 9, 3, 3, 7, 6, 4, 2, 3, 6, 1, 0, 9, 5, 4, 5, 5, 1, 9, 5, 5, 9, 7, 4, 0, 7, 9, 9, 0, 2, 5, 7, 7, 6, 9, 9, 2, 2, 9, 9, 2, 2, 7, 3, 0, 6, 3, 3, 1, 6, 6, 1, 8, 7, 1, 6, 2, 5, 0, 9, 2, 8, 2, 4, 2, 3, 0, 6, 6, 7, 5, 0, 0, 1, 1, 4, 8, 0, 9, 6, 0, 1, 4, 0, 9, 2, 5, 1, 1, 2, 6, 1, 8, 6, 0, 7, 6, 0, 1, 1, 5, 4, 8, 4, 7, 9, 7, 6, 2, 6, 0, 5, 0, 8, 1, 3, 9, 3, 9, 3, 5, 8, 6, 9, 4, 5, 4, 8, 8, 3, 0, 3, 5, 9, 8, 7, 3, 7, 9, 2, 6, 4, 6, 0, 0, 7, 7, 2, 3, 1, 9, 7, 0, 7, 2, 5, 1, 1, 2, 2, 0, 4, 4, 0, 7, 1, 7, 4, 4, 2, 1, 3, 9, 5, 2, 3, 2, 4, 1, 9, 9, 2, 8, 2, 1, 8, 5, 7, 5, 5, 8, 4, 3, 7, 0, 9, 2, 3, 0, 3, 0, 1, 7, 3, 7, 1, 2, 3, 1, 6, 5, 8, 3, 2, 6, 0, 7, 7, 8, 3, 2, 4, 6, 0, 9, 2, 7, 6, 1, 1, 4, 0, 8, 4, 0, 6, 5, 7, 7, 2, 8, 1, 3, 4, 8, 4, 9, 3, 3, 7, 9, 2, 1, 1, 6, 2, 4, 2, 3, 0, 6, 6, 4, 7, 6, 5, 8, 2, 7, 9, 9, 9, 0, 8, 0, 9, 4, 5, 4, 3, 9, 6, 0, 9, 0, 1, 5, 8, 2, 1, 0, 7, 4, 3, 7, 3, 0, 4, 0, 8, 4, 7, 6, 6, 3, 0, 5, 3, 5, 2, 5, 3, 1, 8, 7, 1, 9, 8, 8, 0, 0, 9, 7, 8, 5, 4, 3, 9, 9, 1, 0, 9, 3, 0, 9, 4, 5, 8, 1, 2, 5, 9, 2, 2, 6, 8, 3, 6, 2, 6, 4, 7, 5, 7, 6, 9, 0, 9, 2, 7, 4, 4, 1, 4, 2, 0, 0, 9, 0, 8, 2, 2, 9, 4, 9, 8, 1, 6, 0, 2, 5, 6, 0, 5, 2, 3, 5, 1, 2, 8, 2, 4, 8, 2, 2, 1, 5, 5, 5, 8, 1, 7, 9, 8, 2, 4, 7, 1, 2, 4, 5, 0, 6, 4, 1, 6, 7, 2, 4, 2, 7, 2, 8, 5, 1, 1, 4, 1, 8, 3, 9, 4, 9, 8, 9, 8, 2, 9, 3, 8, 7, 6, 4, 1, 2, 2, 1, 8, 6, 0, 8, 8, 6, 7, 3, 0, 5, 5, 4, 0, 7, 2, 7, 8, 5, 6, 3, 5, 2, 3, 7, 6, 9, 5, 1, 4, 5, 2, 3, 5, 7, 5, 1, 4, 1, 3, 8, 3, 4, 8, 9, 1, 5, 8, 3, 2, 2, 5, 9, 3, 9, 4, 8, 9, 0, 3, 7, 7, 1, 3, 3, 1, 0, 6, 3, 6, 5, 5, 4, 6, 0, 6, 5, 9, 7, 1, 7, 4, 9, 9, 2, 6, 3, 1, 1, 6, 4, 9, 9, 0, 5, 4, 3, 5, 1, 3, 4, 1, 3, 1, 4, 6, 8, 2, 7, 3, 2, 9, 9, 0, 1, 6, 8, 3, 2, 4, 3, 0, 7, 8, 9, 4, 4, 8, 9, 0, 4, 7, 4, 2, 1, 8, 3, 6, 6, 0, 1, 2, 6, 9, 4, 5, 4, 4, 1, 0, 5, 6, 4, 9, 0, 6, 0, 5, 6, 5, 9, 8, 9, 2, 9, 5, 8, 9, 0, 2, 3, 5, 1, 9, 3, 0, 3, 0, 9, 3, 8, 7, 5, 5, 8, 8, 6, 3, 2, 2, 6, 2, 4, 5, 5, 9, 4, 0, 9, 7, 4, 2, 2, 2, 3, 7, 1, 1, 7, 9, 1, 4, 7, 3, 4, 7, 0, 1, 6, 6, 7, 9, 5, 1, 1, 7, 3, 1, 6, 3, 2, 8, 2, 0, 1, 4, 0, 0, 4, 8, 8, 6, 2, 2, 7, 4, 0, 3, 0, 5, 4, 2, 0, 7, 4, 6, 0, 5, 3, 0, 7, 0, 0, 9, 8, 3, 2, 2, 3, 6, 6, 3, 4, 3, 8, 9, 7, 6, 9, 3, 1, 7, 6, 9, 2, 1, 6, 5, 2, 9, 4, 3, 2, 0, 7, 6, 1, 6, 7, 5, 2, 0, 5, 6, 7, 0, 4, 7, 4, 5, 7, 6, 5, 4, 7, 5, 1, 1, 7, 5, 2, 2, 5, 5, 7, 3, 6, 1, 0, 2, 2, 2, 0, 5, 4, 5, 2, 5, 0, 6, 5, 4, 6, 4, 5, 3, 5, 2, 2, 7, 7, 9, 1, 9, 9, 6, 5, 5, 2, 3, 1, 2, 3, 0, 4, 0, 8, 4, 9, 3, 2, 6, 3, 7, 1, 3, 8, 4, 7, 4, 0, 3, 8, 4, 9, 0, 6, 0, 1, 0, 5, 2, 4, 6, 1, 4, 0, 4, 4, 1, 2, 7, 8, 8, 7, 4, 7, 1, 3, 3, 5, 5, 7, 4, 3, 8, 5, 7, 8, 0, 1, 3, 0, 2, 5, 0, 5, 5, 3, 0, 4, 3, 1, 5, 3, 9, 5, 9, 3, 7, 7, 3, 6, 1, 8, 5, 2, 9, 7, 2, 6, 3, 0, 7, 7, 1, 9, 0, 4, 1, 1, 0, 5, 9, 1, 8, 7, 7, 7, 6, 1, 8, 0, 6, 0, 4, 9, 5, 4, 7, 6, 2, 5, 9, 6, 1, 8, 2, 5, 7, 9, 9, 0, 8, 7, 2, 4, 4, 5, 4, 2, 9, 1, 2, 8, 5, 7, 3, 6, 4, 8, 8, 4, 7, 6, 5, 0, 1, 0, 1, 7, 6, 6, 4, 1, 3, 1, 3, 9, 8, 1, 6, 7, 0, 0, 0, 9, 1, 9, 9, 9, 9, 9, 8, 0, 2, 6, 5, 2, 7, 0, 5, 7, 4, 6, 7, 6, 9, 7, 4, 8, 9, 1, 2, 6, 3, 7, 9, 2, 5, 3, 2, 6, 7, 6, 1, 6, 3, 7, 9, 8, 7, 1, 5, 0, 5, 0, 7, 6, 9, 9, 2, 1, 6, 7, 3, 2, 4, 8, 0, 3, 3, 3, 1, 9, 7, 9, 8, 2, 5, 7, 4, 2, 0, 0, 5, 5, 6, 6, 1, 5, 3, 5, 3, 1, 3, 8, 2, 9, 0, 4, 9, 9, 5, 3, 8, 7, 6, 2, 2, 1, 1, 1, 2, 8, 3, 7, 9, 4, 2, 4, 0, 9, 6, 4, 7, 4, 0, 7, 0, 6, 6, 9, 5, 1, 1, 5, 9, 5, 4, 9, 1, 1, 1, 5, 1, 9, 8, 7, 5, 5, 3, 0, 2, 5, 9, 9, 9, 7, 4, 0, 8, 1, 7, 0, 6, 8, 4, 4, 6, 9, 0, 3, 1, 2, 0, 9, 9, 9, 2, 4, 5, 5, 0, 9, 6, 1, 2, 6, 2, 4, 4, 0, 1, 4, 2, 0, 8, 9, 1, 7, 0, 5, 5, 5, 6, 0, 8, 6, 1, 7, 2, 6, 2, 5, 2, 5, 0, 7, 9, 6, 7, 9, 6, 1, 2, 0, 0, 7, 4, 8, 4, 3, 8, 6, 3, 8, 6, 4, 3, 3, 0, 2, 6, 1, 1, 3, 0, 7, 6, 2, 1, 1, 0, 4, 8, 3, 7, 3, 8, 0, 2, 6, 5, 8, 6, 7, 0, 0, 3, 9, 6, 4, 3, 7, 5, 6, 7, 0, 0, 2, 7, 8, 8, 6, 5, 2, 7, 2, 7, 0, 5, 0, 6, 0, 8, 4, 1, 7, 2, 1, 9, 2, 9, 8, 1, 3, 0, 8, 6, 0, 7, 3, 4, 0, 1, 2, 9, 7, 7, 6, 3, 8, 5, 3, 9, 2, 7, 9, 7]\n",
            "[8, 2, 0, 3, 3, 2, 8, 8, 2, 0, 0, 3, 8, 2, 0, 0, 8, 0, 5, 2, 1, 0, 0, 2, 0, 0, 0, 0, 8, 3, 8, 0, 0, 2, 3, 3, 0, 6, 0, 3, 2, 8, 8, 3, 8, 8, 2, 3, 2, 0, 2, 3, 0, 1, 2, 4, 8, 2, 0, 4, 3, 8, 8, 9, 8, 0, 4, 6, 6, 0, 4, 8, 2, 6, 8, 0, 0, 6, 0, 2, 0, 3, 5, 0, 0, 8, 0, 2, 2, 0, 2, 0, 4, 8, 0, 8, 5, 6, 2, 8, 0, 3, 0, 0, 0, 0, 1, 0, 4, 0, 1, 0, 0, 5, 2, 0, 4, 3, 0, 8, 4, 0, 0, 0, 0, 0, 0, 3, 8, 9, 2, 3, 0, 0, 0, 0, 0, 9, 0, 0, 8, 6, 1, 2, 0, 8, 8, 0, 0, 1, 2, 4, 2, 4, 0, 4, 4, 0, 0, 1, 8, 5, 0, 0, 0, 0, 1, 0, 3, 0, 0, 6, 5, 0, 0, 0, 7, 2, 0, 1, 0, 0, 0, 3, 1, 0, 4, 0, 8, 0, 6, 8, 0, 8, 0, 4, 0, 0, 0, 4, 4, 0, 0, 0, 0, 0, 0, 4, 6, 2, 2, 0, 0, 0, 0, 0, 6, 0, 2, 7, 0, 2, 3, 3, 8, 2, 0, 0, 2, 0, 6, 6, 6, 4, 0, 0, 2, 0, 8, 0, 8, 8, 4, 8, 5, 4, 0, 4, 5, 1, 2, 0, 1, 3, 4, 2, 8, 2, 0, 0, 8, 0, 2, 8, 8, 0, 2, 2, 2, 0, 0, 8, 2, 6, 2, 6, 0, 2, 0, 0, 0, 0, 0, 2, 6, 6, 3, 5, 4, 1, 0, 6, 0, 8, 0, 0, 4, 0, 0, 0, 0, 0, 2, 5, 6, 2, 2, 3, 8, 0, 0, 4, 1, 8, 2, 2, 6, 8, 0, 1, 6, 8, 4, 0, 1, 0, 4, 2, 2, 0, 8, 2, 8, 0, 0, 6, 8, 0, 0, 8, 5, 0, 0, 0, 3, 8, 2, 4, 0, 2, 0, 9, 2, 3, 8, 0, 8, 0, 3, 0, 0, 8, 8, 0, 0, 8, 0, 8, 2, 0, 0, 9, 5, 0, 8, 6, 8, 5, 2, 2, 0, 0, 0, 3, 0, 2, 0, 5, 0, 2, 0, 2, 0, 2, 0, 0, 6, 0, 7, 2, 0, 8, 2, 8, 0, 2, 2, 8, 2, 0, 6, 2, 0, 2, 2, 0, 8, 3, 5, 8, 0, 8, 8, 0, 2, 0, 4, 4, 0, 4, 1, 8, 0, 9, 2, 8, 0, 2, 8, 0, 0, 0, 8, 8, 0, 8, 8, 5, 8, 2, 2, 0, 5, 1, 8, 0, 0, 0, 4, 0, 2, 1, 0, 8, 0, 0, 0, 8, 2, 3, 4, 2, 0, 0, 8, 8, 3, 8, 2, 0, 0, 8, 2, 8, 2, 2, 0, 1, 8, 4, 4, 0, 0, 4, 8, 0, 8, 3, 2, 2, 2, 4, 2, 0, 1, 6, 4, 8, 2, 3, 8, 0, 8, 7, 5, 8, 2, 3, 2, 2, 1, 8, 0, 8, 8, 0, 6, 5, 0, 2, 8, 0, 1, 2, 0, 2, 2, 6, 2, 0, 5, 4, 0, 0, 8, 0, 0, 0, 0, 8, 8, 5, 5, 2, 8, 0, 8, 2, 3, 8, 5, 0, 0, 2, 8, 8, 5, 0, 0, 8, 8, 2, 2, 0, 2, 8, 0, 0, 0, 7, 0, 2, 8, 4, 0, 2, 2, 5, 0, 2, 8, 0, 2, 4, 1, 0, 0, 2, 0, 3, 0, 0, 8, 8, 4, 9, 0, 8, 6, 2, 3, 0, 4, 0, 4, 2, 2, 0, 0, 8, 8, 5, 2, 0, 6, 5, 4, 8, 2, 0, 0, 0, 5, 0, 4, 0, 8, 4, 2, 0, 3, 0, 0, 2, 0, 0, 0, 1, 2, 8, 6, 8, 5, 0, 2, 0, 8, 0, 2, 4, 0, 2, 2, 4, 2, 2, 4, 0, 0, 0, 8, 0, 8, 8, 1, 2, 0, 0, 6, 0, 3, 0, 5, 2, 0, 0, 4, 0, 0, 0, 0, 8, 0, 0, 8, 4, 0, 8, 0, 8, 2, 8, 0, 0, 8, 8, 0, 3, 8, 8, 0, 8, 0, 8, 8, 0, 3, 4, 4, 0, 0, 0, 5, 0, 0, 1, 8, 1, 0, 3, 2, 0, 0, 8, 5, 0, 0, 0, 8, 2, 0, 8, 0, 3, 2, 8, 8, 0, 2, 5, 2, 4, 0, 0, 0, 1, 2, 6, 0, 8, 0, 4, 6, 0, 2, 5, 0, 2, 0, 0, 0, 0, 8, 8, 0, 3, 0, 0, 8, 0, 0, 4, 2, 8, 0, 1, 1, 8, 8, 2, 8, 0, 0, 0, 6, 8, 8, 0, 5, 8, 3, 2, 2, 8, 1, 2, 8, 8, 2, 0, 8, 4, 0, 0, 3, 0, 4, 2, 4, 0, 0, 0, 1, 8, 0, 8, 2, 2, 1, 5, 0, 8, 2, 0, 4, 6, 2, 0, 0, 0, 0, 2, 0, 4, 0, 0, 1, 0, 8, 4, 0, 0, 0, 0, 6, 2, 6, 2, 2, 0, 4, 0, 2, 2, 8, 4, 0, 1, 0, 4, 0, 2, 2, 1, 3, 6, 2, 0, 8, 0, 0, 8, 0, 4, 2, 4, 2, 7, 0, 1, 2, 0, 3, 2, 4, 0, 0, 0, 0, 9, 1, 4, 8, 3, 0, 1, 2, 0, 4, 6, 1, 8, 0, 0, 1, 0, 1, 2, 0, 2, 0, 1, 2, 0, 6, 0, 8, 0, 5, 0, 8, 6, 2, 0, 3, 2, 0, 8, 8, 0, 2, 4, 8, 0, 0, 8, 4, 2, 9, 2, 4, 0, 2, 3, 2, 2, 2, 0, 0, 8, 0, 8, 0, 2, 3, 0, 2, 0, 8, 8, 0, 0, 0, 0, 8, 2, 0, 3, 0, 2, 4, 8, 2, 8, 0, 3, 0, 0, 2, 1, 8, 0, 2, 0, 8, 5, 0, 0, 1, 2, 2, 0, 8, 8, 3, 4, 0, 0, 3, 2, 0, 8, 4, 7, 2, 0, 2, 0, 3, 8, 3, 8, 8, 8, 8, 2, 0, 0, 8, 0, 1, 0, 3, 0, 8, 0, 3, 6, 5, 2, 8, 2, 0, 2, 4, 8, 1, 0, 4, 8, 2, 8, 8, 2, 4, 3, 8, 8, 2, 4, 0, 0, 3, 2, 2, 4, 2, 8, 6, 2, 0, 0, 8, 0, 8, 4, 2, 2, 8, 8, 1, 1, 8, 0, 8, 0, 0, 4, 8, 4, 6, 3, 0, 0, 6, 6, 0, 5, 2, 3, 8, 8, 0, 4, 0, 6, 6, 0, 0, 4, 0, 8, 4, 2, 0, 4, 4, 2, 1, 8, 9, 4, 2, 8, 2, 8, 0, 0, 0, 8, 2, 8, 0, 5, 2, 0, 0, 4, 3, 0, 0, 0, 2, 2, 4, 8, 2, 0, 4, 8, 3, 8, 0, 8, 2, 2, 4, 0, 5, 4, 2, 0, 8, 8, 3, 0, 6, 8, 4, 8, 0, 0, 2, 8, 0, 0, 8, 2, 0, 0, 0, 3, 0, 2, 0, 0, 2, 8, 0, 2, 0, 2, 0, 0, 0, 8, 2, 8, 4, 2, 1, 2, 6, 4, 3, 2, 4, 0, 8, 8, 8, 2, 2, 8, 0, 6, 8, 0, 3, 7, 3, 8, 4, 2, 0, 9, 2, 0, 8, 8, 4, 8, 8, 2, 4, 2, 8, 8, 0, 2, 2, 8, 4, 0, 2, 0, 8, 2, 0, 3, 0, 8, 0, 4, 1, 0, 2, 4, 0, 6, 0, 2, 3, 0, 0, 3, 0, 0, 8, 4, 4, 8, 0, 0, 3, 0, 0, 5, 8, 1, 8, 8, 8, 0, 8, 0, 0, 0, 4, 4, 2, 5, 0, 0, 2, 6, 8, 3, 0, 8, 0, 2, 1, 0, 2, 8, 2, 8, 2, 8, 8, 0, 8, 0, 5, 6, 5, 1, 2, 0, 5, 8, 0, 5, 8, 4, 0, 2, 2, 2, 0, 3, 4, 0, 2, 0, 2, 6, 0, 2, 2, 0, 2, 0, 3, 2, 2, 8, 2, 0, 6, 2, 8, 0, 0, 0, 0, 2, 4, 8, 8, 2, 0, 2, 8, 0, 2, 8, 0, 0, 2, 1, 0, 4, 6, 0, 4, 0, 0, 2, 0, 1, 3, 0, 8, 0, 8, 8, 3, 4, 0, 4, 5, 8, 8, 3, 0, 0, 3, 5, 8, 0, 0, 0, 0, 0, 2, 0, 8, 1, 0, 1, 8, 5, 3, 2, 3, 2, 2, 2, 0, 0, 0, 0, 8, 0, 0, 0, 8, 2, 2, 3, 8, 8, 2, 0, 0, 0, 8, 4, 0, 2, 0, 8, 5, 0, 0, 0, 0, 2, 0, 2, 8, 0, 1, 8, 2, 4, 4, 2, 8, 0, 0, 2, 2, 7, 0, 8, 8, 0, 0, 8, 0, 1, 0, 0, 2, 3, 3, 0, 8, 2, 0, 0, 0, 4, 0, 8, 3, 0, 0, 8, 8, 8, 8, 0, 8, 0, 2, 0, 5, 0, 4, 8, 0, 2, 2, 0, 2, 2, 4, 5, 3, 6, 0, 8, 2, 3, 8, 8, 2, 9, 0, 2, 0, 8, 0, 4, 2, 2, 8, 4, 8, 8, 6, 0, 2, 8, 8, 8, 0, 1, 2, 0, 0, 3, 0, 0, 3, 9, 8, 2, 6, 3, 0, 3, 4, 8, 0, 5, 0, 0, 3, 2, 0, 0, 8, 8, 2, 2, 8, 0, 3, 0, 8, 0, 8, 5, 3, 0, 3, 4, 2, 0, 2, 4, 0, 0, 0, 6, 1, 2, 8, 8, 0, 0, 0, 0, 0, 8, 3, 8, 0, 2, 4, 2, 3, 8, 2, 3, 8, 2, 1, 2, 0, 0, 8, 0, 0, 4, 2, 4, 6, 2, 1, 3, 2, 2, 8, 0, 8, 8, 0, 4, 4, 0, 2, 4, 8, 8, 0, 4, 4, 4, 6, 4, 2, 8, 6, 0, 2, 0, 8, 8, 8, 8, 2, 8, 8, 8, 2, 2, 0, 2, 6, 2, 0, 8, 3, 4, 0, 4, 0, 8, 8, 6, 2, 6, 8, 6, 0, 4, 0, 8, 2, 0, 0, 0, 3, 8, 8, 8, 0, 0, 2, 2, 2, 1, 3, 8, 5, 6, 0, 0, 0, 0, 4, 2, 8, 1, 1, 6, 8, 0, 0, 0, 0, 8, 8, 8, 2, 8, 8, 0, 0, 2, 4, 1, 8, 8, 4, 0, 5, 7, 0, 0, 0, 2, 8, 1, 1, 2, 9, 2, 2, 8, 0, 8, 2, 6, 0, 0, 0, 3, 8, 0, 8, 8, 0, 5, 4, 2, 8, 4, 4, 4, 0, 0, 0, 0, 2, 0, 8, 9, 8, 8, 0, 2, 0, 2, 3, 2, 5, 0, 0, 0, 6, 3, 2, 1, 1, 1, 0, 6, 0, 0, 8, 0, 2, 6, 0, 2, 8, 8, 0, 8, 0, 2, 0, 2, 3, 2, 0, 0, 4, 0, 6, 8, 2, 0, 5, 8, 4, 6, 0, 8, 8, 0, 5, 8, 0, 8, 8, 8, 0, 2, 8, 2, 2, 0, 8, 2, 3, 3, 0, 2, 4, 3, 0, 9, 8, 8, 0, 8, 8, 8, 4, 3, 8, 8, 8, 8, 6, 1, 0, 0, 0, 8, 9, 0, 8, 0, 3, 0, 7, 8, 2, 0, 2, 6, 8, 2, 0, 2, 3, 6, 2, 2, 5, 0, 8, 0, 8, 3, 0, 8, 3, 4, 0, 0, 0, 0, 7, 3, 9, 5, 0, 3, 2, 8, 8, 2, 4, 0, 9, 8, 2, 1, 0, 0, 2, 8, 2, 8, 2, 0, 8, 8, 0, 6, 2, 2, 0, 0, 4, 4, 2, 0, 0, 0, 2, 0, 8, 0, 2, 8, 2, 4, 0, 5, 0, 2, 8, 5, 0, 8, 2, 0, 2, 6, 2, 2, 2, 0, 0, 0, 2, 2, 0, 2, 2, 0, 8, 6, 0, 2, 0, 3, 4, 2, 0, 8, 0, 0, 2, 4, 0, 0, 1, 8, 0, 4, 8, 8, 0, 0, 8, 2, 2, 0, 2, 0, 0, 8, 0, 4, 1, 4, 1, 0, 8, 3, 8, 2, 2, 8, 6, 6, 8, 8, 0, 8, 0, 0, 3, 0, 0, 0, 5, 1, 8, 4, 8, 2, 4, 0, 2, 8, 0, 2, 4, 0, 2, 0, 0, 6, 0, 8, 2, 0, 4, 4, 8, 1, 3, 0, 6, 4, 0, 0, 0, 8, 0, 0, 2, 8, 8, 0, 3, 0, 0, 1, 2, 3, 6, 0, 0, 5, 8, 0, 0, 0, 4, 0, 2, 8, 0, 8, 3, 2, 6, 2, 0, 8, 0, 0, 6, 4, 4, 0, 3, 6, 6, 0, 5, 2, 2, 0, 4, 4, 4, 0, 3, 8, 0, 8, 2, 8, 2, 8, 8, 2, 0, 4, 8, 8, 9, 1, 8, 0, 8, 2, 6, 2, 0, 2, 0, 8, 2, 2, 2, 0, 2, 8, 0, 6, 7, 0, 6, 0, 0, 4, 0, 0, 0, 2, 4, 8, 0, 0, 1, 4, 4, 5, 8, 2, 0, 2, 0, 5, 0, 8, 0, 8, 1, 0, 0, 3, 6, 8, 8, 0, 2, 8, 2, 2, 0, 2, 3, 0, 2, 0, 6, 4, 2, 8, 8, 1, 2, 0, 8, 0, 0, 2, 4, 5, 0, 8, 4, 2, 6, 0, 2, 8, 0, 0, 2, 8, 0, 0, 2, 3, 5, 6, 6, 5, 3, 2, 0, 0, 8, 8, 0, 8, 0, 2, 0, 0, 4, 2, 2, 0, 8, 0, 0, 8, 0, 2, 2, 5, 0, 8, 3, 6, 0, 6, 5, 2, 1, 2, 0, 2, 0, 0, 6, 1, 8, 0, 8, 0, 0, 2, 6, 4, 4, 0, 5, 0, 2, 0, 0, 3, 8, 0, 8, 2, 6, 2, 0, 0, 8, 3, 8, 0, 0, 8, 8, 0, 2, 0, 6, 2, 5, 1, 0, 1, 0, 0, 4, 0, 0, 6, 4, 2, 2, 2, 0, 0, 2, 2, 0, 0, 1, 0, 8, 0, 0, 2, 2, 0, 5, 0, 8, 8, 1, 8, 5, 8, 8, 8, 4, 2, 0, 3, 0, 5, 6, 5, 5, 0, 0, 6, 0, 8, 8, 0, 8, 1, 0, 0, 6, 0, 0, 6, 0, 0, 0, 6, 8, 3, 0, 0, 0, 0, 0, 1, 0, 8, 6, 8, 0, 3, 2, 0, 2, 0, 8, 0, 1, 2, 2, 8, 0, 0, 8, 0, 9, 0, 0, 0, 1, 0, 2, 0, 0, 5, 8, 0, 8, 2, 6, 6, 5, 0, 2, 0, 0, 8, 8, 4, 0, 1, 1, 0, 7, 0, 0, 8, 2, 5, 0, 3, 0, 8, 2, 6, 0, 5, 2, 2, 0, 8, 8, 3, 0, 9, 0, 8, 0, 2, 1, 8, 0, 9, 8, 0, 0, 0, 0, 0, 0, 1, 2, 1, 8, 8, 2, 2, 2, 0, 4, 4, 5, 2, 0, 0, 0, 4, 0, 4, 0, 2, 0, 8, 8, 3, 8, 6, 6, 0, 0, 5, 2, 6, 2, 6, 8, 0, 8, 4, 2, 6, 4, 2, 0, 2, 2, 1, 4, 4, 8, 2, 2, 0, 0, 6, 0, 2, 4, 8, 2, 8, 0, 3, 1, 0, 4, 6, 4, 0, 0, 8, 0, 0, 0, 9, 8, 9, 1, 2, 8, 8, 2, 4, 0, 0, 8, 3, 0, 0, 2, 8, 8, 4, 4, 8, 8, 5, 8, 4, 2, 4, 9, 0, 2, 0, 0, 0, 4, 8, 0, 0, 8, 2, 2, 8, 0, 2, 8, 8, 4, 0, 8, 8, 2, 0, 6, 2, 5, 1, 8, 0, 0, 2, 2, 4, 2, 0, 4, 0, 2, 8, 0, 0, 0, 8, 0, 2, 8, 0, 2, 0, 1, 8, 6, 5, 8, 0, 6, 0, 8, 0, 8, 0, 3, 7, 6, 5, 8, 0, 8, 0, 0, 2, 3, 8, 1, 4, 0, 0, 8, 0, 5, 8, 0, 0, 8, 8, 0, 0, 0, 8, 5, 0, 0, 3, 0, 8, 0, 0, 8, 0, 0, 0, 2, 2, 8, 6, 8, 8, 8, 3, 3, 0, 2, 0, 0, 4, 1, 0, 2, 2, 0, 6, 0, 3, 6, 8, 0, 8, 2, 0, 0, 7, 2, 4, 2, 6, 0, 4, 0, 4, 0, 8, 0, 8, 8, 1, 6, 0, 3, 0, 6, 0, 2, 0, 0, 0, 0, 1, 0, 0, 8, 4, 8, 0, 0, 1, 1, 1, 6, 3, 0, 4, 6, 0, 4, 8, 8, 0, 0, 0, 0, 8, 0, 0, 6, 8, 3, 8, 2, 8, 0, 2, 4, 0, 4, 0, 0, 0, 4, 2, 2, 2, 8, 0, 4, 0, 1, 8, 8, 8, 4, 0, 3, 0, 8, 8, 0, 0, 0, 2, 7, 8, 2, 8, 8, 4, 8, 0, 8, 0, 0, 8, 8, 0, 8, 4, 2, 0, 2, 8, 2, 0, 1, 0, 0, 0, 2, 2, 0, 4, 0, 1, 5, 0, 0, 8, 0, 8, 8, 6, 8, 0, 8, 0, 8, 0, 2, 4, 0, 6, 0, 8, 2, 4, 9, 2, 8, 2, 2, 8, 0, 2, 8, 6, 8, 3, 6, 4, 8, 0, 8, 2, 8, 8, 0, 0, 8, 0, 0, 8, 2, 0, 2, 0, 2, 2, 8, 8, 0, 5, 4, 1, 0, 5, 8, 0, 2, 0, 9, 6, 0, 0, 8, 8, 2, 3, 1, 5, 0, 8, 4, 2, 2, 3, 0, 0, 8, 0, 2, 0, 6, 0, 1, 8, 3, 0, 5, 8, 2, 0, 8, 2, 2, 0, 3, 4, 0, 3, 8, 8, 0, 8, 0, 2, 0, 4, 8, 0, 4, 7, 8, 3, 2, 0, 0, 8, 6, 0, 0, 0, 8, 6, 2, 0, 4, 2, 4, 0, 0, 1, 0, 0, 0, 2, 8, 0, 8, 0, 8, 0, 3, 0, 0, 2, 2, 0, 0, 0, 4, 4, 8, 8, 0, 2, 4, 1, 8, 2, 0, 0, 2, 8, 0, 0, 0, 0, 2, 4, 8, 2, 0, 5, 8, 8, 0, 4, 0, 4, 6, 2, 0, 9, 4, 4, 2, 8, 1, 3, 2, 6, 0, 0, 1, 8, 0, 8, 8, 0, 6, 8, 9, 4, 3, 0, 0, 0, 3, 0, 0, 0, 0, 2, 0, 5, 2, 2, 0, 8, 0, 8, 8, 2, 4, 2, 0, 4, 2, 1, 8, 2, 8, 1, 0, 0, 4, 2, 0, 9, 8, 8, 2, 0, 2, 3, 0, 0, 2, 8, 1, 0, 2, 0, 7, 0, 0, 6, 0, 1, 3, 6, 0, 2, 8, 2, 0, 0, 2, 8, 0, 0, 2, 0, 0, 6, 3, 0, 0, 4, 3, 1, 0, 0, 1, 0, 0, 7, 2, 0, 1, 7, 0, 0, 0, 2, 4, 7, 6, 8, 2, 2, 4, 4, 6, 0, 0, 8, 0, 2, 4, 4, 0, 0, 2, 2, 0, 0, 2, 2, 8, 0, 0, 6, 8, 2, 2, 3, 8, 8, 0, 5, 7, 0, 4, 1, 2, 8, 6, 2, 6, 4, 0, 8, 8, 8, 2, 2, 0, 8, 8, 0, 0, 0, 2, 2, 2, 3, 2, 4, 0, 2, 2, 8, 0, 8, 0, 0, 2, 0, 8, 2, 0, 0, 8, 8, 8, 8, 4, 2, 0, 2, 1, 0, 0, 9, 6, 0, 4, 0, 0, 0, 8, 8, 8, 4, 4, 6, 3, 0, 2, 0, 0, 2, 8, 0, 8, 2, 0, 2, 2, 8, 0, 0, 0, 0, 8, 8, 2, 0, 0, 2, 4, 8, 5, 8, 2, 8, 8, 2, 8, 0, 0, 0, 2, 5, 4, 0, 2, 1, 0, 3, 0, 0, 0, 2, 8, 0, 8, 0, 8, 0, 5, 5, 8, 1, 8, 8, 2, 1, 2, 0, 8, 2, 4, 8, 0, 0, 8, 2, 7, 2, 4, 0, 0, 1, 0, 4, 0, 0, 4, 0, 0, 2, 0, 2, 8, 0, 7, 2, 0, 2, 0, 0, 2, 2, 4, 8, 2, 2, 4, 1, 8, 9, 5, 0, 6, 9, 4, 2, 2, 2, 0, 0, 8, 0, 6, 0, 8, 4, 4, 8, 0, 0, 0, 6, 8, 0, 0, 1, 0, 6, 4, 0, 2, 8, 8, 0, 8, 2, 8, 4, 2, 8, 6, 8, 2, 0, 5, 0, 4, 2, 6, 8, 4, 2, 6, 0, 0, 4, 5, 2, 0, 0, 8, 0, 2, 8, 2, 2, 2, 0, 0, 2, 4, 4, 8, 6, 0, 0, 8, 8, 2, 6, 4, 1, 4, 0, 0, 8, 2, 8, 2, 4, 0, 2, 4, 0, 2, 2, 2, 0, 0, 3, 2, 3, 8, 2, 3, 2, 6, 1, 8, 2, 5, 0, 0, 8, 0, 0, 2, 0, 0, 8, 0, 0, 0, 8, 0, 0, 8, 0, 8, 0, 1, 8, 2, 2, 8, 5, 8, 0, 8, 2, 0, 4, 6, 0, 8, 6, 2, 0, 2, 8, 0, 8, 8, 6, 8, 0, 2, 4, 0, 0, 4, 4, 8, 2, 8, 8, 8, 8, 0, 3, 3, 8, 0, 2, 0, 0, 0, 1, 8, 8, 0, 8, 0, 0, 7, 0, 2, 0, 0, 2, 8, 2, 0, 0, 2, 4, 0, 0, 2, 0, 2, 1, 8, 8, 0, 0, 0, 2, 0, 0, 5, 8, 2, 0, 0, 4, 5, 0, 2, 0, 0, 2, 2, 2, 2, 9, 8, 0, 0, 2, 0, 7, 0, 5, 2, 2, 7, 5, 8, 2, 0, 6, 0, 8, 1, 8, 6, 1, 8, 0, 8, 0, 8, 0, 7, 3, 0, 4, 8, 0, 0, 4, 2, 4, 0, 5, 0, 1, 8, 5, 8, 4, 2, 2, 0, 8, 0, 2, 8, 2, 0, 2, 4, 8, 4, 0, 8, 6, 8, 0, 0, 8, 8, 0, 0, 2, 8, 8, 8, 5, 4, 2, 1, 9, 1, 8, 2, 8, 2, 5, 6, 8, 0, 2, 0, 2, 8, 8, 2, 1, 8, 2, 0, 0, 2, 8, 2, 0, 0, 4, 0, 2, 0, 0, 8, 0, 7, 8, 3, 5, 2, 0, 2, 2, 1, 0, 0, 0, 0, 2, 0, 3, 2, 2, 2, 4, 0, 2, 0, 0, 3, 0, 4, 0, 2, 0, 8, 0, 2, 0, 4, 0, 0, 0, 0, 0, 0, 8, 8, 0, 2, 0, 8, 2, 8, 0, 0, 1, 8, 0, 8, 0, 2, 1, 2, 0, 0, 2, 8, 8, 0, 8, 8, 1, 2, 4, 0, 3, 7, 0, 6, 8, 5, 8, 2, 8, 8, 4, 0, 0, 5, 2, 8, 6, 0, 2, 0, 3, 8, 1, 2, 8, 0, 8, 2, 0, 0, 8, 0, 2, 2, 3, 0, 0, 5, 5, 9, 8, 8, 8, 0, 0, 2, 4, 0, 3, 8, 0, 4, 2, 4, 6, 2, 8, 2, 0, 1, 0, 2, 4, 8, 5, 8, 2, 8, 2, 2, 8, 0, 0, 0, 4, 0, 6, 2, 0, 2, 1, 3, 8, 0, 1, 0, 4, 2, 2, 0, 8, 0, 0, 8, 0, 2, 2, 0, 0, 8, 1, 8, 2, 2, 1, 0, 8, 2, 8, 2, 2, 4, 8, 6, 0, 0, 0, 8, 8, 0, 2, 6, 0, 2, 8, 4, 0, 0, 0, 8, 8, 2, 2, 0, 9, 0, 0, 8, 0, 2, 0, 2, 0, 2, 2, 0, 0, 4, 1, 0, 8, 2, 2, 0, 2, 2, 0, 0, 3, 0, 1, 4, 0, 6, 0, 3, 4, 2, 3, 0, 3, 2, 8, 0, 6, 4, 0, 2, 2, 6, 0, 3, 6, 0, 9, 2, 1, 3, 0, 0, 0, 0, 1, 1, 1, 8, 0, 0, 2, 8, 8, 2, 0, 6, 6, 0, 0, 8, 0, 0, 2, 5, 8, 2, 0, 8, 8, 4, 2, 9, 4, 8, 4, 2, 2, 6, 2, 0, 8, 1, 5, 8, 0, 3, 2, 4, 8, 9, 0, 8, 0, 0, 8, 0, 0, 0, 6, 5, 4, 5, 1, 0, 8, 0, 6, 0, 0, 3, 5, 4, 6, 8, 0, 4, 2, 8, 0, 0, 2, 8, 0, 2, 0, 2, 5, 6, 9, 0, 3, 9, 2, 0, 0, 0, 8, 0, 0, 0, 2, 8, 2, 0, 0, 4, 0, 4, 2, 8, 2, 8, 2, 2, 5, 2, 0, 0, 0, 0, 8, 2, 0, 8, 0, 8, 0, 0, 3, 2, 8, 0, 8, 7, 0, 8, 6, 2, 0, 0, 0, 7, 0, 8, 8, 0, 8, 8, 3, 4, 0, 2, 0, 3, 0, 2, 8, 0, 1, 2, 0, 3, 0, 2, 8, 0, 0, 8, 3, 2, 0, 0, 8, 8, 0, 8, 1, 0, 0, 0, 0, 4, 1, 8, 8, 0, 2, 5, 8, 2, 3, 2, 0, 2, 8, 8, 0, 5, 0, 6, 0, 0, 0, 0, 8, 2, 0, 4, 6, 0, 4, 4, 4, 2, 2, 1, 7, 0, 2, 5, 0, 8, 0, 8, 0, 0, 8, 0, 0, 2, 8, 6, 0, 0, 1, 2, 0, 2, 0, 8, 6, 0, 0, 6, 0, 0, 4, 9, 8, 0, 4, 4, 1, 8, 8, 0, 4, 8, 0, 0, 0, 8, 1, 2, 2, 0, 4, 2, 8, 8, 2, 0, 0, 8, 7, 4, 8, 2, 0, 6, 8, 2, 8, 4, 0, 4, 5, 5, 8, 8, 8, 8, 4, 0, 8, 6, 0, 0, 8, 0, 0, 0, 0, 0, 6, 1, 1, 8, 8, 2, 0, 4, 2, 0, 0, 2, 2, 0, 2, 0, 8, 2, 3, 1, 2, 0, 0, 0, 0, 6, 4, 0, 0, 0, 4, 0, 0, 5, 4, 8, 8, 0, 0, 3, 3, 8, 0, 0, 8, 0, 8, 2, 0, 8, 0, 2, 2, 2, 0, 0, 0, 2, 8, 0, 3, 2, 2, 7, 0, 4, 2, 4, 7, 2, 0, 6, 0, 8, 5, 2, 0, 6, 4, 0, 2, 2, 0, 5, 8, 2, 2, 4, 9, 0, 0, 1, 0, 8, 2, 4, 8, 0, 0, 8, 1, 0, 1, 8, 0, 0, 4, 8, 0, 2, 0, 8, 5, 2, 9, 4, 8, 8, 5, 0, 8, 8, 2, 4, 0, 2, 8, 8, 0, 2, 8, 2, 8, 6, 8, 8, 0, 4, 0, 0, 8, 6, 8, 0, 0, 0, 3, 0, 0, 4, 0, 2, 4, 0, 5, 0, 5, 8, 8, 0, 2, 8, 5, 0, 0, 2, 8, 8, 8, 8, 2, 0, 2, 4, 8, 0, 0, 6, 2, 0, 2, 8, 5, 0, 2, 0, 6, 0, 2, 0, 0, 8, 0, 2, 4, 8, 4, 0, 0, 1, 0, 2, 0, 0, 0, 6, 6, 2, 3, 8, 0, 0, 0, 0, 8, 3, 2, 4, 8, 6, 4, 8, 7, 4, 0, 2, 0, 8, 4, 8, 2, 0, 0, 8, 2, 1, 2, 8, 0, 2, 8, 8, 8, 5, 2, 3, 1, 1, 0, 9, 2, 2, 8, 0, 0, 4, 0, 8, 2, 0, 0, 0, 2, 0, 2, 6, 0, 2, 6, 8, 0, 0, 3, 0, 5, 3, 3, 3, 2, 8, 8, 0, 0, 0, 4, 2, 0, 2, 3, 8, 0, 2, 0, 0, 8, 2, 8, 0, 0, 2, 0, 0, 8, 2, 0, 8, 0, 3, 2, 2, 8, 2, 2, 0, 1, 0, 0, 0, 2, 8, 5, 8, 0, 5, 0, 0, 4, 8, 2, 0, 2, 0, 0, 0, 0, 0, 1, 2, 8, 0, 4, 0, 0, 0, 6, 2, 4, 4, 1, 8, 2, 0, 0, 8, 0, 0, 0, 0, 6, 7, 9, 2, 0, 9, 0, 8, 2, 0, 2, 3, 2, 5, 3, 3, 0, 3, 0, 8, 8, 0, 1, 3, 0, 6, 0, 0, 5, 4, 0, 0, 2, 6, 1, 2, 8, 0, 3, 8, 8, 0, 0, 7, 0, 8, 3, 8, 4, 0, 0, 8, 0, 1, 8, 8, 2, 2, 2, 8, 0, 8, 0, 8, 0, 8, 3, 2, 4, 0, 3, 6, 0, 8, 2, 2, 8, 5, 2, 0, 4, 3, 0, 0, 1, 8, 0, 4, 2, 8, 6, 0, 0, 0, 5, 2, 2, 0, 2, 2, 0, 2, 8, 2, 9, 0, 2, 0, 4, 2, 0, 8, 0, 0, 0, 6, 2, 0, 8, 8, 8, 0, 2, 8, 0, 2, 1, 8, 1, 0, 2, 0, 8, 4, 8, 2, 0, 0, 6, 0, 0, 8, 0, 5, 0, 0, 0, 2, 3, 0, 0, 0, 1, 7, 8, 2, 4, 2, 0, 0, 3, 8, 0, 8, 7, 0, 8, 0, 2, 1, 0, 2, 0, 0, 0, 4, 2, 0, 8, 5, 7, 6, 8, 2, 2, 2, 5, 2, 3, 0, 0, 2, 3, 0, 0, 2, 8, 0, 8, 0, 0, 6, 6, 2, 6, 2, 2, 3, 1, 2, 2, 4, 0, 2, 2, 4, 8, 4, 8, 8, 0, 2, 8, 8, 0, 3, 2, 2, 0, 2, 4, 0, 8, 0, 0, 8, 2, 1, 5, 0, 2, 8, 0, 4, 0, 2, 2, 2, 8, 2, 0, 0, 2, 4, 0, 2, 1, 8, 2, 5, 4, 0, 0, 6, 8, 4, 0, 8, 2, 8, 8, 2, 4, 0, 0, 0, 2, 8, 0, 5, 8, 4, 6, 0, 2, 3, 6, 4, 0, 0, 1, 8, 0, 8, 0, 8, 8, 1, 0, 0, 0, 0, 8, 6, 0, 5, 4, 8, 9, 8, 0, 2, 8, 0, 8, 0, 8, 3, 0, 2, 9, 5, 0, 0, 1, 1, 6, 0, 8, 2, 2, 8, 0, 4, 2, 0, 0, 8, 8, 6, 2, 3, 0, 1, 8, 0, 5, 0, 0, 0, 4, 0, 2, 0, 0, 8, 0, 6, 2, 5, 0, 2, 8, 0, 0, 2, 1, 4, 2, 0, 2, 6, 6, 0, 0, 8, 4, 2, 2, 0, 2, 8, 3, 2, 2, 0, 8, 4, 2, 8, 0, 0, 3, 5, 2, 3, 8, 2, 1, 8, 1, 0, 0, 5, 8, 5, 2, 6, 0, 0, 2, 2, 6, 0, 0, 1, 6, 2, 0, 0, 8, 5, 2, 8, 0, 0, 0, 0, 2, 3, 8, 0, 2, 4, 2, 4, 2, 8, 8, 8, 8, 3, 2, 4, 2, 0, 9, 8, 2, 8, 2, 0, 6, 8, 5, 8, 0, 0, 2, 0, 5, 4, 2, 0, 3, 4, 2, 2, 2, 8, 4, 8, 0, 0, 8, 0, 0, 9, 4, 0, 1, 4, 0, 2, 4, 8, 2, 3, 0, 8, 4, 8, 2, 9, 2, 2, 8, 0, 2, 0, 2, 2, 2, 8, 8, 2, 8, 3, 8, 4, 4, 1, 2, 1, 2, 8, 8, 8, 4, 2, 4, 2, 8, 8, 0, 1, 2, 6, 2, 0, 8, 3, 0, 0, 0, 6, 9, 3, 2, 0, 6, 6, 9, 8, 5, 6, 8, 2, 0, 1, 2, 2, 0, 2, 0, 5, 0, 0, 0, 2, 8, 0, 6, 8, 0, 0, 4, 3, 0, 2, 0, 2, 2, 4, 0, 4, 8, 2, 4, 0, 2, 0, 2, 2, 2, 2, 4, 3, 0, 4, 0, 1, 0, 6, 0, 8, 0, 0, 4, 3, 1, 6, 8, 4, 0, 8, 2, 8, 8, 2, 0, 2, 8, 2, 0, 2, 8, 8, 4, 0, 2, 0, 7, 0, 8, 0, 2, 0, 8, 6, 4, 2, 6, 8, 2, 0, 8, 8, 3, 4, 2, 2, 4, 8, 0, 4, 0, 1, 6, 0, 8, 2, 3, 8, 5, 2, 0, 0, 0, 2, 2, 0, 4, 0, 2, 0, 4, 6, 8, 3, 8, 2, 2, 8, 8, 0, 0, 0, 0, 0, 0, 0, 3, 0, 8, 0, 0, 0, 0, 8, 0, 2, 8, 2, 4, 2, 2, 8, 4, 3, 0, 8, 8, 8, 4, 2, 6, 0, 2, 2, 8, 5, 8, 2, 8, 3, 0, 2, 5, 0, 8, 0, 0, 0, 6, 3, 1, 0, 0, 5, 0, 2, 0, 0, 8, 2, 1, 0, 2, 0, 4, 2, 0, 2, 2, 2, 2, 2, 6, 0, 4, 2, 6, 2, 0, 3, 3, 2, 2, 8, 8, 8, 0, 8, 0, 2, 0, 8, 8, 8, 0, 2, 2, 6, 8, 2, 8, 2, 0, 8, 0, 4, 4, 0, 8, 0, 0, 0, 0, 0, 0, 8, 3, 5, 2, 8, 8, 8, 2, 8, 4, 8, 8, 2, 2, 0, 1, 2, 8, 3, 0, 0, 0, 0, 8, 2, 6, 2, 0, 1, 0, 3, 1, 2, 9, 0, 8, 8, 6, 8, 2, 0, 8, 0, 2, 1, 8, 3, 6, 8, 6, 8, 6, 0, 0, 5, 8, 9, 0, 8, 4, 0, 7, 2, 8, 2, 8, 3, 0, 2, 8, 8, 7, 3, 0, 2, 8, 8, 2, 6, 0, 2, 0, 4, 0, 4, 0, 0, 1, 2, 0, 4, 0, 0, 8, 0, 8, 0, 0, 2, 0, 8, 2, 8, 0, 0, 4, 8, 0, 2, 0, 2, 0, 2, 4, 9, 8, 5, 8, 1, 4, 4, 5, 8, 8, 6, 0, 9, 8, 0, 2, 3, 2, 0, 0, 2, 0, 2, 0, 2, 2, 2, 2, 0, 8, 0, 6, 3, 0, 2, 0, 4, 2, 0, 0, 0, 2, 4, 2, 4, 6, 8, 8, 0, 2, 8, 8, 1, 8, 4, 8, 4, 6, 2, 4, 0, 0, 4, 0, 0, 0, 8, 3, 0, 0, 3, 2, 0, 0, 0, 3, 0, 2, 8, 2, 4, 0, 2, 8, 3, 8, 6, 1, 8, 0, 0, 0, 0, 5, 4, 8, 8, 5, 1, 8, 0, 5, 1, 2, 0, 0, 0, 2, 0, 0, 8, 2, 0, 0, 2, 6, 4, 8, 8, 0, 0, 3, 2, 3, 4, 2, 0, 4, 6, 7, 0, 8, 2, 0, 0, 0, 0, 0, 8, 0, 0, 4, 2, 0, 5, 6, 0, 0, 8, 2, 0, 0, 8, 0, 0, 5, 0, 3, 5, 4, 0, 8, 0, 8, 0, 3, 0, 2, 4, 8, 8, 2, 8, 5, 2, 0, 0, 8, 8, 2, 0, 0, 8, 8, 2, 2, 0, 0, 8, 0, 3, 8, 8, 8, 8, 0, 0, 0, 4, 0, 8, 8, 7, 0, 0, 2, 8, 2, 2, 4, 3, 0, 0, 8, 8, 8, 6, 6, 4, 0, 0, 8, 0, 5, 0, 2, 0, 2, 0, 0, 0, 0, 0, 2, 0, 0, 0, 8, 2, 4, 8, 5, 0, 3, 0, 2, 2, 0, 8, 0, 0, 8, 2, 8, 0, 6, 2, 0, 4, 4, 8, 1, 6, 7, 8, 0, 0, 0, 0, 9, 8, 2, 2, 2, 0, 6, 2, 2, 0, 3, 4, 0, 0, 2, 2, 0, 0, 0, 4, 3, 2, 8, 4, 8, 0, 8, 2, 6, 4, 9, 0, 8, 2, 0, 8, 8, 2, 8, 4, 0, 8, 4, 2, 0, 0, 0, 3, 8, 3, 0, 6, 0, 8, 0, 0, 0, 8, 0, 4, 2, 8, 8, 2, 4, 0, 8, 0, 6, 3, 6, 6, 3, 2, 0, 0, 5, 0, 2, 0, 0, 0, 3, 0, 3, 8, 8, 8, 0, 8, 1, 8, 2, 2, 2, 4, 2, 8, 0, 1, 6, 2, 8, 3, 6, 8, 8, 0, 2, 1, 2, 8, 8, 2, 8, 2, 6, 0, 0, 0, 8, 2, 8, 0, 2, 1, 6, 9, 0, 0, 8, 2, 2, 4, 4, 4, 0, 6, 2, 0, 8, 0, 2, 8, 2, 2, 2, 0, 2, 0, 2, 0, 0, 8, 6, 5, 2, 0, 2, 8, 1, 0, 0, 2, 2, 4, 0, 0, 3, 4, 0, 0, 0, 0, 0, 0, 2, 2, 8, 8, 6, 8, 8, 0, 8, 8, 8, 8, 1, 2, 2, 0, 8, 8, 3, 0, 8, 8, 4, 2, 0, 0, 2, 0, 2, 2, 2, 2, 8, 0, 9, 3, 1, 5, 0, 0, 5, 0, 3, 8, 0, 2, 8, 2, 8, 2, 1, 0, 4, 0, 8, 4, 0, 6, 0, 0, 9, 4, 4, 4, 0, 8, 8, 4, 6, 2, 0, 0, 8, 0, 0, 2, 0, 8, 2, 2, 4, 2, 2, 2, 2, 0, 2, 8, 2, 0, 8, 6, 0, 8, 0, 6, 7, 8, 8, 5, 8, 9, 3, 2, 0, 0, 8, 1, 8, 0, 2, 0, 2, 2, 0, 0, 0, 2, 0, 4, 3, 3, 6, 8, 2, 8, 0, 2, 8, 0, 8, 5, 8, 2, 8, 0, 4, 2, 4, 0, 0, 8, 2, 2, 1, 0, 4, 8, 0, 2, 7, 0, 0, 6, 8, 0, 6, 8, 0, 2, 9, 1, 4, 8, 4, 2, 8, 8, 0, 6, 0, 2, 4, 8, 2, 8, 6, 2, 0, 0, 0, 0, 8, 2, 0, 8, 2, 0, 0, 0, 4, 2, 2, 8, 0, 6, 0, 0, 2, 4, 0, 0, 5, 0, 1, 4, 0, 0, 7, 4, 2, 1, 0, 2, 2, 6, 2, 8, 0, 8, 8, 0, 0, 8, 3, 9, 3, 8, 0, 4, 0, 6, 8, 6, 2, 8, 0, 0, 4, 0, 0, 2, 4, 0, 2, 0, 6, 0, 3, 8, 0, 5, 2, 0, 0, 2, 8, 8, 2, 0, 2, 4, 8, 0, 4, 8, 2, 0, 2, 0, 4, 4, 0, 0, 0, 0, 8, 8, 5, 0, 8, 2, 8, 8, 2, 6, 0, 6, 4, 2, 0, 3, 3, 0, 9, 0, 4, 2, 8, 0, 4, 0, 0, 0, 0, 0, 9, 0, 2, 3, 3, 4, 0, 4, 2, 0, 7, 5, 2, 8, 0, 2, 0, 0, 3, 0, 0, 8, 8, 0, 2, 0, 2, 0, 2, 0, 6, 0, 3, 8, 0, 0, 2, 0, 4, 8, 6, 0, 8, 0, 8, 0, 8, 8, 8, 2, 8, 5, 0, 8, 0, 8, 2, 4, 2, 0, 0, 1, 4, 8, 3, 8, 6, 0, 0, 0, 2, 4, 8, 8, 0, 2, 4, 3, 4, 0, 0, 3, 4, 0, 2, 8, 8, 8, 0, 8, 3, 2, 0, 2, 0, 1, 0, 0, 6, 8, 2, 6, 8, 3, 2, 8, 0, 0, 8, 4, 2, 3, 2, 0, 4, 1, 2, 0, 0, 4, 4, 8, 0, 0, 0, 3, 2, 8, 0, 4, 8, 8, 2, 8, 0, 2, 2, 0, 3, 3, 0, 0, 0, 0, 0, 0, 0, 0, 3, 4, 0, 8, 0, 2, 0, 0, 4, 8, 0, 4, 8, 8, 0, 1, 0, 3, 8, 4, 8, 8, 8, 0, 3, 7, 0, 0, 0, 2, 6, 0, 0, 0, 0, 8, 2, 7, 2, 0, 4, 4, 9, 2, 0, 0, 3, 1, 9, 0, 8, 8, 0, 4, 5, 0, 8, 0, 0, 8, 8, 2, 0, 3, 2, 0, 0, 0, 4, 0, 8, 0, 0, 7, 4, 0, 0, 8, 2, 9, 2, 0, 8, 2, 0, 8, 0, 2, 2, 0, 5, 0, 4, 2, 8, 6, 8, 2, 3, 4, 0, 2, 4, 8, 0, 8, 3, 4, 6, 8, 4, 7, 0, 0, 0, 3, 0, 4, 0, 8, 6, 2, 4, 0, 0, 8, 8, 2, 0, 2, 4, 8, 0, 0, 2, 8, 1, 8, 8, 4, 8, 2, 0, 8, 2, 4, 6, 5, 3, 2, 8, 8, 4, 1, 0, 8, 8, 2, 7, 0, 0, 2, 0, 0, 5, 0, 2, 0, 0, 8, 6, 1, 8, 4, 0, 8, 7, 0, 8, 2, 0, 0, 0, 0, 0, 2, 1, 2, 4, 2, 7, 0, 6, 0, 8, 8, 0, 8, 8, 8, 0, 0, 2, 0, 0, 8, 4, 0, 0, 0, 0, 4, 0, 0, 5, 6, 2, 3, 0, 6, 0, 2, 1, 5, 8, 3, 0, 0, 8, 0, 3, 8, 0, 8, 0, 0, 7, 2, 2, 0, 2, 4, 0, 2, 2, 2, 2, 2, 8, 8, 2, 0, 2, 0, 2, 0, 4, 4, 4, 0, 2, 8, 8, 0, 0, 2, 2, 4, 0, 0, 0, 0, 0, 1, 5, 5, 4, 8, 4, 1, 1, 8, 1, 2, 4, 6, 2, 6, 2, 3, 6, 8, 0, 0, 5, 4, 1, 0, 0, 0, 0, 2, 2, 5, 2, 0, 0, 2, 8, 2, 2, 2, 6, 0, 0, 8, 4, 8, 2, 8, 5, 8, 8, 8, 6, 2, 6, 7, 0, 4, 0, 0, 6, 0, 0, 0, 0, 0, 0, 2, 8, 0, 3, 4, 8, 0, 2, 1, 0, 0, 0, 3, 2, 1, 0, 6, 2, 8, 2, 0, 0, 4, 5, 8, 0, 8, 8, 8, 0, 8, 0, 0, 8, 8, 4, 0, 2, 4, 0, 4, 2, 8, 4, 3, 2, 8, 8, 3, 2, 0, 0, 2, 0, 2, 0, 3, 8, 0, 8, 4, 0, 0, 4, 0, 8, 5, 0, 2, 4, 8, 8, 0, 0, 0, 2, 6, 0, 8, 0, 0, 4, 8, 2, 2, 0, 0, 0, 8, 2, 2, 0, 2, 0, 0, 0, 2, 0, 3, 2, 2, 4, 4, 2, 2, 0, 5, 2, 0, 0, 8, 0, 4, 8, 7, 0, 2, 8, 0, 1, 8, 0, 4, 4, 0, 0, 1, 3, 0, 0, 8, 0, 0, 8, 0, 0, 8, 0, 0, 4, 0, 0, 8, 4, 0, 3, 0, 8, 4, 0, 2, 8, 2, 0, 5, 4, 9, 1, 2, 2, 6, 5, 2, 0, 6, 5, 0, 0, 2, 3, 0, 0, 2, 0, 4, 8, 8, 0, 2, 4, 0, 3, 8, 0, 2, 6, 8, 8, 0, 2, 8, 8, 2, 0, 4, 4, 4, 2, 5, 3, 4, 1, 4, 2, 0, 8, 0, 3, 2, 3, 0, 3, 0, 2, 3, 0, 0, 2, 0, 2, 0, 0, 0, 0, 8, 6, 0, 0, 8, 4, 8, 2, 4, 2, 0, 0, 8, 0, 6, 8, 2, 4, 2, 8, 6, 8, 1, 8, 9, 0, 1, 0, 0, 1, 0, 2, 9, 3, 0, 0, 0, 8, 6, 0, 8, 1, 8, 2, 4, 6, 4, 0, 2, 2, 0, 2, 0, 0, 3, 8, 8, 8, 4, 2, 2, 8, 0, 0, 0, 0, 0, 0, 2, 1, 0, 2, 8, 0, 0, 5, 0, 3, 0, 2, 3, 4, 0, 8, 6, 0, 6, 8, 8, 8, 8, 8, 3, 0, 8, 8, 2, 6, 2, 0, 8, 0, 3, 0, 5, 8, 0, 8, 5, 0, 0, 0, 8, 2, 8, 6, 2, 8, 0, 3, 0, 4, 1, 0, 8, 5, 0, 4, 0, 2, 0, 8, 2, 0, 3, 4, 8, 0, 0, 0, 2, 0, 2, 0, 4, 0, 8, 4, 9, 2, 4, 8, 2, 0, 0, 5, 2, 0, 2, 5, 4, 0, 2, 4, 8, 0, 0, 0, 0, 6, 0, 5, 2, 0, 7, 6, 4, 6, 3, 7, 8, 0, 2, 4, 2, 0, 2, 6, 8, 2, 2, 0, 2, 5, 8, 8, 8, 8, 2, 2, 0, 0, 1, 8, 0, 0, 6, 0, 1, 8, 0, 4, 4, 8, 8, 8, 0, 2, 8, 2, 2, 2, 8, 4, 2, 5, 8, 8, 0, 0, 8, 2, 3, 3, 8, 2, 0, 8, 5, 6, 2, 4, 0, 2, 0, 3, 8, 2, 6, 8, 9, 5, 0, 3, 8, 0, 2, 0, 3, 2, 0, 6, 2, 2, 6, 0, 8, 8, 0, 0, 1, 8, 6, 0, 2, 2, 3, 2, 0, 8, 3, 0, 8, 8, 8, 0, 4, 8, 0, 4, 8, 0, 8, 0, 8, 8, 2, 2, 8, 2, 0, 4, 4, 8, 2, 0, 2, 8, 0, 2, 0, 4, 0, 4, 0, 8, 6, 1, 0, 3, 5, 0, 3, 8, 8, 0, 8, 0, 8, 3, 3, 2, 0, 0, 8, 2, 8, 2, 2, 0, 6, 6, 5, 6, 2, 8, 0, 2, 6, 8, 0, 0, 1, 6, 9, 2, 0, 2, 2, 3, 0, 2, 3, 4, 0, 1, 0, 8, 2, 8, 4, 6, 0, 8, 8, 0, 2, 0, 4, 0, 8, 2, 6, 0, 2, 7, 4, 0, 6, 1, 8, 4, 8, 2, 0, 0, 0, 6, 0, 5, 2, 0, 8, 0, 8, 8, 4, 0, 2, 2, 0, 4, 8, 8, 0, 5, 9, 4, 7, 0, 4, 0, 4, 0, 0, 8, 2, 2, 6, 4, 1, 0, 8, 5, 0, 8, 0, 2, 3, 4, 0, 0, 2, 2, 2, 0, 0, 8, 0, 0, 4, 0, 0, 0, 2, 5, 4, 2, 0, 8, 0, 0, 8, 0, 8, 0, 1, 6, 2, 5, 0, 3, 0, 8, 0, 2, 8, 8, 8, 2, 6, 6, 2, 0, 8, 0, 0, 2, 2, 2, 0, 4, 0, 1, 8, 0, 2, 1, 0, 3, 2, 0, 3, 0, 2, 8, 5, 0, 8, 4, 0, 2, 2, 5, 0, 2, 8, 2, 0, 8, 0, 2, 3, 1, 0, 8, 8, 0, 0, 5, 0, 0, 0, 8, 0, 2, 3, 6, 4, 2, 2, 2, 2, 4, 1, 2, 2, 7, 0, 8, 0, 2, 8, 0, 0, 6, 8, 2, 4, 2, 4, 0, 3, 6, 8, 0, 8, 8, 5, 4, 1, 0, 8, 0, 9, 8, 2, 0, 0, 8, 1, 2, 0, 4, 0, 0, 8, 8, 3, 4, 2, 8, 2, 0, 0, 4, 4, 8, 0, 0, 6, 8, 0, 8, 0, 0, 5, 8, 0, 8, 2, 5, 0, 2, 0, 2, 2, 8, 0, 8, 2, 0, 0, 3, 0, 0, 0, 2, 0, 8, 9, 2, 0, 8, 8, 2, 0, 8, 3, 6, 0, 2, 0, 4, 0, 8, 8, 5, 2, 0, 0, 0, 0, 0, 2, 0, 9, 8, 2, 5, 8, 2, 0, 0, 1, 1, 4, 9, 0, 2, 8, 0, 0, 0, 0, 2, 0, 0, 8, 2, 2, 0, 2, 0, 8, 8, 4, 6, 8, 0, 0, 0, 0, 3, 8, 2, 5, 4, 0, 4, 2, 0, 0, 8, 2, 4, 8, 2, 0, 0, 3, 2, 3, 0, 0, 0, 0, 3, 8, 1, 0, 8, 1, 0, 2, 0, 1, 0, 2, 2, 0, 0, 0, 0, 0, 0, 5, 0, 0, 3, 6, 4, 8, 8, 7, 6, 4, 4, 8, 2, 4, 4, 8, 8, 0, 8, 3, 8, 0, 1, 4, 0, 0, 0, 2, 8, 6, 0, 0, 8, 0, 8, 0, 4, 0, 0, 0, 5, 4, 2, 0, 2, 0, 8, 0, 2, 0, 8, 3, 0, 2, 0, 6, 8, 1, 8, 8, 8, 0, 0, 1, 8, 8, 0, 8, 8, 0, 8, 6, 4, 4, 0, 6, 8, 0, 0, 0, 0, 2, 0, 1, 7, 2, 0, 0, 0, 2, 2, 2, 3, 0, 0, 2, 8, 8, 3, 2, 0, 8, 0, 3, 6, 8, 0, 2, 6, 0, 0, 6, 8, 2, 8, 3, 0, 2, 0, 0, 2, 0, 2, 0, 0, 8, 7, 2, 0, 5, 0, 2, 0, 3, 0, 4, 7, 2, 0, 4, 0, 2, 9, 2, 1, 2, 0, 4, 2, 0, 2, 2, 8, 2, 0, 8, 6, 2, 0, 0, 2, 0, 8, 1, 0, 8, 8, 0, 0, 0, 7, 3, 6, 0, 1, 0, 0, 0, 2, 3, 2, 8, 7, 0, 8, 0, 0, 6, 0, 0, 0, 2, 0, 3, 8, 8, 0, 8, 2, 2, 4, 1, 2, 8, 2, 2, 0, 2, 0, 2, 8, 0, 0, 2, 0, 0, 8, 0, 2, 0, 8, 0, 8, 0, 2, 8, 8, 2, 0, 0, 8, 4, 0, 2, 0, 2, 0, 2, 8, 2, 0, 0, 8, 6, 0, 0, 8, 8, 0, 2, 0, 1, 6, 0, 0, 0, 8, 2, 0, 2, 4, 0, 2, 0, 8, 2, 3, 8, 3, 0, 0, 8, 9, 6, 2, 0, 1, 0, 0, 0, 0, 0, 4, 0, 2, 8, 0, 0, 0, 5, 1, 4, 0, 4, 2, 2, 1, 0, 0, 0, 4, 0, 4, 0, 0, 5, 5, 6, 2, 0, 2, 1, 0, 0, 0, 8, 0, 2, 4, 0, 0, 8, 8, 2, 8, 0, 2, 2, 2, 2, 7, 8, 4, 0, 0, 8, 8, 1, 4, 2, 1, 4, 8, 8, 2, 0, 0, 0, 2, 0, 0, 7, 4, 8, 0, 0, 0, 0, 0, 0, 4, 0, 8, 0, 0, 0, 2, 8, 4, 2, 0, 3, 8, 8, 8, 0, 2, 2, 0, 5, 0, 8, 2, 8, 0, 5, 2, 0, 0, 4, 5, 1, 3, 2, 0, 8, 4, 2, 1, 1, 0, 4, 8, 0, 8, 0, 0, 0, 0, 8, 8, 0, 2, 0, 0, 4, 0, 8, 0, 2, 1, 8, 0, 2, 4, 3, 4, 8, 0, 0, 0, 0, 2, 8, 4, 2, 0, 2, 1, 0, 0, 2, 0, 0, 8, 8, 0, 0, 0, 4, 0, 8, 0, 0, 0, 0, 0, 2, 0, 2, 2, 0, 8, 0, 0, 0, 1, 3, 8, 2, 2, 0, 0, 0, 7, 0, 2, 0, 0, 0, 0, 2, 0, 8, 4, 8, 4, 8, 8, 8, 8, 0, 6, 0, 0, 3, 9, 2, 5, 3, 4, 3, 0, 5, 0, 0, 0, 4, 0, 1, 0, 0, 0, 8, 0, 0, 0, 2, 6, 5, 2, 6, 0, 0, 6, 2, 0, 0, 8, 8, 6, 7, 0, 0, 0, 2, 3, 6, 0, 6, 4, 5, 4, 8, 2, 8, 0, 0, 0, 5, 0, 2, 2, 0, 0, 2, 8, 4, 0, 8, 2, 2, 0, 2, 4, 0, 0, 0, 5, 8, 0, 0, 4, 9, 0, 5, 8, 2, 2, 2, 3, 8, 0, 0, 8, 4, 8, 8, 0, 8, 2, 8, 8, 2, 2, 8, 5, 2, 5, 2, 8, 2, 8, 1, 8, 8, 5, 0, 5, 0, 2, 4, 3, 2, 0, 0, 3, 2, 6, 2, 8, 8, 4, 4, 8, 8, 8, 2, 1, 0, 2, 0, 0, 2, 1, 8, 2, 2, 2, 8, 0, 8, 8, 3, 8, 0, 6, 6, 8, 4, 2, 0, 8, 6, 0, 5, 0, 4, 8, 0, 5, 8, 8, 8, 2, 8, 9, 8, 5, 0, 8, 8, 0, 1, 3, 2, 8, 0, 2, 4, 5, 0, 8, 0, 2, 8, 0, 0, 4, 2, 8, 4, 6, 4, 2, 3, 0, 0, 0, 2, 2, 0, 8, 8, 0, 2, 3, 8, 5, 0, 8, 8, 0, 0, 0, 0, 3, 0, 2, 2, 0, 5, 2, 8, 2, 4, 0, 8, 2, 0, 1, 2, 0, 5, 9, 0, 4, 0, 8, 0, 0, 0, 6, 0, 8, 2, 4, 0, 8, 0, 2, 8, 0, 2, 0, 0, 0, 2, 8, 2, 2, 0, 0, 0, 8, 0, 0, 8, 8, 0, 0, 0, 0, 6, 8, 5, 5, 0, 8, 8, 8, 2, 0, 0, 2, 6, 0, 0, 2, 8, 0, 8, 0, 0, 8, 8, 7, 0, 8, 4, 5, 0, 0, 8, 0, 0, 0, 8, 1, 3, 2, 8, 9, 0, 2, 2, 8, 3, 0, 8, 0, 4, 0, 8, 0, 0, 2, 2, 0, 2, 2, 8, 6, 0, 8, 0, 2, 4, 0, 8, 0, 5, 0, 5, 0, 2, 7, 0, 8, 2, 0, 8, 2, 6, 1, 2, 7, 0, 5, 2, 4, 2, 5, 0, 2, 2, 3, 0, 2, 0, 0, 3, 8, 1, 8, 0, 2, 6, 8, 0, 8, 0, 0, 8, 0, 0, 3, 2, 0, 2, 8, 4, 4, 0, 7, 0, 0, 0, 6, 8, 8, 2, 8, 8, 2, 0, 0, 8, 2, 2, 0, 2, 0, 8, 0, 0, 1, 0, 4, 0, 0, 0, 5, 8, 0, 8, 0, 3, 3, 8, 8, 2, 4, 2, 0, 2, 2, 8, 0, 0, 0, 0, 3, 0, 4, 0, 8, 2, 2, 0, 4, 1, 0, 0, 0, 0, 3, 8, 0, 0, 0, 8, 0, 2, 8, 0, 2, 8, 8, 8, 0, 4, 8, 0, 3, 8, 0, 0, 2, 2, 3, 4, 2, 2, 0, 0, 4, 3, 8, 6, 1, 4, 0, 5, 8, 1, 0, 5, 2, 3, 8, 1, 0, 0, 0, 8, 2, 2, 0, 1, 0, 2, 8, 8, 4, 0, 0, 5, 1, 0, 8, 6, 4, 8, 2, 0, 5, 0, 2, 0, 0, 0, 7, 2, 0, 8, 6, 2, 8, 1, 1, 2, 0, 1, 4, 0, 8, 0, 2, 0, 0, 2, 8, 0, 8, 2, 2, 0, 8, 0, 0, 4, 0, 8, 0, 8, 0, 8, 0, 3, 3, 0, 0, 8, 3, 4, 0, 2, 8, 8, 2, 2, 1, 8, 0, 0, 0, 2, 2, 2, 0, 8, 0, 2, 8, 0, 0, 8, 2, 2, 0, 0, 0, 0, 8, 7, 2, 8, 6, 7, 8, 0, 4, 0, 0, 2, 0, 0, 4, 3, 0, 0, 2, 0, 8, 8, 2, 2, 0, 1, 6, 2, 2, 2, 0, 0, 0, 3, 3, 0, 0, 5, 0, 8, 2, 2, 8, 6, 8, 4, 2, 4, 2, 8, 3, 4, 8, 8, 8, 4, 2, 2, 5, 0, 8, 0, 2, 3, 0, 2, 4, 8, 0, 8, 8, 8, 0, 8, 4, 5, 4, 2, 0, 0, 8, 8, 1, 2, 3, 0, 2, 8, 0, 3, 0, 4, 0, 0, 3, 8, 9, 6, 0, 8, 8, 8, 2, 2, 2, 0, 6, 8, 2, 0, 0, 7, 2, 0, 3, 7, 1, 2, 8, 8, 8, 2, 2, 8, 6, 4, 0, 8, 2, 2, 6, 2, 2, 2, 8, 2, 2, 1, 2, 0, 0, 8, 0, 2, 2, 4, 0, 3, 8, 8, 2, 1, 1, 8, 2, 0, 8, 0, 0, 0, 8, 8, 8, 6, 3, 4, 7, 3, 2, 8, 0, 8, 8, 0, 2, 0, 5, 0, 4, 2, 8, 0, 4, 0, 3, 8, 8, 0, 2, 8, 2, 2, 0, 6, 0, 2, 0, 4, 2, 0, 8, 9, 8, 2, 8, 8, 0, 2, 4, 4, 4, 0, 2, 0, 0, 8, 2, 8, 8, 8, 0, 6, 0, 2, 0, 8, 0, 8, 8, 0, 0, 0, 2, 2, 0, 0, 2, 8, 0, 7, 1, 0, 8, 0, 3, 4, 0, 2, 0, 0, 2, 0, 8, 0, 0, 0, 3, 0, 2, 8, 8, 0, 5, 0, 2, 0, 2, 5, 2, 2, 4, 0, 3, 0, 0, 0, 4, 8, 2, 0, 0, 0, 5, 3, 0, 0, 8, 0, 6, 1, 8, 0, 1, 2, 8, 0, 0, 2, 0, 2, 0, 1, 0, 5, 2, 0, 3, 8, 0, 0, 0, 8, 8, 7, 9, 2, 2, 0, 0, 8, 0, 2, 4, 8, 1, 2, 0, 2, 2, 2, 0, 2, 2, 0, 2, 2, 8, 2, 0, 8, 5, 7, 4, 1, 0, 4, 8, 6, 2, 0, 6, 0, 0, 0, 8, 0, 0, 0, 8, 0, 6, 8, 8, 5, 8, 2, 5, 2, 0, 0, 0, 8, 3, 0, 0, 2, 8, 3, 0, 6, 0, 8, 8, 2, 4, 8, 2, 0, 0, 8, 0, 0, 8, 4, 0, 0, 2, 8, 6, 2, 2, 0, 2, 8, 2, 5, 0, 4, 8, 2, 4, 1, 4, 0, 0, 2, 5, 0, 0, 4, 9, 2, 8, 2, 4, 0, 0, 2, 8, 4, 2, 8, 6, 6, 2, 0, 2, 0, 2, 1, 0, 0, 5, 6, 1, 3, 8, 0, 6, 4, 0, 2, 0, 4, 8, 8, 0, 8, 3, 0, 0, 8, 8, 2, 0, 3, 8, 2, 8, 4, 0, 8, 0, 8, 0, 2, 7, 2, 3, 6, 0, 0, 0, 6, 0, 0, 8, 0, 0, 8, 8, 6, 2, 2, 9, 8, 0, 3, 4, 4, 4, 0, 0, 4, 0, 8, 3, 5, 0, 0, 6, 8, 0, 8, 0, 0, 3, 0, 8, 3, 0, 9, 0, 1, 2, 6, 0, 3, 5, 0, 0, 2, 4, 0, 8, 8, 2, 3, 5, 6, 2, 2, 8, 0, 0, 8, 0, 0, 4, 2, 2, 0, 8, 0, 0, 5, 8, 2, 0, 8, 2, 6, 2, 0, 8, 8, 0, 3, 0, 8, 0, 2, 8, 8, 4, 2, 0, 8, 0, 8, 2, 8, 5, 2, 2, 0, 0, 2, 8, 8, 8, 4, 8, 0, 0, 8, 6, 8, 8, 4, 0, 2, 0, 0, 8, 4, 8, 0, 4, 5, 6, 4, 6, 8, 1, 3, 2, 0, 8, 8, 1, 0, 3, 0, 8, 8, 0, 0, 0, 0, 0, 0, 2, 2, 6, 0, 2, 8, 0, 2, 2, 3, 3, 0, 0, 0, 4, 0, 4, 0, 0, 2, 0, 0, 0, 0, 8, 0, 8, 0, 3, 0, 2, 8, 0, 0, 0, 4, 0, 0, 4, 0, 2, 8, 4, 2, 4, 2, 9, 0, 0, 0, 8, 8, 0, 8, 0, 0, 2, 0, 2, 0, 0, 8, 0, 4, 0, 4, 8, 8, 5, 8, 0, 8, 5, 2, 0, 2, 6, 2, 1, 5, 8, 0, 2, 4, 2, 6, 0, 0, 0, 1, 0, 7, 0, 8, 2, 4, 0, 0, 0, 2, 7, 4, 0, 8, 8, 7, 2, 0, 8, 0, 0, 4, 0, 5, 1, 0, 8, 0, 8, 8, 0, 3, 3, 2, 2, 3, 6, 4, 3, 8, 8, 4, 4, 0, 2, 8, 8, 2, 0, 0, 0, 8, 3, 3, 0, 0, 0, 0, 0, 0, 0, 8, 4, 0, 2, 2, 0, 8, 0, 2, 2, 8, 0, 6, 2, 0, 8, 0, 0, 4, 8, 2, 8, 8, 0, 8, 0, 0, 8, 0, 2, 1, 0, 2, 0, 7, 1, 0, 2, 6, 1, 2, 0, 0, 0, 8, 8, 0, 2, 1, 5, 8, 0, 1, 8, 2, 0, 0, 8, 0, 0, 0, 2, 6, 8, 4, 2, 0, 1, 8, 8, 0, 4, 2, 4, 8, 0, 4, 8, 8, 2, 8, 6, 0, 8, 0, 0, 8, 5, 4, 8, 4, 0, 0, 2, 0, 4, 0, 0, 0, 0, 0, 3, 6, 2, 3, 2, 0, 8, 0, 8, 0, 2, 1, 0, 0, 6, 8, 4, 2, 0, 4, 4, 2, 4, 5, 2, 0, 0, 2, 2, 0, 6, 8, 8, 2, 0, 0, 0, 3, 5, 9, 8, 7, 2, 8, 1, 2, 0, 2, 0, 2, 0, 0, 1, 3, 8, 4, 0, 4, 2, 1, 3, 2, 8, 0, 8, 0, 7, 8, 4, 0, 2, 0, 2, 5, 5, 8, 8, 8, 0, 1, 0, 0, 4, 0, 0, 6, 3, 2, 2, 6, 4, 8, 0, 8, 2, 0, 4, 2, 8, 5, 8, 0, 3, 0, 8, 6, 0, 2, 0, 3, 6, 2, 6, 2, 2, 8, 9, 0, 0, 2, 1, 0, 0, 0, 2, 8, 2, 2, 0, 8, 2, 2, 8, 5, 2, 3, 6, 8, 2, 2, 0, 0, 2, 0, 8, 8, 2, 2, 8, 2, 0, 2, 8, 8, 0, 0, 6, 2, 8, 2, 8, 8, 0, 2, 2, 4, 0, 2, 2, 8, 2, 0, 0, 2, 6, 0, 8, 2, 0, 8, 0, 8, 2, 6, 0, 8, 0, 0, 8, 0, 0, 0, 6, 6, 4, 0, 0, 1, 1, 0, 0, 8, 0, 0, 0, 0, 0, 2, 0, 3, 2, 2, 2, 6, 5, 0, 5, 0, 8, 2, 8, 2, 6, 2, 0, 7, 0, 0, 1, 2, 4, 1, 0, 5, 2, 2, 2, 4, 0, 0, 8, 2, 4, 0, 2, 2, 0, 0, 6, 6, 8, 0, 8, 8, 3, 8, 0, 8, 6, 2, 0, 8, 3, 2, 0, 4, 8, 4, 7, 0, 3, 0, 8, 0, 0, 0, 0, 2, 2, 1, 1, 0, 0, 8, 4, 2, 0, 8, 6, 2, 8, 0, 2, 0, 2, 5, 8, 2, 3, 0, 2, 0, 6, 2, 4, 4, 0, 8, 2]\n"
          ],
          "name": "stdout"
        },
        {
          "output_type": "execute_result",
          "data": {
            "text/plain": [
              "0.16609897816068925"
            ]
          },
          "metadata": {
            "tags": []
          },
          "execution_count": 48
        }
      ]
    },
    {
      "cell_type": "code",
      "metadata": {
        "colab": {
          "base_uri": "https://localhost:8080/"
        },
        "id": "zRWY-TrJajUi",
        "outputId": "1f9154bf-1769-4b88-ef1a-fcfa5bd56dd7"
      },
      "source": [
        "c = 0\n",
        "for i in range(len(y_test)):\n",
        "  if y_test[i] == pred_label[i]:\n",
        "    c+=1\n",
        "print(len(y_test))\n",
        "c"
      ],
      "execution_count": null,
      "outputs": [
        {
          "output_type": "stream",
          "text": [
            "9982\n"
          ],
          "name": "stdout"
        },
        {
          "output_type": "execute_result",
          "data": {
            "text/plain": [
              "1658"
            ]
          },
          "metadata": {
            "tags": []
          },
          "execution_count": 49
        }
      ]
    }
  ]
}