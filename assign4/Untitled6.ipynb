{
  "nbformat": 4,
  "nbformat_minor": 0,
  "metadata": {
    "colab": {
      "name": "Untitled6.ipynb",
      "provenance": []
    },
    "kernelspec": {
      "name": "python3",
      "display_name": "Python 3"
    }
  },
  "cells": [
    {
      "cell_type": "markdown",
      "metadata": {
        "id": "68OKoIp3aMB2"
      },
      "source": [
        "**VLAD**"
      ]
    },
    {
      "cell_type": "code",
      "metadata": {
        "colab": {
          "base_uri": "https://localhost:8080/"
        },
        "id": "TINE92EghlN2",
        "outputId": "a5cac10a-79a5-4ac2-93b8-799d51656fd5"
      },
      "source": [
        "import keras\n",
        "from keras.datasets import cifar10\n",
        "import numpy as np \n",
        "import itertools\n",
        "from sklearn.cluster import KMeans, MiniBatchKMeans\n",
        "from sklearn.metrics import accuracy_score\n",
        "from sklearn.neighbors import BallTree\n",
        "import pickle\n",
        "import glob\n",
        "!pip install opencv-contrib-python==4.4.0.44\n",
        "import cv2\n",
        "from sklearn.preprocessing import StandardScaler \n",
        "from sklearn.decomposition import PCA\n",
        "from sklearn.model_selection import train_test_split"
      ],
      "execution_count": 1,
      "outputs": [
        {
          "output_type": "stream",
          "text": [
            "Requirement already satisfied: opencv-contrib-python==4.4.0.44 in /usr/local/lib/python3.7/dist-packages (4.4.0.44)\n",
            "Requirement already satisfied: numpy>=1.14.5 in /usr/local/lib/python3.7/dist-packages (from opencv-contrib-python==4.4.0.44) (1.19.5)\n"
          ],
          "name": "stdout"
        }
      ]
    },
    {
      "cell_type": "markdown",
      "metadata": {
        "id": "cQ149WtQaVo0"
      },
      "source": [
        "Loading Dataset"
      ]
    },
    {
      "cell_type": "code",
      "metadata": {
        "colab": {
          "base_uri": "https://localhost:8080/"
        },
        "id": "0iAf9Lbdhv4w",
        "outputId": "eaa77e73-5a8b-4ca5-baec-7abc385de9c0"
      },
      "source": [
        "(x_train, y_train), (x_test, y_test) = cifar10.load_data()\n",
        "print('x_train shape:', x_train.shape)\n",
        "print('X shape: ', x_test.shape)\n",
        "print('Y shape: ', x_test.shape)"
      ],
      "execution_count": 2,
      "outputs": [
        {
          "output_type": "stream",
          "text": [
            "x_train shape: (50000, 32, 32, 3)\n",
            "X shape:  (10000, 32, 32, 3)\n",
            "Y shape:  (10000, 32, 32, 3)\n"
          ],
          "name": "stdout"
        }
      ]
    },
    {
      "cell_type": "code",
      "metadata": {
        "colab": {
          "base_uri": "https://localhost:8080/"
        },
        "id": "J0S5_GwUh4ef",
        "outputId": "694c60c9-71c4-45c1-ef98-4d4369ca4cdf"
      },
      "source": [
        "second_size = 15000/50000\n",
        "\n",
        "X1, X2 = train_test_split(x_train, test_size=second_size)\n",
        "Xt1, Xt2 = train_test_split(x_test, test_size=second_size)\n",
        "Y1, Y2 = train_test_split(y_train, test_size=second_size)\n",
        "Yt1, Yt2 = train_test_split(y_test, test_size=second_size)\n",
        "\n",
        "x_train = X2\n",
        "x_test = Xt2\n",
        "\n",
        "y_train = Y2\n",
        "y_test = Yt2\n",
        "print('X_train shape: ', x_train.shape)\n",
        "print('X_test shape: ', x_test.shape)\n",
        "print('Y_train shape: ', y_train.shape)\n",
        "print('Y_test shape: ', y_test.shape)"
      ],
      "execution_count": 3,
      "outputs": [
        {
          "output_type": "stream",
          "text": [
            "X_train shape:  (15000, 32, 32, 3)\n",
            "X_test shape:  (3000, 32, 32, 3)\n",
            "Y_train shape:  (15000, 1)\n",
            "Y_test shape:  (3000, 1)\n"
          ],
          "name": "stdout"
        }
      ]
    },
    {
      "cell_type": "markdown",
      "metadata": {
        "id": "32ZNsqrEaXxS"
      },
      "source": [
        "Sift operation"
      ]
    },
    {
      "cell_type": "code",
      "metadata": {
        "id": "j6JGT9jch7bF"
      },
      "source": [
        "def SIFT(image):\n",
        "    sift = cv2.xfeatures2d.SIFT_create()\n",
        "    kp, des = sift.detectAndCompute(image,None)\n",
        "    return kp,des\n",
        "\n",
        "# def describeORB( image):\n",
        "#     orb=cv2.ORB_create()\n",
        "#     kp, des=orb.detectAndCompute(image,None)\n",
        "#     return kp,des\n"
      ],
      "execution_count": 4,
      "outputs": []
    },
    {
      "cell_type": "markdown",
      "metadata": {
        "id": "mfVsBmmSacob"
      },
      "source": [
        "VLAD Implementation"
      ]
    },
    {
      "cell_type": "code",
      "metadata": {
        "id": "rl8ucKAtiKJf"
      },
      "source": [
        "def Descriptors(images) : \n",
        "    descriptors = []\n",
        "    \n",
        "    print(images.shape)\n",
        "    for image in images : \n",
        "        # Converting the image into gray scale\n",
        "        image = cv2.cvtColor(image, cv2.COLOR_BGR2GRAY) \n",
        "        kp, des = SIFT(image)\n",
        "        if des is not None : \n",
        "            descriptors.append(des)\n",
        "            \n",
        "    descriptors = np.concatenate(descriptors, axis=0)\n",
        "    descriptors = np.asarray(descriptors)\n",
        "        \n",
        "    return descriptors\n",
        "\n",
        "def VLADDescriptors(images, images_lables, visualDic):\n",
        "    descriptors = []\n",
        "    labels = []\n",
        "    \n",
        "    count = 0\n",
        "    for image in images : \n",
        "        #Converting the image into gray scale\n",
        "        image = cv2.cvtColor(image, cv2.COLOR_BGR2GRAY) \n",
        "        kp, des = SIFT(image)\n",
        "        if des is not None : \n",
        "            v = VLAD(des, visualDic)\n",
        "            descriptors.append(v)\n",
        "            labels.append(images_lables[count])\n",
        "        count += 1\n",
        "            \n",
        "            \n",
        "    descriptors = np.asarray(descriptors)\n",
        "    return descriptors, labels\n",
        "\n",
        "def VLAD(X, visualDictionary) : \n",
        "    \n",
        "    predictedLabels = visualDictionary.predict(X)\n",
        "    centers = visualDictionary.cluster_centers_\n",
        "    labels = visualDictionary.labels_\n",
        "    k = visualDictionary.n_clusters\n",
        "    \n",
        "    m,d = X.shape\n",
        "    V=np.zeros([k,d])\n",
        "    \n",
        "    #computing the differences\n",
        "\n",
        "    # for all the clusters\n",
        "    for i in range(k):\n",
        "        if np.sum(predictedLabels==i)>0:\n",
        "            V[i]=np.sum(X[predictedLabels==i,:]-centers[i],axis=0)\n",
        "    \n",
        "\n",
        "    V = V.flatten()\n",
        "    V = np.sign(V)*np.sqrt(np.abs(V))\n",
        "    V = V/np.sqrt(np.dot(V,V))\n",
        "\n",
        "  \n",
        "    return V"
      ],
      "execution_count": 5,
      "outputs": []
    },
    {
      "cell_type": "code",
      "metadata": {
        "id": "-nXjqjGdiNXZ",
        "colab": {
          "base_uri": "https://localhost:8080/"
        },
        "outputId": "6a5a38ac-394e-4b47-f645-fb9af0a33b34"
      },
      "source": [
        "surf_des = Descriptors(np.concatenate((x_train, x_test), axis = 0))"
      ],
      "execution_count": 6,
      "outputs": [
        {
          "output_type": "stream",
          "text": [
            "(18000, 32, 32, 3)\n"
          ],
          "name": "stdout"
        }
      ]
    },
    {
      "cell_type": "code",
      "metadata": {
        "id": "7i-2EdACHJIP"
      },
      "source": [
        "k = 100\n",
        "visDictionary = MiniBatchKMeans(init='k-means++', n_clusters=50,max_iter=1000, batch_size=1000, n_init=10, max_no_improvement=10, verbose=0).fit(surf_des)"
      ],
      "execution_count": 7,
      "outputs": []
    },
    {
      "cell_type": "code",
      "metadata": {
        "id": "W4d_HL3iHLfH"
      },
      "source": [
        "vlad_des, labels = VLADDescriptors(x_train, y_train, visDictionary)\n",
        "vlad_des_test, labels_test = VLADDescriptors(x_test, y_test, visDictionary)"
      ],
      "execution_count": 8,
      "outputs": []
    },
    {
      "cell_type": "code",
      "metadata": {
        "id": "w1yPlx0oR6Sy"
      },
      "source": [
        "stdsc = StandardScaler() \n",
        "pca = PCA(n_components = 0.9) \n",
        "\n",
        "vlad_des = stdsc.fit_transform(vlad_des) \n",
        "vlad_des_test = stdsc.transform(vlad_des_test) \n",
        "vlad_des = pca.fit_transform(vlad_des) \n",
        "vlad_des_test = pca.transform(vlad_des_test)"
      ],
      "execution_count": 9,
      "outputs": []
    },
    {
      "cell_type": "markdown",
      "metadata": {
        "id": "CHZ1StBKawoF"
      },
      "source": [
        "KNN model training"
      ]
    },
    {
      "cell_type": "code",
      "metadata": {
        "colab": {
          "base_uri": "https://localhost:8080/"
        },
        "id": "yzbwbsmUR_OF",
        "outputId": "e608b15d-b7bc-416f-dc4a-1575a1977369"
      },
      "source": [
        "clf = cv2.ml.KNearest_create()\n",
        "clf.train(np.float32(vlad_des), cv2.ml.ROW_SAMPLE, np.float32(labels))"
      ],
      "execution_count": 10,
      "outputs": [
        {
          "output_type": "execute_result",
          "data": {
            "text/plain": [
              "True"
            ]
          },
          "metadata": {
            "tags": []
          },
          "execution_count": 10
        }
      ]
    },
    {
      "cell_type": "code",
      "metadata": {
        "id": "YB1gPIsgSFUv"
      },
      "source": [
        "ret, results, neighbours ,dist = clf.findNearest(np.float32(vlad_des_test), k=10)"
      ],
      "execution_count": 11,
      "outputs": []
    },
    {
      "cell_type": "markdown",
      "metadata": {
        "id": "SvTTJnpmaiPx"
      },
      "source": [
        "Accuracy"
      ]
    },
    {
      "cell_type": "code",
      "metadata": {
        "colab": {
          "base_uri": "https://localhost:8080/"
        },
        "id": "KaiJTMO3SKRg",
        "outputId": "22da683d-9a0b-4198-bfd0-95f157688d60"
      },
      "source": [
        "predicted_label = []\n",
        "correct_label = []\n",
        "\n",
        "for label in results:\n",
        "    predicted_label.append(int(label))\n",
        "\n",
        "for label in labels_test:\n",
        "    correct_label.append(int(label))\n",
        "    \n",
        "accuracy_score(labels_test, predicted_label)"
      ],
      "execution_count": 12,
      "outputs": [
        {
          "output_type": "execute_result",
          "data": {
            "text/plain": [
              "0.08960213975259111"
            ]
          },
          "metadata": {
            "tags": []
          },
          "execution_count": 12
        }
      ]
    }
  ]
}