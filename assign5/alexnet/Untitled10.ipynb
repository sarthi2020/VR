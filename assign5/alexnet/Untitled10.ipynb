{
  "nbformat": 4,
  "nbformat_minor": 0,
  "metadata": {
    "colab": {
      "name": "Untitled10.ipynb",
      "provenance": []
    },
    "kernelspec": {
      "display_name": "Python 3",
      "name": "python3"
    }
  },
  "cells": [
    {
      "cell_type": "code",
      "metadata": {
        "id": "qjHdMVWm1PFY"
      },
      "source": [
        "import tensorflow as tf\n",
        "from tensorflow.keras import datasets, layers, models\n",
        "import matplotlib.pyplot as plt\n",
        "import numpy as np"
      ],
      "execution_count": 1,
      "outputs": []
    },
    {
      "cell_type": "code",
      "metadata": {
        "colab": {
          "base_uri": "https://localhost:8080/"
        },
        "id": "V-BSdkK-17B9",
        "outputId": "93f6c401-c4b3-4483-accf-5e77d6d082c3"
      },
      "source": [
        "(X_train, y_train), (X_test,y_test) = datasets.cifar10.load_data()\n",
        "X_train.shape"
      ],
      "execution_count": 2,
      "outputs": [
        {
          "output_type": "stream",
          "text": [
            "Downloading data from https://www.cs.toronto.edu/~kriz/cifar-10-python.tar.gz\n",
            "170500096/170498071 [==============================] - 11s 0us/step\n"
          ],
          "name": "stdout"
        },
        {
          "output_type": "execute_result",
          "data": {
            "text/plain": [
              "(50000, 32, 32, 3)"
            ]
          },
          "metadata": {
            "tags": []
          },
          "execution_count": 2
        }
      ]
    },
    {
      "cell_type": "code",
      "metadata": {
        "id": "K5fMBT5I192L"
      },
      "source": [
        "y_train = y_train.reshape(-1,)\n",
        "y_train[:5]\n",
        "y_test = y_test.reshape(-1,)"
      ],
      "execution_count": 3,
      "outputs": []
    },
    {
      "cell_type": "code",
      "metadata": {
        "id": "bY7W0cWa1_rH"
      },
      "source": [
        "classes = [\"airplane\",\"automobile\",\"bird\",\"cat\",\"deer\",\"dog\",\"frog\",\"horse\",\"ship\",\"truck\"]"
      ],
      "execution_count": 4,
      "outputs": []
    },
    {
      "cell_type": "code",
      "metadata": {
        "id": "PnNa1_bL2BXA"
      },
      "source": [
        "def plot_sample(X, y, index):\n",
        "    plt.figure(figsize = (15,2))\n",
        "    plt.imshow(X[index])\n",
        "    plt.xlabel(classes[y[index]])"
      ],
      "execution_count": 5,
      "outputs": []
    },
    {
      "cell_type": "code",
      "metadata": {
        "id": "NygBXmBW2Do9"
      },
      "source": [
        "X_train = X_train / 255.0\n",
        "X_test = X_test / 255.0"
      ],
      "execution_count": 6,
      "outputs": []
    },
    {
      "cell_type": "code",
      "metadata": {
        "id": "lavNzQOo2H0Z"
      },
      "source": [
        "cnn = models.Sequential([\n",
        "    layers.Conv2D(filters=32, kernel_size=(3, 3), activation='relu', input_shape=(32, 32, 3)),\n",
        "    layers.BatchNormalization(),\n",
        "    layers.MaxPooling2D((2, 2)),\n",
        "    \n",
        "    layers.Conv2D(filters=64, kernel_size=(3, 3), activation='relu'),\n",
        "    layers.BatchNormalization(),\n",
        "    layers.MaxPooling2D((2, 2)),\n",
        "\n",
        "    layers.Conv2D(filters=192, kernel_size=(3, 3), activation='relu'),\n",
        "    layers.BatchNormalization(),\n",
        "    layers.MaxPooling2D((2, 2)),\n",
        "\n",
        "    # layers.Conv2D(filters=192, kernel_size=(3, 3), activation='relu'),\n",
        "    # layers.BatchNormalization(),\n",
        "    # layers.MaxPooling2D((2, 2)),\n",
        "\n",
        "    # layers.Conv2D(filters=384, kernel_size=(3, 3), activation='relu'),\n",
        "    # layers.BatchNormalization(),\n",
        "    # layers.MaxPooling2D((2, 2)),\n",
        "    \n",
        "    layers.Flatten(),\n",
        "    layers.Dense(64, activation='relu'),\n",
        "    layers.BatchNormalization(),\n",
        "    # layers.Dense(64, activation='relu'),\n",
        "    # layers.BatchNormalization(),\n",
        "    layers.Dense(10, activation='softmax')\n",
        "])"
      ],
      "execution_count": 22,
      "outputs": []
    },
    {
      "cell_type": "code",
      "metadata": {
        "id": "8LvJw5m02IiE"
      },
      "source": [
        "cnn.compile(optimizer='adam',\n",
        "              loss='sparse_categorical_crossentropy',\n",
        "              metrics=['accuracy'])"
      ],
      "execution_count": 23,
      "outputs": []
    },
    {
      "cell_type": "code",
      "metadata": {
        "colab": {
          "base_uri": "https://localhost:8080/"
        },
        "id": "CvaZcPGEv3FQ",
        "outputId": "f46ce5fd-a34b-4f7a-b01b-c47180f664ac"
      },
      "source": [
        "X_train.shape"
      ],
      "execution_count": 24,
      "outputs": [
        {
          "output_type": "execute_result",
          "data": {
            "text/plain": [
              "(50000, 32, 32, 3)"
            ]
          },
          "metadata": {
            "tags": []
          },
          "execution_count": 24
        }
      ]
    },
    {
      "cell_type": "code",
      "metadata": {
        "colab": {
          "base_uri": "https://localhost:8080/"
        },
        "id": "DT8rtNu82dIU",
        "outputId": "39724e27-e65b-4295-9d9a-22629381c943"
      },
      "source": [
        " cnn.fit(X_train, y_train, epochs=20)"
      ],
      "execution_count": 25,
      "outputs": [
        {
          "output_type": "stream",
          "text": [
            "Epoch 1/20\n",
            "1563/1563 [==============================] - 99s 63ms/step - loss: 1.5096 - accuracy: 0.4705\n",
            "Epoch 2/20\n",
            "1563/1563 [==============================] - 96s 61ms/step - loss: 0.9482 - accuracy: 0.6672\n",
            "Epoch 3/20\n",
            "1563/1563 [==============================] - 96s 62ms/step - loss: 0.7560 - accuracy: 0.7358\n",
            "Epoch 4/20\n",
            "1563/1563 [==============================] - 96s 61ms/step - loss: 0.6506 - accuracy: 0.7746\n",
            "Epoch 5/20\n",
            "1563/1563 [==============================] - 96s 61ms/step - loss: 0.5495 - accuracy: 0.8126\n",
            "Epoch 6/20\n",
            "1563/1563 [==============================] - 95s 61ms/step - loss: 0.4768 - accuracy: 0.8355\n",
            "Epoch 7/20\n",
            "1563/1563 [==============================] - 96s 61ms/step - loss: 0.4072 - accuracy: 0.8593\n",
            "Epoch 8/20\n",
            "1563/1563 [==============================] - 96s 61ms/step - loss: 0.3511 - accuracy: 0.8794\n",
            "Epoch 9/20\n",
            "1563/1563 [==============================] - 96s 61ms/step - loss: 0.3019 - accuracy: 0.8952\n",
            "Epoch 10/20\n",
            "1563/1563 [==============================] - 95s 61ms/step - loss: 0.2677 - accuracy: 0.9063\n",
            "Epoch 11/20\n",
            "1563/1563 [==============================] - 95s 61ms/step - loss: 0.2348 - accuracy: 0.9178\n",
            "Epoch 12/20\n",
            "1563/1563 [==============================] - 98s 63ms/step - loss: 0.2133 - accuracy: 0.9267\n",
            "Epoch 13/20\n",
            "1563/1563 [==============================] - 97s 62ms/step - loss: 0.1904 - accuracy: 0.9327\n",
            "Epoch 14/20\n",
            "1563/1563 [==============================] - 96s 62ms/step - loss: 0.1742 - accuracy: 0.9382\n",
            "Epoch 15/20\n",
            "1563/1563 [==============================] - 96s 62ms/step - loss: 0.1647 - accuracy: 0.9413\n",
            "Epoch 16/20\n",
            "1563/1563 [==============================] - 97s 62ms/step - loss: 0.1480 - accuracy: 0.9487\n",
            "Epoch 17/20\n",
            "1563/1563 [==============================] - 97s 62ms/step - loss: 0.1479 - accuracy: 0.9477\n",
            "Epoch 18/20\n",
            "1563/1563 [==============================] - 98s 62ms/step - loss: 0.1262 - accuracy: 0.9573\n",
            "Epoch 19/20\n",
            "1563/1563 [==============================] - 99s 63ms/step - loss: 0.1271 - accuracy: 0.9557\n",
            "Epoch 20/20\n",
            "1563/1563 [==============================] - 98s 63ms/step - loss: 0.1220 - accuracy: 0.9564\n"
          ],
          "name": "stdout"
        },
        {
          "output_type": "execute_result",
          "data": {
            "text/plain": [
              "<tensorflow.python.keras.callbacks.History at 0x7f21e515c410>"
            ]
          },
          "metadata": {
            "tags": []
          },
          "execution_count": 25
        }
      ]
    },
    {
      "cell_type": "code",
      "metadata": {
        "colab": {
          "base_uri": "https://localhost:8080/"
        },
        "id": "WhAbdNgC2NBv",
        "outputId": "595a9252-bde6-42e2-9b47-26946bcdd0c4"
      },
      "source": [
        "cnn.evaluate(X_test,y_test)"
      ],
      "execution_count": 26,
      "outputs": [
        {
          "output_type": "stream",
          "text": [
            "313/313 [==============================] - 5s 17ms/step - loss: 1.2768 - accuracy: 0.7231\n"
          ],
          "name": "stdout"
        },
        {
          "output_type": "execute_result",
          "data": {
            "text/plain": [
              "[1.2767915725708008, 0.7231000065803528]"
            ]
          },
          "metadata": {
            "tags": []
          },
          "execution_count": 26
        }
      ]
    },
    {
      "cell_type": "code",
      "metadata": {
        "id": "xD2GNj8p8lit"
      },
      "source": [
        "from sklearn.metrics import confusion_matrix , classification_report\n",
        "import numpy as np\n",
        "y_pred = cnn.predict(X_test)\n",
        "y_pred_classes = [np.argmax(element) for element in y_pred]\n",
        "\n",
        "print(\"Classification Report: \\n\", classification_report(y_test, y_pred_classes))"
      ],
      "execution_count": null,
      "outputs": []
    }
  ]
}