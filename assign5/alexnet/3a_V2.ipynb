{
 "cells": [
  {
   "cell_type": "markdown",
   "metadata": {
    "id": "4vqIUvz0mYUB"
   },
   "source": [
    "**Alexnet implementation with batch normalization**"
   ]
  },
  {
   "cell_type": "code",
   "execution_count": 1,
   "metadata": {
    "id": "qjHdMVWm1PFY"
   },
   "outputs": [],
   "source": [
    "import tensorflow as tf\n",
    "from tensorflow.keras import datasets, layers, models\n",
    "import matplotlib.pyplot as plt\n",
    "import numpy as np\n",
    "from sklearn.metrics import confusion_matrix , classification_report\n",
    "import numpy as np\n",
    "import time"
   ]
  },
  {
   "cell_type": "markdown",
   "metadata": {
    "id": "xzyYPoDOmhvk"
   },
   "source": [
    "**Loading Cifar-10 dataset**"
   ]
  },
  {
   "cell_type": "code",
   "execution_count": 2,
   "metadata": {
    "colab": {
     "base_uri": "https://localhost:8080/"
    },
    "id": "V-BSdkK-17B9",
    "outputId": "93f6c401-c4b3-4483-accf-5e77d6d082c3"
   },
   "outputs": [
    {
     "name": "stdout",
     "output_type": "stream",
     "text": [
      "Downloading data from https://www.cs.toronto.edu/~kriz/cifar-10-python.tar.gz\n",
      "170500096/170498071 [==============================] - 11s 0us/step\n"
     ]
    },
    {
     "data": {
      "text/plain": [
       "(50000, 32, 32, 3)"
      ]
     },
     "execution_count": 2,
     "metadata": {
      "tags": []
     },
     "output_type": "execute_result"
    }
   ],
   "source": [
    "(X_train, y_train), (X_test,y_test) = datasets.cifar10.load_data()\n",
    "X_train.shape"
   ]
  },
  {
   "cell_type": "code",
   "execution_count": 3,
   "metadata": {
    "id": "K5fMBT5I192L"
   },
   "outputs": [],
   "source": [
    "y_train = y_train.reshape(-1,)\n",
    "y_test = y_test.reshape(-1,)"
   ]
  },
  {
   "cell_type": "code",
   "execution_count": 4,
   "metadata": {
    "id": "bY7W0cWa1_rH"
   },
   "outputs": [],
   "source": [
    "classes = [\"airplane\",\"automobile\",\"bird\",\"cat\",\"deer\",\"dog\",\"frog\",\"horse\",\"ship\",\"truck\"]"
   ]
  },
  {
   "cell_type": "markdown",
   "metadata": {
    "id": "mp5pckTanZNN"
   },
   "source": [
    "**Visualising images**"
   ]
  },
  {
   "cell_type": "code",
   "execution_count": 5,
   "metadata": {
    "id": "PnNa1_bL2BXA"
   },
   "outputs": [],
   "source": [
    "def plot_sample(X, y, index):\n",
    "    plt.figure(figsize = (15,2))\n",
    "    plt.imshow(X[index])\n",
    "    plt.xlabel(classes[y[index]])"
   ]
  },
  {
   "cell_type": "markdown",
   "metadata": {
    "id": "3iKPVp6UngCO"
   },
   "source": [
    "**Normalizing the data**"
   ]
  },
  {
   "cell_type": "code",
   "execution_count": 6,
   "metadata": {
    "id": "NygBXmBW2Do9"
   },
   "outputs": [],
   "source": [
    "X_train = X_train / 255.0\n",
    "X_test = X_test / 255.0"
   ]
  },
  {
   "cell_type": "markdown",
   "metadata": {
    "id": "1QNVL-eJnmqI"
   },
   "source": [
    "**Training the model**"
   ]
  },
  {
   "cell_type": "code",
   "execution_count": 42,
   "metadata": {
    "id": "lavNzQOo2H0Z"
   },
   "outputs": [],
   "source": [
    "cnn = models.Sequential([\n",
    "    layers.Conv2D(filters=32, kernel_size=(3, 3),activation='relu', input_shape=(32, 32, 3)),\n",
    "    layers.BatchNormalization(),\n",
    "    layers.MaxPooling2D((2, 2)),\n",
    "    layers.Dropout(0.2),\n",
    "    \n",
    "    layers.Conv2D(filters=64, kernel_size=(3, 3), activation='relu'),\n",
    "    layers.BatchNormalization(),\n",
    "    layers.MaxPooling2D((2, 2)),\n",
    "    layers.Dropout(0.3),\n",
    "\n",
    "    layers.Conv2D(filters=192, kernel_size=(3, 3), activation='relu'),\n",
    "    layers.BatchNormalization(),\n",
    "    layers.MaxPooling2D((2, 2)),\n",
    "    layers.Dropout(0.4),\n",
    "    \n",
    "    layers.Flatten(),\n",
    "    layers.Dense(64, activation='relu'),\n",
    "    layers.BatchNormalization(),\n",
    "    layers.Dense(10, activation='softmax')\n",
    "])"
   ]
  },
  {
   "cell_type": "markdown",
   "metadata": {
    "id": "u-RXEKARpd9b"
   },
   "source": [
    "**Model summary**"
   ]
  },
  {
   "cell_type": "code",
   "execution_count": null,
   "metadata": {
    "id": "4GbNVb4PpbnY"
   },
   "outputs": [],
   "source": [
    "cnn.summary()"
   ]
  },
  {
   "cell_type": "code",
   "execution_count": 43,
   "metadata": {
    "id": "8LvJw5m02IiE"
   },
   "outputs": [],
   "source": [
    "cnn.compile(optimizer='adam',\n",
    "              loss='sparse_categorical_crossentropy',\n",
    "              metrics=['accuracy'])"
   ]
  },
  {
   "cell_type": "code",
   "execution_count": 44,
   "metadata": {
    "colab": {
     "base_uri": "https://localhost:8080/"
    },
    "id": "DT8rtNu82dIU",
    "outputId": "dc4111bc-4cf7-44c5-bf2b-785cf504fd52"
   },
   "outputs": [
    {
     "name": "stdout",
     "output_type": "stream",
     "text": [
      "Epoch 1/20\n",
      "1563/1563 [==============================] - 102s 65ms/step - loss: 1.7379 - accuracy: 0.3863\n",
      "Epoch 2/20\n",
      "1563/1563 [==============================] - 101s 65ms/step - loss: 1.2394 - accuracy: 0.5589\n",
      "Epoch 3/20\n",
      "1563/1563 [==============================] - 101s 65ms/step - loss: 1.0885 - accuracy: 0.6149\n",
      "Epoch 4/20\n",
      "1563/1563 [==============================] - 101s 65ms/step - loss: 0.9947 - accuracy: 0.6516\n",
      "Epoch 5/20\n",
      "1563/1563 [==============================] - 102s 65ms/step - loss: 0.9506 - accuracy: 0.6670\n",
      "Epoch 6/20\n",
      "1563/1563 [==============================] - 102s 65ms/step - loss: 0.8956 - accuracy: 0.6853\n",
      "Epoch 7/20\n",
      "1563/1563 [==============================] - 103s 66ms/step - loss: 0.8684 - accuracy: 0.6951\n",
      "Epoch 8/20\n",
      "1563/1563 [==============================] - 102s 65ms/step - loss: 0.8321 - accuracy: 0.7089\n",
      "Epoch 9/20\n",
      "1563/1563 [==============================] - 102s 65ms/step - loss: 0.8061 - accuracy: 0.7160\n",
      "Epoch 10/20\n",
      "1563/1563 [==============================] - 102s 65ms/step - loss: 0.7877 - accuracy: 0.7278\n",
      "Epoch 11/20\n",
      "1563/1563 [==============================] - 102s 65ms/step - loss: 0.7697 - accuracy: 0.7283\n",
      "Epoch 12/20\n",
      "1563/1563 [==============================] - 102s 66ms/step - loss: 0.7599 - accuracy: 0.7313\n",
      "Epoch 13/20\n",
      "1563/1563 [==============================] - 102s 66ms/step - loss: 0.7344 - accuracy: 0.7430\n",
      "Epoch 14/20\n",
      "1563/1563 [==============================] - 102s 65ms/step - loss: 0.7210 - accuracy: 0.7476\n",
      "Epoch 15/20\n",
      "1563/1563 [==============================] - 103s 66ms/step - loss: 0.7276 - accuracy: 0.7435\n",
      "Epoch 16/20\n",
      "1563/1563 [==============================] - 103s 66ms/step - loss: 0.7126 - accuracy: 0.7509\n",
      "Epoch 17/20\n",
      "1563/1563 [==============================] - 103s 66ms/step - loss: 0.7019 - accuracy: 0.7565\n",
      "Epoch 18/20\n",
      "1563/1563 [==============================] - 108s 69ms/step - loss: 0.6959 - accuracy: 0.7576\n",
      "1563/1563 [==============================] - 108s 69ms/step - loss: 0.6959 - accuracy: 0.7576\n",
      "Epoch 19/20\n",
      "Epoch 19/20\n",
      "1563/1563 [==============================] - 109s 70ms/step - loss: 0.6847 - accuracy: 0.7590\n",
      "1563/1563 [==============================] - 109s 70ms/step - loss: 0.6847 - accuracy: 0.7590\n",
      "Epoch 20/20\n",
      "Epoch 20/20\n",
      "1563/1563 [==============================] - 109s 70ms/step - loss: 0.6673 - accuracy: 0.7670\n",
      "1563/1563 [==============================] - 109s 70ms/step - loss: 0.6673 - accuracy: 0.7670\n"
     ]
    },
    {
     "data": {
      "text/plain": [
       "<tensorflow.python.keras.callbacks.History at 0x7f21ddc68350>"
      ]
     },
     "execution_count": 44,
     "metadata": {
      "tags": []
     },
     "output_type": "execute_result"
    },
    {
     "data": {
      "text/plain": [
       "<tensorflow.python.keras.callbacks.History at 0x7f21ddc68350>"
      ]
     },
     "execution_count": 44,
     "metadata": {
      "tags": []
     },
     "output_type": "execute_result"
    }
   ],
   "source": [
    "start_time = time.time() \n",
    "cnn.fit(X_train, y_train, epochs=20)\n",
    "end_time = time.time()\n",
    "time_taken = end_time - start_time\n",
    "print('Time taken:',time_taken)"
   ]
  },
  {
   "cell_type": "markdown",
   "metadata": {
    "id": "AAMN2RWUnrFo"
   },
   "source": [
    "**Score**"
   ]
  },
  {
   "cell_type": "code",
   "execution_count": 45,
   "metadata": {
    "colab": {
     "base_uri": "https://localhost:8080/"
    },
    "id": "WhAbdNgC2NBv",
    "outputId": "bfa2c30f-ab1b-4217-a104-1d5739d5e17e"
   },
   "outputs": [
    {
     "name": "stdout",
     "output_type": "stream",
     "text": [
      "313/313 [==============================] - 6s 18ms/step - loss: 0.6714 - accuracy: 0.7667\n"
     ]
    },
    {
     "data": {
      "text/plain": [
       "[0.6714091300964355, 0.766700029373169]"
      ]
     },
     "execution_count": 45,
     "metadata": {
      "tags": []
     },
     "output_type": "execute_result"
    }
   ],
   "source": [
    "cnn.evaluate(X_test,y_test)"
   ]
  },
  {
   "cell_type": "markdown",
   "metadata": {
    "id": "rL6ki3YJnuT8"
   },
   "source": [
    "**Classification Report ie score on each class and final score**"
   ]
  },
  {
   "cell_type": "code",
   "execution_count": 46,
   "metadata": {
    "colab": {
     "base_uri": "https://localhost:8080/"
    },
    "id": "xD2GNj8p8lit",
    "outputId": "2d5b62ff-f894-4b5d-dc75-4314ccdd62b9"
   },
   "outputs": [
    {
     "name": "stdout",
     "output_type": "stream",
     "text": [
      "Classification Report: \n",
      "               precision    recall  f1-score   support\n",
      "\n",
      "           0       0.80      0.79      0.79      1000\n",
      "           1       0.88      0.90      0.89      1000\n",
      "           2       0.67      0.65      0.66      1000\n",
      "           3       0.61      0.56      0.58      1000\n",
      "           4       0.71      0.78      0.74      1000\n",
      "           5       0.80      0.57      0.67      1000\n",
      "           6       0.72      0.90      0.80      1000\n",
      "           7       0.86      0.79      0.82      1000\n",
      "           8       0.76      0.92      0.83      1000\n",
      "           9       0.89      0.81      0.85      1000\n",
      "\n",
      "    accuracy                           0.77     10000\n",
      "   macro avg       0.77      0.77      0.76     10000\n",
      "weighted avg       0.77      0.77      0.76     10000\n",
      "\n"
     ]
    }
   ],
   "source": [
    "y_pred = cnn.predict(X_test)\n",
    "y_pred_class = [np.argmax(element) for element in y_pred]\n",
    "\n",
    "print(\"Classification Report: \\n\", classification_report(y_test, y_pred_class))"
   ]
  }
 ],
 "metadata": {
  "colab": {
   "collapsed_sections": [],
   "name": "Untitled10.ipynb",
   "provenance": []
  },
  "kernelspec": {
   "display_name": "Python 3",
   "language": "python",
   "name": "python3"
  },
  "language_info": {
   "codemirror_mode": {
    "name": "ipython",
    "version": 3
   },
   "file_extension": ".py",
   "mimetype": "text/x-python",
   "name": "python",
   "nbconvert_exporter": "python",
   "pygments_lexer": "ipython3",
   "version": "3.6.10"
  }
 },
 "nbformat": 4,
 "nbformat_minor": 1
}
