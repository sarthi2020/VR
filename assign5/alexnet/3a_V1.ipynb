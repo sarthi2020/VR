{
  "nbformat": 4,
  "nbformat_minor": 0,
  "metadata": {
    "colab": {
      "name": "Untitled9.ipynb",
      "provenance": [],
      "collapsed_sections": []
    },
    "kernelspec": {
      "name": "python3",
      "display_name": "Python 3"
    }
  },
  "cells": [
    {
      "cell_type": "markdown",
      "metadata": {
        "id": "pELFJif3oSC2"
      },
      "source": [
        "**Alexnet implementation without batch normalization and adaptive learning rates**"
      ]
    },
    {
      "cell_type": "code",
      "metadata": {
        "id": "-rdrAp9Ym1FI"
      },
      "source": [
        "import tensorflow as tf\n",
        "from tensorflow.keras import datasets, layers, models\n",
        "import matplotlib.pyplot as plt\n",
        "import numpy as np"
      ],
      "execution_count": 1,
      "outputs": []
    },
    {
      "cell_type": "markdown",
      "metadata": {
        "id": "iNYy1UMTobQm"
      },
      "source": [
        "**Loading the dataset**"
      ]
    },
    {
      "cell_type": "code",
      "metadata": {
        "colab": {
          "base_uri": "https://localhost:8080/"
        },
        "id": "gfXhTLpQoRdc",
        "outputId": "c41e0548-52eb-458c-d98a-8b5ad34f0d0c"
      },
      "source": [
        "(X_train, y_train), (X_test,y_test) = datasets.cifar10.load_data()\n",
        "X_train.shape"
      ],
      "execution_count": 2,
      "outputs": [
        {
          "output_type": "execute_result",
          "data": {
            "text/plain": [
              "(50000, 32, 32, 3)"
            ]
          },
          "metadata": {
            "tags": []
          },
          "execution_count": 2
        }
      ]
    },
    {
      "cell_type": "code",
      "metadata": {
        "id": "KiqEB39hyJok"
      },
      "source": [
        "y_train = y_train.reshape(-1,)\n",
        "y_test = y_test.reshape(-1,)"
      ],
      "execution_count": 3,
      "outputs": []
    },
    {
      "cell_type": "code",
      "metadata": {
        "id": "5qJr-zORyQQm"
      },
      "source": [
        "classes = [\"airplane\",\"automobile\",\"bird\",\"cat\",\"deer\",\"dog\",\"frog\",\"horse\",\"ship\",\"truck\"]"
      ],
      "execution_count": 4,
      "outputs": []
    },
    {
      "cell_type": "markdown",
      "metadata": {
        "id": "BVUfy1dooMGY"
      },
      "source": [
        "**Visualising images**"
      ]
    },
    {
      "cell_type": "code",
      "metadata": {
        "id": "oHYATPaxySmj"
      },
      "source": [
        "def plot_sample(X, y, index):\n",
        "    plt.figure(figsize = (15,2))\n",
        "    plt.imshow(X[index])\n",
        "    plt.xlabel(classes[y[index]])"
      ],
      "execution_count": 5,
      "outputs": []
    },
    {
      "cell_type": "code",
      "metadata": {
        "colab": {
          "base_uri": "https://localhost:8080/",
          "height": 173
        },
        "id": "pOYD7WshyVHf",
        "outputId": "4d738051-1a9c-427d-b136-d006fbf7d974"
      },
      "source": [
        "plot_sample(X_train, y_train, 0)"
      ],
      "execution_count": 6,
      "outputs": [
        {
          "output_type": "display_data",
          "data": {
            "image/png": "[encoded data removed]",
            "text/plain": [
              "<Figure size 1080x144 with 1 Axes>"
            ]
          },
          "metadata": {
            "tags": [],
            "needs_background": "light"
          }
        }
      ]
    },
    {
      "cell_type": "code",
      "metadata": {
        "id": "xxeJf5ApoFpx"
      },
      "source": [
        "plot_sample(X_train, y_train, 1)"
      ],
      "execution_count": null,
      "outputs": []
    },
    {
      "cell_type": "markdown",
      "metadata": {
        "id": "-tZIjKAqoI71"
      },
      "source": [
        "**Normalizing the data**"
      ]
    },
    {
      "cell_type": "code",
      "metadata": {
        "id": "r9zUk2s0yX2h"
      },
      "source": [
        "X_train = X_train / 255.0\n",
        "X_test = X_test / 255.0"
      ],
      "execution_count": 7,
      "outputs": []
    },
    {
      "cell_type": "markdown",
      "metadata": {
        "id": "EN_EIUUHo6Uc"
      },
      "source": [
        "**Training the model**"
      ]
    },
    {
      "cell_type": "markdown",
      "metadata": {
        "id": "SnHLH5BGt0va"
      },
      "source": [
        "**ANN(Artificial Neural Network)**"
      ]
    },
    {
      "cell_type": "code",
      "metadata": {
        "id": "y0jchkbEtzZY"
      },
      "source": [
        "ann = models.Sequential([\n",
        "        layers.Flatten(input_shape=(32,32,3)),\n",
        "        layers.Dense(3000, activation='relu'),\n",
        "        layers.Dense(1000, activation='relu'),\n",
        "        layers.Dense(10, activation='sigmoid')    \n",
        "    ])\n",
        "\n",
        "ann.compile(optimizer='SGD',\n",
        "              loss='sparse_categorical_crossentropy',\n",
        "              metrics=['accuracy'])\n",
        "\n",
        "ann.fit(X_train, y_train, epochs=5)"
      ],
      "execution_count": null,
      "outputs": []
    },
    {
      "cell_type": "markdown",
      "metadata": {
        "id": "XBFaMTI3t6TU"
      },
      "source": [
        "**CNN(Convolutional Neural Network)**"
      ]
    },
    {
      "cell_type": "code",
      "metadata": {
        "id": "lc5XNXLdycO8"
      },
      "source": [
        "cnn = models.Sequential([\n",
        "    layers.Conv2D(filters=32, kernel_size=(3, 3),activation='relu', input_shape=(32, 32, 3)),\n",
        "    layers.MaxPooling2D((2, 2)),\n",
        "    \n",
        "    layers.Conv2D(filters=64, kernel_size=(3, 3), activation='relu'),\n",
        "    layers.MaxPooling2D((2, 2)),\n",
        "\n",
        "    layers.Conv2D(filters=192, kernel_size=(3, 3), activation='relu'),\n",
        "    layers.MaxPooling2D((2, 2)),   \n",
        "    \n",
        "    layers.Flatten(),\n",
        "    layers.Dense(64, activation='relu'),\n",
        "    layers.Dense(10, activation='softmax')\n",
        "])"
      ],
      "execution_count": 8,
      "outputs": []
    },
    {
      "cell_type": "markdown",
      "metadata": {
        "id": "orRih4DrpkLY"
      },
      "source": [
        " **Model summary**"
      ]
    },
    {
      "cell_type": "code",
      "metadata": {
        "id": "kY9Pkk5fpnj4"
      },
      "source": [
        "cnn.summary()"
      ],
      "execution_count": null,
      "outputs": []
    },
    {
      "cell_type": "code",
      "metadata": {
        "id": "s6HdmaMEyemm"
      },
      "source": [
        "cnn.compile(\n",
        "              loss='sparse_categorical_crossentropy',\n",
        "              metrics=['accuracy'])"
      ],
      "execution_count": 9,
      "outputs": []
    },
    {
      "cell_type": "code",
      "metadata": {
        "colab": {
          "base_uri": "https://localhost:8080/"
        },
        "id": "2_Fm7xgVyhrr",
        "outputId": "410d754b-62e1-4365-f01b-cb10f1d55361"
      },
      "source": [
        "cnn.fit(X_train, y_train, epochs=20)"
      ],
      "execution_count": 10,
      "outputs": [
        {
          "output_type": "stream",
          "text": [
            "Epoch 1/20\n",
            "1563/1563 [==============================] - 70s 44ms/step - loss: 1.7794 - accuracy: 0.3445\n",
            "Epoch 2/20\n",
            "1563/1563 [==============================] - 69s 44ms/step - loss: 1.1410 - accuracy: 0.5959\n",
            "Epoch 3/20\n",
            "1563/1563 [==============================] - 68s 44ms/step - loss: 0.9397 - accuracy: 0.6729\n",
            "Epoch 4/20\n",
            "1563/1563 [==============================] - 68s 44ms/step - loss: 0.7916 - accuracy: 0.7248\n",
            "Epoch 5/20\n",
            "1563/1563 [==============================] - 68s 44ms/step - loss: 0.7030 - accuracy: 0.7571\n",
            "Epoch 6/20\n",
            "1563/1563 [==============================] - 68s 43ms/step - loss: 0.6142 - accuracy: 0.7877\n",
            "Epoch 7/20\n",
            "1563/1563 [==============================] - 68s 44ms/step - loss: 0.5505 - accuracy: 0.8107\n",
            "Epoch 8/20\n",
            "1563/1563 [==============================] - 68s 43ms/step - loss: 0.4799 - accuracy: 0.8351\n",
            "Epoch 9/20\n",
            "1563/1563 [==============================] - 68s 43ms/step - loss: 0.4372 - accuracy: 0.8471\n",
            "Epoch 10/20\n",
            "1563/1563 [==============================] - 68s 43ms/step - loss: 0.4041 - accuracy: 0.8602\n",
            "Epoch 11/20\n",
            "1563/1563 [==============================] - 68s 43ms/step - loss: 0.3561 - accuracy: 0.8755\n",
            "Epoch 12/20\n",
            "1563/1563 [==============================] - 68s 43ms/step - loss: 0.3344 - accuracy: 0.8863\n",
            "Epoch 13/20\n",
            "1563/1563 [==============================] - 68s 44ms/step - loss: 0.3235 - accuracy: 0.8891\n",
            "Epoch 14/20\n",
            "1563/1563 [==============================] - 68s 44ms/step - loss: 0.3015 - accuracy: 0.8968\n",
            "Epoch 15/20\n",
            "1563/1563 [==============================] - 69s 44ms/step - loss: 0.2902 - accuracy: 0.9028\n",
            "Epoch 16/20\n",
            "1563/1563 [==============================] - 68s 44ms/step - loss: 0.2773 - accuracy: 0.9073\n",
            "Epoch 17/20\n",
            "1563/1563 [==============================] - 68s 44ms/step - loss: 0.2771 - accuracy: 0.9073\n",
            "Epoch 18/20\n",
            "1563/1563 [==============================] - 69s 44ms/step - loss: 0.2803 - accuracy: 0.9107\n",
            "Epoch 19/20\n",
            "1563/1563 [==============================] - 69s 44ms/step - loss: 0.2673 - accuracy: 0.9127\n",
            "Epoch 20/20\n",
            "1563/1563 [==============================] - 69s 44ms/step - loss: 0.2766 - accuracy: 0.9122\n"
          ],
          "name": "stdout"
        },
        {
          "output_type": "execute_result",
          "data": {
            "text/plain": [
              "<tensorflow.python.keras.callbacks.History at 0x7ff98bfa5a10>"
            ]
          },
          "metadata": {
            "tags": []
          },
          "execution_count": 10
        }
      ]
    },
    {
      "cell_type": "markdown",
      "metadata": {
        "id": "3heWMs5-o-cp"
      },
      "source": [
        "**Score**"
      ]
    },
    {
      "cell_type": "code",
      "metadata": {
        "colab": {
          "base_uri": "https://localhost:8080/"
        },
        "id": "rmUoICdlykQh",
        "outputId": "8c221fad-9b3a-4dd8-8d74-861c6ea5967d"
      },
      "source": [
        "score = cnn.evaluate(X_test,y_test)\n",
        "print(score*100)"
      ],
      "execution_count": 11,
      "outputs": [
        {
          "output_type": "stream",
          "text": [
            "313/313 [==============================] - 4s 13ms/step - loss: 1.6520 - accuracy: 0.7080\n"
          ],
          "name": "stdout"
        },
        {
          "output_type": "execute_result",
          "data": {
            "text/plain": [
              "[1.651957392692566, 0.7080000042915344]"
            ]
          },
          "metadata": {
            "tags": []
          },
          "execution_count": 11
        }
      ]
    },
    {
      "cell_type": "markdown",
      "metadata": {
        "id": "ZEUUXRYtpKRa"
      },
      "source": [
        "**Classification report ie score on each class and final score**"
      ]
    },
    {
      "cell_type": "code",
      "metadata": {
        "id": "E0jelGrvpMb9"
      },
      "source": [
        "y_pred = cnn.predict(X_test)\n",
        "y_pred_class = [np.argmax(element) for element in y_pred]\n",
        "\n",
        "print(\"Classification Report: \\n\", classification_report(y_test, y_pred_class))"
      ],
      "execution_count": null,
      "outputs": []
    }
  ]
}