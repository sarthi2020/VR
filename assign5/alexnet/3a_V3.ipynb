{
 "cells": [
  {
   "cell_type": "markdown",
   "metadata": {
    "id": "aKHXY9DJqDPH"
   },
   "source": [
    "**Alexnet implementation with adaptive learning rates and momentum**"
   ]
  },
  {
   "cell_type": "code",
   "execution_count": 1,
   "metadata": {
    "id": "_02I8fr7rAOW"
   },
   "outputs": [],
   "source": [
    "import tensorflow as tf\n",
    "from tensorflow.keras import datasets, layers, models\n",
    "import matplotlib.pyplot as plt\n",
    "import numpy as np\n",
    "from keras.optimizers import SGD\n",
    "import time"
   ]
  },
  {
   "cell_type": "markdown",
   "metadata": {
    "id": "LoNOIIWZqL2U"
   },
   "source": [
    "**Loading the dataset**"
   ]
  },
  {
   "cell_type": "code",
   "execution_count": 2,
   "metadata": {
    "colab": {
     "base_uri": "https://localhost:8080/"
    },
    "id": "6JLyJRUlrDbT",
    "outputId": "3f3863e2-7e6c-4fae-8c4d-e2c79d2c6e2d"
   },
   "outputs": [
    {
     "name": "stdout",
     "output_type": "stream",
     "text": [
      "Downloading data from https://www.cs.toronto.edu/~kriz/cifar-10-python.tar.gz\n",
      "170500096/170498071 [==============================] - 2s 0us/step\n"
     ]
    },
    {
     "data": {
      "text/plain": [
       "(50000, 32, 32, 3)"
      ]
     },
     "execution_count": 2,
     "metadata": {
      "tags": []
     },
     "output_type": "execute_result"
    }
   ],
   "source": [
    "(X_train, y_train), (X_test,y_test) = datasets.cifar10.load_data()\n",
    "X_train.shape"
   ]
  },
  {
   "cell_type": "code",
   "execution_count": 3,
   "metadata": {
    "id": "FDe5D2tbrFca"
   },
   "outputs": [],
   "source": [
    "y_train = y_train.reshape(-1,)\n",
    "y_test = y_test.reshape(-1,)"
   ]
  },
  {
   "cell_type": "code",
   "execution_count": 4,
   "metadata": {
    "id": "q3PdOoxRrHqI"
   },
   "outputs": [],
   "source": [
    "classes = [\"airplane\",\"automobile\",\"bird\",\"cat\",\"deer\",\"dog\",\"frog\",\"horse\",\"ship\",\"truck\"]"
   ]
  },
  {
   "cell_type": "markdown",
   "metadata": {
    "id": "pksUVpmhqPdt"
   },
   "source": [
    "**Visualizing images**"
   ]
  },
  {
   "cell_type": "code",
   "execution_count": 5,
   "metadata": {
    "id": "cgssnDpQrNLj"
   },
   "outputs": [],
   "source": [
    "def plot_sample(X, y, index):\n",
    "    plt.figure(figsize = (15,2))\n",
    "    plt.imshow(X[index])\n",
    "    plt.xlabel(classes[y[index]])"
   ]
  },
  {
   "cell_type": "markdown",
   "metadata": {
    "id": "gZA0wHpcqeYX"
   },
   "source": [
    "**Normalising the dataset**"
   ]
  },
  {
   "cell_type": "code",
   "execution_count": 6,
   "metadata": {
    "id": "WRxETaUUrNzE"
   },
   "outputs": [],
   "source": [
    "X_train = X_train / 255.0\n",
    "X_test = X_test / 255.0"
   ]
  },
  {
   "cell_type": "markdown",
   "metadata": {
    "id": "5stXkrF3qjXp"
   },
   "source": [
    "**Training the model**"
   ]
  },
  {
   "cell_type": "code",
   "execution_count": 26,
   "metadata": {
    "id": "ePsOuxQwrQFE"
   },
   "outputs": [],
   "source": [
    "cnn = models.Sequential([\n",
    "    layers.Conv2D(filters=32, kernel_size=(3, 3),activation='relu', input_shape=(32, 32, 3)),\n",
    "    layers.BatchNormalization(),\n",
    "    layers.MaxPooling2D((2, 2)),\n",
    "    layers.Dropout(0.2),\n",
    "    \n",
    "    layers.Conv2D(filters=64, kernel_size=(3, 3), activation='relu'),\n",
    "    layers.BatchNormalization(),\n",
    "    layers.MaxPooling2D((2, 2)),\n",
    "    layers.Dropout(0.3),\n",
    "\n",
    "    layers.Conv2D(filters=192, kernel_size=(3, 3), activation='relu'),\n",
    "    layers.BatchNormalization(),\n",
    "    layers.MaxPooling2D((2, 2)),\n",
    "    layers.Dropout(0.4),\n",
    "    \n",
    "    layers.Flatten(),\n",
    "    layers.Dense(64, activation='relu'),\n",
    "    layers.BatchNormalization(),\n",
    "    layers.Dense(10, activation='softmax')\n",
    "])"
   ]
  },
  {
   "cell_type": "markdown",
   "metadata": {
    "id": "yyo_fapGqncY"
   },
   "source": [
    "**Model summary**"
   ]
  },
  {
   "cell_type": "code",
   "execution_count": null,
   "metadata": {
    "id": "-Ajt_sZrqpaz"
   },
   "outputs": [],
   "source": [
    "cnn.summary()"
   ]
  },
  {
   "cell_type": "code",
   "execution_count": 27,
   "metadata": {
    "id": "3JmHl6sKrTzy"
   },
   "outputs": [],
   "source": [
    "cnn.compile(optimizer=SGD(learning_rate=0.1, momentum=0.9),\n",
    "              loss='sparse_categorical_crossentropy',\n",
    "              metrics=['accuracy'])"
   ]
  },
  {
   "cell_type": "code",
   "execution_count": 28,
   "metadata": {
    "colab": {
     "base_uri": "https://localhost:8080/"
    },
    "id": "FahXz28MrXYi",
    "outputId": "40c2806e-f880-4990-c5af-d7bde243f9fe"
   },
   "outputs": [
    {
     "name": "stdout",
     "output_type": "stream",
     "text": [
      "Epoch 1/20\n",
      "1563/1563 [==============================] - 105s 67ms/step - loss: 1.7804 - accuracy: 0.3553\n",
      "Epoch 2/20\n",
      "1563/1563 [==============================] - 104s 67ms/step - loss: 1.3768 - accuracy: 0.5089\n",
      "Epoch 3/20\n",
      "1563/1563 [==============================] - 103s 66ms/step - loss: 1.2556 - accuracy: 0.5595\n",
      "Epoch 4/20\n",
      "1563/1563 [==============================] - 103s 66ms/step - loss: 1.1923 - accuracy: 0.5808\n",
      "Epoch 5/20\n",
      "1563/1563 [==============================] - 103s 66ms/step - loss: 1.1482 - accuracy: 0.5986\n",
      "Epoch 6/20\n",
      "1563/1563 [==============================] - 105s 67ms/step - loss: 1.1046 - accuracy: 0.6162\n",
      "Epoch 7/20\n",
      "1563/1563 [==============================] - 102s 65ms/step - loss: 1.0688 - accuracy: 0.6269\n",
      "Epoch 8/20\n",
      "1563/1563 [==============================] - 101s 65ms/step - loss: 1.0358 - accuracy: 0.6414\n",
      "Epoch 9/20\n",
      "1563/1563 [==============================] - 100s 64ms/step - loss: 1.0091 - accuracy: 0.6477\n",
      "Epoch 10/20\n",
      "1563/1563 [==============================] - 101s 64ms/step - loss: 0.9928 - accuracy: 0.6533\n",
      "Epoch 11/20\n",
      "1563/1563 [==============================] - 101s 65ms/step - loss: 0.9750 - accuracy: 0.6601\n",
      "Epoch 12/20\n",
      "1563/1563 [==============================] - 101s 65ms/step - loss: 0.9556 - accuracy: 0.6718\n",
      "Epoch 13/20\n",
      "1563/1563 [==============================] - 101s 65ms/step - loss: 0.9377 - accuracy: 0.6745\n",
      "Epoch 14/20\n",
      "1563/1563 [==============================] - 101s 65ms/step - loss: 0.9246 - accuracy: 0.6797\n",
      "Epoch 15/20\n",
      "1563/1563 [==============================] - 101s 65ms/step - loss: 0.9033 - accuracy: 0.6852\n",
      "Epoch 16/20\n",
      "1563/1563 [==============================] - 102s 65ms/step - loss: 0.8958 - accuracy: 0.6914\n",
      "Epoch 17/20\n",
      "1563/1563 [==============================] - 102s 65ms/step - loss: 0.8870 - accuracy: 0.6943\n",
      "Epoch 18/20\n",
      "1563/1563 [==============================] - 102s 65ms/step - loss: 0.8699 - accuracy: 0.6991\n",
      "Epoch 19/20\n",
      "1563/1563 [==============================] - 101s 65ms/step - loss: 0.8723 - accuracy: 0.6958\n",
      "Epoch 20/20\n",
      "1563/1563 [==============================] - 102s 65ms/step - loss: 0.8583 - accuracy: 0.7062\n"
     ]
    },
    {
     "data": {
      "text/plain": [
       "<tensorflow.python.keras.callbacks.History at 0x7f9c2e650410>"
      ]
     },
     "execution_count": 28,
     "metadata": {
      "tags": []
     },
     "output_type": "execute_result"
    }
   ],
   "source": [
    "start_time = time.time() \n",
    "cnn.fit(X_train, y_train, epochs=20)\n",
    "end_time = time.time()\n",
    "time_taken = end_time - start_time\n",
    "print('Time taken:',time_taken)    "
   ]
  },
  {
   "cell_type": "markdown",
   "metadata": {
    "id": "soPCDhddqyW0"
   },
   "source": [
    "**Score**"
   ]
  },
  {
   "cell_type": "code",
   "execution_count": 29,
   "metadata": {
    "colab": {
     "base_uri": "https://localhost:8080/"
    },
    "id": "wUikCQwFrZlm",
    "outputId": "a33db959-cf3f-4126-832e-cce799f9b8c1"
   },
   "outputs": [
    {
     "name": "stdout",
     "output_type": "stream",
     "text": [
      "313/313 [==============================] - 6s 17ms/step - loss: 0.7912 - accuracy: 0.7273\n"
     ]
    },
    {
     "data": {
      "text/plain": [
       "[0.7911699414253235, 0.7272999882698059]"
      ]
     },
     "execution_count": 29,
     "metadata": {
      "tags": []
     },
     "output_type": "execute_result"
    }
   ],
   "source": [
    "cnn.evaluate(X_test,y_test)"
   ]
  },
  {
   "cell_type": "markdown",
   "metadata": {
    "id": "cVA_Zu3kq2Wg"
   },
   "source": [
    "**Classification report ie score on each class and final score**"
   ]
  },
  {
   "cell_type": "code",
   "execution_count": 30,
   "metadata": {
    "colab": {
     "base_uri": "https://localhost:8080/"
    },
    "id": "HDhzfcmLrdFP",
    "outputId": "13ee607f-b2c5-46ef-faee-fcf37f24e1ef"
   },
   "outputs": [
    {
     "name": "stdout",
     "output_type": "stream",
     "text": [
      "Classification Report: \n",
      "               precision    recall  f1-score   support\n",
      "\n",
      "           0       0.85      0.69      0.76      1000\n",
      "           1       0.88      0.86      0.87      1000\n",
      "           2       0.67      0.54      0.60      1000\n",
      "           3       0.52      0.66      0.58      1000\n",
      "           4       0.50      0.88      0.64      1000\n",
      "           5       0.74      0.56      0.64      1000\n",
      "           6       0.84      0.77      0.80      1000\n",
      "           7       0.85      0.67      0.75      1000\n",
      "           8       0.83      0.85      0.84      1000\n",
      "           9       0.88      0.80      0.84      1000\n",
      "\n",
      "    accuracy                           0.73     10000\n",
      "   macro avg       0.76      0.73      0.73     10000\n",
      "weighted avg       0.76      0.73      0.73     10000\n",
      "\n"
     ]
    }
   ],
   "source": [
    "from sklearn.metrics import confusion_matrix , classification_report\n",
    "import numpy as np\n",
    "y_pred = cnn.predict(X_test)\n",
    "y_pred_classes = [np.argmax(element) for element in y_pred]\n",
    "\n",
    "print(\"Classification Report: \\n\", classification_report(y_test, y_pred_classes))"
   ]
  }
 ],
 "metadata": {
  "colab": {
   "collapsed_sections": [],
   "name": "Untitled12.ipynb",
   "provenance": []
  },
  "kernelspec": {
   "display_name": "Python 3",
   "language": "python",
   "name": "python3"
  },
  "language_info": {
   "codemirror_mode": {
    "name": "ipython",
    "version": 3
   },
   "file_extension": ".py",
   "mimetype": "text/x-python",
   "name": "python",
   "nbconvert_exporter": "python",
   "pygments_lexer": "ipython3",
   "version": "3.6.10"
  }
 },
 "nbformat": 4,
 "nbformat_minor": 1
}
